{
 "cells": [
  {
   "cell_type": "markdown",
   "id": "a7aa7dff",
   "metadata": {
    "papermill": {
     "duration": 0.005959,
     "end_time": "2025-04-18T18:40:17.846984",
     "exception": false,
     "start_time": "2025-04-18T18:40:17.841025",
     "status": "completed"
    },
    "tags": []
   },
   "source": [
    "# 🗺️ AI-Venture: GenAI-Powered Travel Companion!\n",
    "***\n",
    "An intelligent trip planner that generates personalized travel itineraries, recommends accommodations and experiences, and answers user queries — enhanced with Google Gemini.\n",
    "\n",
    "## ✅ <u>Problem Statement<u>\n",
    "Traveling should be fun—not stressful. But planning trips is often difficult without a tour guide or broker, and hiring one can be expensive.  \n",
    "Searching online for motels, food, and attractions is time-consuming and may not match your preferences. ** ***drumrolls please*** ** AI-Venture's here to save the day!\n",
    "\n",
    "## 💡 <u>Solution<u>\n",
    "**AI-Venture** is an AI-powered travel planner built using **Gemini API**. It helps users plan:\n",
    "- Personalized itineraries\n",
    "- Stay within a specific budget\n",
    "- Explore great local attractions and food\n",
    "\n",
    "## 🤖 <u>Gen AI Capabilities Demonstrated<u>\n",
    "- 🗺️ **Few-Shot Prompting** to guide Gemini to respond like a personalized travel planner.  \n",
    "- 🧩 **Structured Output (JSON)** — Parsing results for clarity  \n",
    "- 🧭 **Function Calling** via Gemini for itinerary generation (budget, distance, time constraints).\n",
    "- 📄 **Retrieval-Augmented Generation (RAG)** to enable document-based Q&A from PDFs (guides, brochures).\n",
    "- 🔍 **Embeddings + Vector Search (FAISS)** for accurate and fast retrieval from travel docs."
   ]
  },
  {
   "cell_type": "markdown",
   "id": "fa31f0ed",
   "metadata": {
    "papermill": {
     "duration": 0.00429,
     "end_time": "2025-04-18T18:40:17.856348",
     "exception": false,
     "start_time": "2025-04-18T18:40:17.852058",
     "status": "completed"
    },
    "tags": []
   },
   "source": [
    "## 📦 Install Dependencies:\n",
    "***"
   ]
  },
  {
   "cell_type": "code",
   "execution_count": 1,
   "id": "58827742",
   "metadata": {
    "execution": {
     "iopub.execute_input": "2025-04-18T18:40:17.866812Z",
     "iopub.status.busy": "2025-04-18T18:40:17.866489Z",
     "iopub.status.idle": "2025-04-18T18:40:43.808774Z",
     "shell.execute_reply": "2025-04-18T18:40:43.807708Z"
    },
    "papermill": {
     "duration": 25.949753,
     "end_time": "2025-04-18T18:40:43.810768",
     "exception": false,
     "start_time": "2025-04-18T18:40:17.861015",
     "status": "completed"
    },
    "tags": []
   },
   "outputs": [
    {
     "name": "stdout",
     "output_type": "stream",
     "text": [
      "\u001b[2K   \u001b[90m━━━━━━━━━━━━━━━━━━━━━━━━━━━━━━━━━━━━━━━━\u001b[0m \u001b[32m155.4/155.4 kB\u001b[0m \u001b[31m3.4 MB/s\u001b[0m eta \u001b[36m0:00:00\u001b[0m\r\n",
      "\u001b[2K   \u001b[90m━━━━━━━━━━━━━━━━━━━━━━━━━━━━━━━━━━━━━━━━\u001b[0m \u001b[32m20.0/20.0 MB\u001b[0m \u001b[31m66.2 MB/s\u001b[0m eta \u001b[36m0:00:00\u001b[0m\r\n",
      "\u001b[2K   \u001b[90m━━━━━━━━━━━━━━━━━━━━━━━━━━━━━━━━━━━━━━━━\u001b[0m \u001b[32m30.7/30.7 MB\u001b[0m \u001b[31m47.5 MB/s\u001b[0m eta \u001b[36m0:00:00\u001b[0m\r\n",
      "\u001b[?25h"
     ]
    }
   ],
   "source": [
    "!pip install -q -U google-generativeai PyMuPDF faiss-cpu"
   ]
  },
  {
   "cell_type": "markdown",
   "id": "e6652e07",
   "metadata": {
    "papermill": {
     "duration": 0.005104,
     "end_time": "2025-04-18T18:40:43.821814",
     "exception": false,
     "start_time": "2025-04-18T18:40:43.816710",
     "status": "completed"
    },
    "tags": []
   },
   "source": [
    "## 📚 Import Libraries:\n",
    "***"
   ]
  },
  {
   "cell_type": "code",
   "execution_count": 2,
   "id": "46aca40a",
   "metadata": {
    "execution": {
     "iopub.execute_input": "2025-04-18T18:40:43.834066Z",
     "iopub.status.busy": "2025-04-18T18:40:43.833693Z",
     "iopub.status.idle": "2025-04-18T18:40:48.217145Z",
     "shell.execute_reply": "2025-04-18T18:40:48.216389Z"
    },
    "papermill": {
     "duration": 4.391883,
     "end_time": "2025-04-18T18:40:48.219001",
     "exception": false,
     "start_time": "2025-04-18T18:40:43.827118",
     "status": "completed"
    },
    "tags": []
   },
   "outputs": [],
   "source": [
    "import google.generativeai as genai\n",
    "import os\n",
    "import pandas as pd\n",
    "import fitz  \n",
    "import faiss\n",
    "import json\n",
    "import numpy as np\n",
    "import re\n",
    "from IPython.display import Markdown, display"
   ]
  },
  {
   "cell_type": "markdown",
   "id": "3a18e810",
   "metadata": {
    "papermill": {
     "duration": 0.005117,
     "end_time": "2025-04-18T18:40:48.229809",
     "exception": false,
     "start_time": "2025-04-18T18:40:48.224692",
     "status": "completed"
    },
    "tags": []
   },
   "source": [
    "## 🔐 API Key Setup:\n",
    "***"
   ]
  },
  {
   "cell_type": "code",
   "execution_count": 3,
   "id": "106c8c94",
   "metadata": {
    "execution": {
     "iopub.execute_input": "2025-04-18T18:40:48.242115Z",
     "iopub.status.busy": "2025-04-18T18:40:48.241609Z",
     "iopub.status.idle": "2025-04-18T18:40:48.350253Z",
     "shell.execute_reply": "2025-04-18T18:40:48.349237Z"
    },
    "papermill": {
     "duration": 0.117065,
     "end_time": "2025-04-18T18:40:48.352230",
     "exception": false,
     "start_time": "2025-04-18T18:40:48.235165",
     "status": "completed"
    },
    "tags": []
   },
   "outputs": [],
   "source": [
    "from kaggle_secrets import UserSecretsClient\n",
    "GOOGLE_API_KEY = UserSecretsClient().get_secret(\"GOOGLE_API_KEY\")\n",
    "\n",
    "# Set your Gemini API key\n",
    "genai.configure(api_key=GOOGLE_API_KEY)\n",
    "\n",
    "# Create a model instance\n",
    "model = genai.GenerativeModel(\"gemini-2.0-flash\")"
   ]
  },
  {
   "cell_type": "markdown",
   "id": "a6208cdb",
   "metadata": {
    "papermill": {
     "duration": 0.00511,
     "end_time": "2025-04-18T18:40:48.363520",
     "exception": false,
     "start_time": "2025-04-18T18:40:48.358410",
     "status": "completed"
    },
    "tags": []
   },
   "source": [
    "## Define Dataframes/Database:\n",
    "\n",
    "We’ll manually define ..."
   ]
  },
  {
   "cell_type": "code",
   "execution_count": 4,
   "id": "eed4b31e",
   "metadata": {
    "execution": {
     "iopub.execute_input": "2025-04-18T18:40:48.376301Z",
     "iopub.status.busy": "2025-04-18T18:40:48.375927Z",
     "iopub.status.idle": "2025-04-18T18:40:48.525695Z",
     "shell.execute_reply": "2025-04-18T18:40:48.524658Z"
    },
    "papermill": {
     "duration": 0.158683,
     "end_time": "2025-04-18T18:40:48.527507",
     "exception": false,
     "start_time": "2025-04-18T18:40:48.368824",
     "status": "completed"
    },
    "tags": []
   },
   "outputs": [],
   "source": [
    "# Sample motels, restaurants, attractions\n",
    "motels = pd.DataFrame([\n",
    "    # Paris\n",
    "    {\"name\": \"Cozy Inn\", \"location\": \"Paris\", \"price_per_night\": 45, \"rating\": 4.2},\n",
    "    {\"name\": \"Budget Stay\", \"location\": \"Paris\", \"price_per_night\": 30, \"rating\": 3.8},\n",
    "    {\"name\": \"Chic Rooms\", \"location\": \"Paris\", \"price_per_night\": 65, \"rating\": 4.5},\n",
    "\n",
    "    # Rome\n",
    "    {\"name\": \"Rome Comfort Hotel\", \"location\": \"Rome\", \"price_per_night\": 50, \"rating\": 4.0},\n",
    "    {\"name\": \"Trastevere Budget Inn\", \"location\": \"Rome\", \"price_per_night\": 35, \"rating\": 3.7},\n",
    "    {\"name\": \"Hotel Bella Roma\", \"location\": \"Rome\", \"price_per_night\": 60, \"rating\": 4.3},\n",
    "\n",
    "    # Berlin\n",
    "    {\"name\": \"Berlin Central Stay\", \"location\": \"Berlin\", \"price_per_night\": 48, \"rating\": 4.1},\n",
    "    {\"name\": \"Budget Lodge Berlin\", \"location\": \"Berlin\", \"price_per_night\": 32, \"rating\": 3.9},\n",
    "    {\"name\": \"Checkpoint Hostel\", \"location\": \"Berlin\", \"price_per_night\": 27, \"rating\": 3.6},\n",
    "\n",
    "    # Barcelona\n",
    "    {\"name\": \"Barcelona Breeze\", \"location\": \"Barcelona\", \"price_per_night\": 55, \"rating\": 4.4},\n",
    "    {\"name\": \"La Rambla Inn\", \"location\": \"Barcelona\", \"price_per_night\": 40, \"rating\": 4.0},\n",
    "    {\"name\": \"El Centro Lodge\", \"location\": \"Barcelona\", \"price_per_night\": 33, \"rating\": 3.8}\n",
    "])\n",
    "\n",
    "restaurants = pd.DataFrame([\n",
    "    # Paris\n",
    "    {\"name\": \"Veggie Delight\", \"location\": \"Paris\", \"type\": \"Vegetarian\", \"price_range\": \"Low\"},\n",
    "    {\"name\": \"Cafe Royale\", \"location\": \"Paris\", \"type\": \"Cafe\", \"price_range\": \"Medium\"},\n",
    "    {\"name\": \"Seafood Heaven\", \"location\": \"Paris\", \"type\": \"Seafood\", \"price_range\": \"High\"},\n",
    "\n",
    "    # Rome\n",
    "    {\"name\": \"Pasta Fresca\", \"location\": \"Rome\", \"type\": \"Italian\", \"price_range\": \"Medium\"},\n",
    "    {\"name\": \"Vegan Vibe\", \"location\": \"Rome\", \"type\": \"Vegetarian\", \"price_range\": \"Low\"},\n",
    "    {\"name\": \"Trattoria Romano\", \"location\": \"Rome\", \"type\": \"Traditional\", \"price_range\": \"High\"},\n",
    "\n",
    "    # Berlin\n",
    "    {\"name\": \"Berlin Bites\", \"location\": \"Berlin\", \"type\": \"Fast Food\", \"price_range\": \"Low\"},\n",
    "    {\"name\": \"Wurst Haus\", \"location\": \"Berlin\", \"type\": \"German\", \"price_range\": \"Medium\"},\n",
    "    {\"name\": \"Green Eats\", \"location\": \"Berlin\", \"type\": \"Vegan\", \"price_range\": \"Low\"},\n",
    "\n",
    "    # Barcelona\n",
    "    {\"name\": \"Tapas Town\", \"location\": \"Barcelona\", \"type\": \"Tapas\", \"price_range\": \"Medium\"},\n",
    "    {\"name\": \"La Veggiera\", \"location\": \"Barcelona\", \"type\": \"Vegetarian\", \"price_range\": \"Low\"},\n",
    "    {\"name\": \"Mar y Sol\", \"location\": \"Barcelona\", \"type\": \"Seafood\", \"price_range\": \"High\"}\n",
    "])\n",
    "\n",
    "attractions = pd.DataFrame([\n",
    "    # Paris\n",
    "    {\"name\": \"Eiffel Tower\", \"location\": \"Paris\", \"type\": \"Landmark\", \"duration\": \"2 hours\"},\n",
    "    {\"name\": \"Louvre Museum\", \"location\": \"Paris\", \"type\": \"Museum\", \"duration\": \"3 hours\"},\n",
    "    {\"name\": \"Seine River Cruise\", \"location\": \"Paris\", \"type\": \"Experience\", \"duration\": \"1.5 hours\"},\n",
    "\n",
    "    # Rome\n",
    "    {\"name\": \"Colosseum\", \"location\": \"Rome\", \"type\": \"Landmark\", \"duration\": \"2 hours\"},\n",
    "    {\"name\": \"Vatican Museums\", \"location\": \"Rome\", \"type\": \"Museum\", \"duration\": \"3 hours\"},\n",
    "    {\"name\": \"Trevi Fountain\", \"location\": \"Rome\", \"type\": \"Landmark\", \"duration\": \"1 hour\"},\n",
    "\n",
    "    # Berlin\n",
    "    {\"name\": \"Brandenburg Gate\", \"location\": \"Berlin\", \"type\": \"Landmark\", \"duration\": \"1 hour\"},\n",
    "    {\"name\": \"Pergamon Museum\", \"location\": \"Berlin\", \"type\": \"Museum\", \"duration\": \"2.5 hours\"},\n",
    "    {\"name\": \"Berlin Wall Memorial\", \"location\": \"Berlin\", \"type\": \"Historical\", \"duration\": \"1.5 hours\"},\n",
    "\n",
    "    # Barcelona\n",
    "    {\"name\": \"Sagrada Familia\", \"location\": \"Barcelona\", \"type\": \"Landmark\", \"duration\": \"2 hours\"},\n",
    "    {\"name\": \"Park Güell\", \"location\": \"Barcelona\", \"type\": \"Experience\", \"duration\": \"1.5 hours\"},\n",
    "    {\"name\": \"Picasso Museum\", \"location\": \"Barcelona\", \"type\": \"Museum\", \"duration\": \"2 hours\"}\n",
    "])"
   ]
  },
  {
   "cell_type": "markdown",
   "id": "9edfd6f1",
   "metadata": {
    "papermill": {
     "duration": 0.005562,
     "end_time": "2025-04-18T18:40:48.541788",
     "exception": false,
     "start_time": "2025-04-18T18:40:48.536226",
     "status": "completed"
    },
    "tags": []
   },
   "source": [
    "## 🧠 Step 2: Teaching the AI with Examples (Few-Shot Prompting)\n",
    "\n",
    "We’re going to provide a few example inputs and desired outputs.  \n",
    "This helps Gemini understand what a “good itinerary” looks like.\n",
    "\n",
    "We use:\n",
    "- Example input/output\n",
    "- User's input at the end\n",
    "- Ask Gemini to respond **only in JSON**"
   ]
  },
  {
   "cell_type": "code",
   "execution_count": 5,
   "id": "76500b41",
   "metadata": {
    "execution": {
     "iopub.execute_input": "2025-04-18T18:40:48.554145Z",
     "iopub.status.busy": "2025-04-18T18:40:48.553815Z",
     "iopub.status.idle": "2025-04-18T18:40:48.559903Z",
     "shell.execute_reply": "2025-04-18T18:40:48.558658Z"
    },
    "papermill": {
     "duration": 0.014168,
     "end_time": "2025-04-18T18:40:48.561421",
     "exception": false,
     "start_time": "2025-04-18T18:40:48.547253",
     "status": "completed"
    },
    "tags": []
   },
   "outputs": [],
   "source": [
    "# Function to build the few-shot prompt for the model\n",
    "def build_few_shot_prompt(user):\n",
    "    return f\"\"\"\n",
    "You are a travel planner assistant. Based on the user's input, generate a {user[\"days\"]}-day travel itinerary in JSON format.\n",
    "\n",
    "Instructions:\n",
    "- Recommend motels, attractions, and restaurants that match the user's preferences.\n",
    "- Stay strictly within the total budget (in USD).\n",
    "- Keep each day's total cost proportional to the total budget.\n",
    "- Include estimated cost breakdowns (in USD) for:\n",
    "  - Motel\n",
    "  - Food\n",
    "  - Attraction entrance fees (if applicable)\n",
    "- Mention attraction durations where useful.\n",
    "- **Do not use tildes (~) anywhere.**\n",
    "- Respond in clean, readable JSON only (no explanations).\n",
    "- Follow this structure exactly.\n",
    "\n",
    "Example:\n",
    "\n",
    "User: {{\n",
    "  \"name\": \"Aarav\",\n",
    "  \"destination\": \"Tokyo\",\n",
    "  \"days\": 2,\n",
    "  \"budget\": 150,\n",
    "  \"preferences\": {{\n",
    "    \"food\": \"Vegetarian\",\n",
    "    \"interests\": [\"Museum\", \"Cultural\"]\n",
    "  }}\n",
    "}}\n",
    "\n",
    "Response:\n",
    "{{\n",
    "  \"day_1\": {{\n",
    "    \"attractions\": [\n",
    "      \"Tokyo National Museum (Entry approx. $7, Duration: 2 hrs)\",\n",
    "      \"Asakusa Shrine (Free, Duration: 1 hr)\"\n",
    "    ],\n",
    "    \"restaurant\": \"Veggie Sora (Estimated around $14)\",\n",
    "    \"motel\": \"Tokyo Budget Inn (Estimated around $28/night)\",\n",
    "    \"total_cost\": 70\n",
    "  }},\n",
    "  \"day_2\": {{\n",
    "    \"attractions\": [\n",
    "      \"Meiji Shrine (Free, Duration: 1.5 hrs)\",\n",
    "      \"Ueno Park (Free, Duration: 1 hr)\"\n",
    "    ],\n",
    "    \"restaurant\": \"Green Table Tokyo (Estimated around $14)\",\n",
    "    \"motel\": \"Tokyo Budget Inn (Estimated around $28/night)\",\n",
    "    \"total_cost\": 70\n",
    "  }},\n",
    "  \"notes\": \"Remaining $10 can be used for transport or snacks.\"\n",
    "}}\n",
    "\n",
    "Now generate for this user:\n",
    "\n",
    "User: {json.dumps(user, indent=2)}\n",
    "Response:\n",
    "\"\"\""
   ]
  },
  {
   "cell_type": "markdown",
   "id": "53d33be0",
   "metadata": {
    "papermill": {
     "duration": 0.005361,
     "end_time": "2025-04-18T18:40:48.572466",
     "exception": false,
     "start_time": "2025-04-18T18:40:48.567105",
     "status": "completed"
    },
    "tags": []
   },
   "source": [
    "## 🧳 Step 3: Enter Your Travel Preferences\n",
    "\n",
    "You can change this JSON script below 👇🏼 to create your own trip. Modify:\n",
    "- `destination`\n",
    "- `days`\n",
    "- `budget`\n",
    "- `food` type\n",
    "- `interests`\n",
    "\n",
    "Then run the cells below to generate your own travel plan!"
   ]
  },
  {
   "cell_type": "code",
   "execution_count": 6,
   "id": "db0f03a9",
   "metadata": {
    "execution": {
     "iopub.execute_input": "2025-04-18T18:40:48.584842Z",
     "iopub.status.busy": "2025-04-18T18:40:48.584523Z",
     "iopub.status.idle": "2025-04-18T18:40:48.589021Z",
     "shell.execute_reply": "2025-04-18T18:40:48.588410Z"
    },
    "papermill": {
     "duration": 0.012625,
     "end_time": "2025-04-18T18:40:48.590528",
     "exception": false,
     "start_time": "2025-04-18T18:40:48.577903",
     "status": "completed"
    },
    "tags": []
   },
   "outputs": [],
   "source": [
    "# Example user travel preferences\n",
    "user_input = {\n",
    "    \"name\": \"John\",\n",
    "    \"destination\": \"Paris\",\n",
    "    \"days\": 2,\n",
    "    \"budget\": 200,\n",
    "    \"preferences\": {\n",
    "        \"food\": \"Vegetarian\",\n",
    "        \"interests\": [\"Landmark\", \"Museum\"]\n",
    "    }\n",
    "}"
   ]
  },
  {
   "cell_type": "code",
   "execution_count": 7,
   "id": "8944aa70",
   "metadata": {
    "execution": {
     "iopub.execute_input": "2025-04-18T18:40:48.602853Z",
     "iopub.status.busy": "2025-04-18T18:40:48.602543Z",
     "iopub.status.idle": "2025-04-18T18:40:50.478015Z",
     "shell.execute_reply": "2025-04-18T18:40:50.477073Z"
    },
    "papermill": {
     "duration": 1.884043,
     "end_time": "2025-04-18T18:40:50.480143",
     "exception": false,
     "start_time": "2025-04-18T18:40:48.596100",
     "status": "completed"
    },
    "tags": []
   },
   "outputs": [
    {
     "name": "stdout",
     "output_type": "stream",
     "text": [
      "```json\n",
      "{\n",
      "  \"day_1\": {\n",
      "    \"attractions\": [\n",
      "      \"Eiffel Tower (Entry approx. $30, Duration: 2 hrs)\",\n",
      "      \"Louvre Museum (Entry approx. $20, Duration: 3 hrs)\"\n",
      "    ],\n",
      "    \"restaurant\": \"Le Grenier de Notre-Dame (Vegetarian options, Estimated around $25)\",\n",
      "    \"motel\": \"Hotel Parisian (Estimated around $35/night)\",\n",
      "    \"total_cost\": 110\n",
      "  },\n",
      "  \"day_2\": {\n",
      "    \"attractions\": [\n",
      "      \"Arc de Triomphe (Entry approx. $15, Duration: 1 hr)\",\n",
      "      \"Sainte-Chapelle (Entry approx. $12, Duration: 1.5 hrs)\"\n",
      "    ],\n",
      "    \"restaurant\": \"L'Arpege (Vegetarian tasting menu available, Estimated around $30)\",\n",
      "    \"motel\": \"Hotel Parisian (Estimated around $35/night)\",\n",
      "    \"total_cost\": 92\n",
      "  },\n",
      "  \"notes\": \"Consider purchasing a travel pass for transport to save on individual tickets. Prices are estimates and may vary.\"\n",
      "}\n",
      "```\n"
     ]
    }
   ],
   "source": [
    "prompt = build_few_shot_prompt(user_input)\n",
    "\n",
    "response = model.generate_content(prompt)\n",
    "\n",
    "# Print raw response\n",
    "print(response.text)"
   ]
  },
  {
   "cell_type": "markdown",
   "id": "b50e4ef8",
   "metadata": {
    "papermill": {
     "duration": 0.006324,
     "end_time": "2025-04-18T18:40:50.492462",
     "exception": false,
     "start_time": "2025-04-18T18:40:50.486138",
     "status": "completed"
    },
    "tags": []
   },
   "source": [
    "## 🗓️ Step 4: View Your Personalized Itinerary\n",
    "\n",
    "Gemini replies in JSON format. We’ll parse it and display:\n",
    "- Attractions\n",
    "- Motels\n",
    "- Restaurants\n",
    "- Estimated cost\n",
    "- Notes / Tips"
   ]
  },
  {
   "cell_type": "code",
   "execution_count": 8,
   "id": "10aff541",
   "metadata": {
    "execution": {
     "iopub.execute_input": "2025-04-18T18:40:50.505566Z",
     "iopub.status.busy": "2025-04-18T18:40:50.505147Z",
     "iopub.status.idle": "2025-04-18T18:40:50.536893Z",
     "shell.execute_reply": "2025-04-18T18:40:50.535970Z"
    },
    "papermill": {
     "duration": 0.040298,
     "end_time": "2025-04-18T18:40:50.538479",
     "exception": false,
     "start_time": "2025-04-18T18:40:50.498181",
     "status": "completed"
    },
    "tags": []
   },
   "outputs": [
    {
     "data": {
      "text/markdown": [
       "## ✈️| Travel Itinerary"
      ],
      "text/plain": [
       "<IPython.core.display.Markdown object>"
      ]
     },
     "metadata": {},
     "output_type": "display_data"
    },
    {
     "data": {
      "text/markdown": [
       "### 🗓️ Day 1"
      ],
      "text/plain": [
       "<IPython.core.display.Markdown object>"
      ]
     },
     "metadata": {},
     "output_type": "display_data"
    },
    {
     "data": {
      "text/markdown": [
       "- 🗽 **Attractions:** Eiffel Tower (Entry approx. $30, Duration: 2 hrs), Louvre Museum (Entry approx. $20, Duration: 3 hrs)"
      ],
      "text/plain": [
       "<IPython.core.display.Markdown object>"
      ]
     },
     "metadata": {},
     "output_type": "display_data"
    },
    {
     "data": {
      "text/markdown": [
       "- 🍽️ **Restaurant:** Le Grenier de Notre-Dame (Vegetarian options, Estimated around $25)"
      ],
      "text/plain": [
       "<IPython.core.display.Markdown object>"
      ]
     },
     "metadata": {},
     "output_type": "display_data"
    },
    {
     "data": {
      "text/markdown": [
       "- 🛏️ **Motel:** Hotel Parisian (Estimated around $35/night)"
      ],
      "text/plain": [
       "<IPython.core.display.Markdown object>"
      ]
     },
     "metadata": {},
     "output_type": "display_data"
    },
    {
     "data": {
      "text/markdown": [
       "- 💰 **Estimated Cost:** $110"
      ],
      "text/plain": [
       "<IPython.core.display.Markdown object>"
      ]
     },
     "metadata": {},
     "output_type": "display_data"
    },
    {
     "data": {
      "text/markdown": [
       "### 🗓️ Day 2"
      ],
      "text/plain": [
       "<IPython.core.display.Markdown object>"
      ]
     },
     "metadata": {},
     "output_type": "display_data"
    },
    {
     "data": {
      "text/markdown": [
       "- 🗽 **Attractions:** Arc de Triomphe (Entry approx. $15, Duration: 1 hr), Sainte-Chapelle (Entry approx. $12, Duration: 1.5 hrs)"
      ],
      "text/plain": [
       "<IPython.core.display.Markdown object>"
      ]
     },
     "metadata": {},
     "output_type": "display_data"
    },
    {
     "data": {
      "text/markdown": [
       "- 🍽️ **Restaurant:** L'Arpege (Vegetarian tasting menu available, Estimated around $30)"
      ],
      "text/plain": [
       "<IPython.core.display.Markdown object>"
      ]
     },
     "metadata": {},
     "output_type": "display_data"
    },
    {
     "data": {
      "text/markdown": [
       "- 🛏️ **Motel:** Hotel Parisian (Estimated around $35/night)"
      ],
      "text/plain": [
       "<IPython.core.display.Markdown object>"
      ]
     },
     "metadata": {},
     "output_type": "display_data"
    },
    {
     "data": {
      "text/markdown": [
       "- 💰 **Estimated Cost:** $92"
      ],
      "text/plain": [
       "<IPython.core.display.Markdown object>"
      ]
     },
     "metadata": {},
     "output_type": "display_data"
    },
    {
     "data": {
      "text/markdown": [
       "**📝 Notes:** Consider purchasing a travel pass for transport to save on individual tickets. Prices are estimates and may vary."
      ],
      "text/plain": [
       "<IPython.core.display.Markdown object>"
      ]
     },
     "metadata": {},
     "output_type": "display_data"
    },
    {
     "data": {
      "text/markdown": [
       "### 💸 **Total Estimated Trip Cost:** $202"
      ],
      "text/plain": [
       "<IPython.core.display.Markdown object>"
      ]
     },
     "metadata": {},
     "output_type": "display_data"
    },
    {
     "data": {
      "text/markdown": [
       "⚠️ **Over Budget by:** $2"
      ],
      "text/plain": [
       "<IPython.core.display.Markdown object>"
      ]
     },
     "metadata": {},
     "output_type": "display_data"
    }
   ],
   "source": [
    "# Function to escape markdown-sensitive characters (still useful for other fields)\n",
    "def clean_for_markdown(text):\n",
    "    text = text.replace(\"_\", \"\\\\_\")\n",
    "    text = text.replace(\"~\", \"\\\\~\")\n",
    "    text = text.replace(\"*\", \"\\\\*\")\n",
    "    text = text.replace(\"`\", \"\\\\`\")\n",
    "    text = re.sub(r\"([a-z])([A-Z])\", r\"\\1 \\2\", text)\n",
    "    return text\n",
    "\n",
    "try:\n",
    "    # Remove ```json or ``` if present\n",
    "    cleaned_text = re.sub(r\"^```(?:json)?|```$\", \"\", response.text.strip(), flags=re.MULTILINE).strip()\n",
    "    cleaned_text = cleaned_text.replace(\"“\", \"\\\"\").replace(\"”\", \"\\\"\").replace(\"’\", \"'\")\n",
    "\n",
    "    itinerary = json.loads(cleaned_text)\n",
    "\n",
    "    display(Markdown(\"## ✈️| Travel Itinerary\"))\n",
    "\n",
    "    total_cost = 0\n",
    "\n",
    "    for day, plan in itinerary.items():\n",
    "        if day.startswith(\"day\"):\n",
    "            # Replace underscores with spaces and title-case the label\n",
    "            day_label = day.replace(\"_\", \" \").title()  # \"day_1\" → \"Day 1\"\n",
    "            display(Markdown(f\"### 🗓️ {day_label}\"))\n",
    "\n",
    "            # Clean each element to escape markdown characters\n",
    "            parsed_attractions = [clean_for_markdown(attraction) for attraction in plan[\"attractions\"]]\n",
    "            parsed_restaurant = clean_for_markdown(plan[\"restaurant\"])\n",
    "            parsed_motel = clean_for_markdown(plan[\"motel\"])\n",
    "\n",
    "            # Display\n",
    "            display(Markdown(f\"- 🗽 **Attractions:** {', '.join(parsed_attractions)}\"))\n",
    "            display(Markdown(f\"- 🍽️ **Restaurant:** {parsed_restaurant}\"))\n",
    "            display(Markdown(f\"- 🛏️ **Motel:** {parsed_motel}\"))\n",
    "            display(Markdown(f\"- 💰 **Estimated Cost:** ${plan['total_cost']}\"))\n",
    "            total_cost += plan[\"total_cost\"]\n",
    "\n",
    "        elif day == \"notes\":\n",
    "            display(Markdown(f\"**📝 Notes:** {clean_for_markdown(plan)}\"))\n",
    "\n",
    "    # Final budget summary\n",
    "    display(Markdown(f\"### 💸 **Total Estimated Trip Cost:** ${total_cost}\"))\n",
    "    remaining = user_input[\"budget\"] - total_cost\n",
    "\n",
    "    if remaining > 0:\n",
    "        display(Markdown(f\"✅ **Remaining Budget:** ${remaining}\"))\n",
    "    elif remaining < 0:\n",
    "        display(Markdown(f\"⚠️ **Over Budget by:** ${-remaining}\"))\n",
    "    else:\n",
    "        display(Markdown(\"📎 **Used the entire budget perfectly!**\"))\n",
    "\n",
    "except Exception as e:\n",
    "    print(\"❌ Could not parse response as JSON:\", e)\n",
    "    print(\"Raw response:\\n\", response.text)"
   ]
  },
  {
   "cell_type": "markdown",
   "id": "592187b2",
   "metadata": {
    "papermill": {
     "duration": 0.006519,
     "end_time": "2025-04-18T18:40:50.552425",
     "exception": false,
     "start_time": "2025-04-18T18:40:50.545906",
     "status": "completed"
    },
    "tags": []
   },
   "source": [
    "## 🔧 Step 5: Function Calling with Gemini\n",
    "\n",
    "Gemini can now *intelligently decide* which Python function to call, based on user queries.\n",
    "\n",
    "We’ll define:\n",
    "- 🔍 A `find_motels` function for matching budget, location\n",
    "- 🍽️ A `find_restaurants` function based on food type\n",
    "- 🎢 A `find_attractions` function based on interests\n",
    "\n",
    "Let’s empower Gemini to become a truly interactive travel assistant!"
   ]
  },
  {
   "cell_type": "code",
   "execution_count": 9,
   "id": "0ad7a6f6",
   "metadata": {
    "execution": {
     "iopub.execute_input": "2025-04-18T18:40:50.567196Z",
     "iopub.status.busy": "2025-04-18T18:40:50.566884Z",
     "iopub.status.idle": "2025-04-18T18:40:50.572914Z",
     "shell.execute_reply": "2025-04-18T18:40:50.572145Z"
    },
    "papermill": {
     "duration": 0.0152,
     "end_time": "2025-04-18T18:40:50.574329",
     "exception": false,
     "start_time": "2025-04-18T18:40:50.559129",
     "status": "completed"
    },
    "tags": []
   },
   "outputs": [],
   "source": [
    "# Functions Gemini can call\n",
    "\n",
    "def find_motels(location: str, max_price: float):\n",
    "    return motels[(motels[\"location\"] == location) & (motels[\"price_per_night\"] <= max_price)].to_dict(orient=\"records\")\n",
    "\n",
    "def find_restaurants(location: str, food_type: str):\n",
    "    return restaurants[(restaurants[\"location\"] == location) & (restaurants[\"type\"].str.contains(food_type, case=False))].to_dict(orient=\"records\")\n",
    "\n",
    "def find_attractions(location: str, interest_type: str):\n",
    "    return attractions[(attractions[\"location\"] == location) & (attractions[\"type\"].str.contains(interest_type, case=False))].to_dict(orient=\"records\")"
   ]
  },
  {
   "cell_type": "markdown",
   "id": "66d91ef1",
   "metadata": {
    "papermill": {
     "duration": 0.006568,
     "end_time": "2025-04-18T18:40:50.587713",
     "exception": false,
     "start_time": "2025-04-18T18:40:50.581145",
     "status": "completed"
    },
    "tags": []
   },
   "source": [
    "## 📄 Step 6: Define the Function Schema for Gemini\n",
    "\n",
    "Here we define the function names, descriptions, and parameters Gemini can use to choose what to call. These are sent to Gemini as metadata."
   ]
  },
  {
   "cell_type": "code",
   "execution_count": 10,
   "id": "edf4d479",
   "metadata": {
    "execution": {
     "iopub.execute_input": "2025-04-18T18:40:50.602656Z",
     "iopub.status.busy": "2025-04-18T18:40:50.602287Z",
     "iopub.status.idle": "2025-04-18T18:40:50.607719Z",
     "shell.execute_reply": "2025-04-18T18:40:50.606714Z"
    },
    "papermill": {
     "duration": 0.014585,
     "end_time": "2025-04-18T18:40:50.609159",
     "exception": false,
     "start_time": "2025-04-18T18:40:50.594574",
     "status": "completed"
    },
    "tags": []
   },
   "outputs": [
    {
     "name": "stdout",
     "output_type": "stream",
     "text": [
      "Type of attractions: <class 'pandas.core.frame.DataFrame'>\n"
     ]
    }
   ],
   "source": [
    "print(\"Type of attractions:\", type(attractions))"
   ]
  },
  {
   "cell_type": "code",
   "execution_count": 11,
   "id": "ac942ef4",
   "metadata": {
    "execution": {
     "iopub.execute_input": "2025-04-18T18:40:50.624582Z",
     "iopub.status.busy": "2025-04-18T18:40:50.624224Z",
     "iopub.status.idle": "2025-04-18T18:40:50.630548Z",
     "shell.execute_reply": "2025-04-18T18:40:50.629431Z"
    },
    "papermill": {
     "duration": 0.01608,
     "end_time": "2025-04-18T18:40:50.632163",
     "exception": false,
     "start_time": "2025-04-18T18:40:50.616083",
     "status": "completed"
    },
    "tags": []
   },
   "outputs": [],
   "source": [
    "functions = [\n",
    "    {\n",
    "        \"name\": \"find_motels\",\n",
    "        \"description\": \"Find budget motels in a specific location.\",\n",
    "        \"parameters\": {\n",
    "            \"type\": \"object\",\n",
    "            \"properties\": {\n",
    "                \"location\": {\"type\": \"string\"},\n",
    "                \"max_price\": {\"type\": \"number\"}\n",
    "            },\n",
    "            \"required\": [\"location\", \"max_price\"]\n",
    "        }\n",
    "    },\n",
    "    {\n",
    "        \"name\": \"find_restaurants\",\n",
    "        \"description\": \"Find restaurants by location and food type.\",\n",
    "        \"parameters\": {\n",
    "            \"type\": \"object\",\n",
    "            \"properties\": {\n",
    "                \"location\": {\"type\": \"string\"},\n",
    "                \"food_type\": {\"type\": \"string\"}\n",
    "            },\n",
    "            \"required\": [\"location\", \"food_type\"]\n",
    "        }\n",
    "    },\n",
    "    {\n",
    "        \"name\": \"find_attractions\",\n",
    "        \"description\": \"Find attractions by location and interest type.\",\n",
    "        \"parameters\": {\n",
    "            \"type\": \"object\",\n",
    "            \"properties\": {\n",
    "                \"location\": {\"type\": \"string\"},\n",
    "                \"interest_type\": {\"type\": \"string\"}\n",
    "            },\n",
    "            \"required\": [\"location\", \"interest_type\"]\n",
    "        }\n",
    "    }\n",
    "]"
   ]
  },
  {
   "cell_type": "markdown",
   "id": "b4478706",
   "metadata": {
    "papermill": {
     "duration": 0.006674,
     "end_time": "2025-04-18T18:40:50.645612",
     "exception": false,
     "start_time": "2025-04-18T18:40:50.638938",
     "status": "completed"
    },
    "tags": []
   },
   "source": [
    "## 🧠 Step 7: Load Gemini Model with Function Calling Enabled"
   ]
  },
  {
   "cell_type": "code",
   "execution_count": 12,
   "id": "2a1c32a4",
   "metadata": {
    "execution": {
     "iopub.execute_input": "2025-04-18T18:40:50.660539Z",
     "iopub.status.busy": "2025-04-18T18:40:50.660152Z",
     "iopub.status.idle": "2025-04-18T18:40:50.666441Z",
     "shell.execute_reply": "2025-04-18T18:40:50.665268Z"
    },
    "papermill": {
     "duration": 0.015506,
     "end_time": "2025-04-18T18:40:50.667935",
     "exception": false,
     "start_time": "2025-04-18T18:40:50.652429",
     "status": "completed"
    },
    "tags": []
   },
   "outputs": [],
   "source": [
    "model_fc = genai.GenerativeModel(\n",
    "    model_name=\"gemini-1.5-flash\",\n",
    "    tools=[{\"function_declarations\": functions}]\n",
    ")"
   ]
  },
  {
   "cell_type": "markdown",
   "id": "9385e7e2",
   "metadata": {
    "papermill": {
     "duration": 0.006645,
     "end_time": "2025-04-18T18:40:50.681485",
     "exception": false,
     "start_time": "2025-04-18T18:40:50.674840",
     "status": "completed"
    },
    "tags": []
   },
   "source": [
    "## 💬 Step 8: Ask Your Custom Travel Query!\n",
    "\n",
    "Try asking things like:\n",
    "- “Show me motels in Paris under $50”\n",
    "- “Find vegetarian restaurants in Paris”\n",
    "- “What museums can I visit in Paris?”\n",
    "\n",
    "Gemini will choose the right function automatically!\n",
    "\n",
    "### 🔧 How to Make the Code Interactive\n",
    "\n",
    "To make the query interactive, uncomment the line containing `input()` below. This will prompt you to enter your own travel query when you run the cell.\n",
    "\n",
    "By default, it’s set to a sample query. If you want to test it with your own query, simply uncomment the line and run the cell again.\n",
    "\n",
    "Example:\n",
    "```python\n",
    "### user_query = input(\"💬 Enter your travel query: \")  # Uncomment this line for interactive input"
   ]
  },
  {
   "cell_type": "markdown",
   "id": "b121ffe0",
   "metadata": {
    "papermill": {
     "duration": 0.006549,
     "end_time": "2025-04-18T18:40:50.694689",
     "exception": false,
     "start_time": "2025-04-18T18:40:50.688140",
     "status": "completed"
    },
    "tags": []
   },
   "source": [
    "⚠️ **Note for Kaggle Users: Save Without Crashes**\n",
    "\n",
    "This cell block below uses `input()` and Gemini chat, which will throw an error if you click **\"Save & Run All\"** in Kaggle.\n",
    "\n",
    "To avoid this, use the `RUN_GEMINI_QUERY` flag below:\n",
    "\n",
    "- Set `RUN_GEMINI_QUERY = False` to skip chat logic when saving.\n",
    "- Set `RUN_GEMINI_QUERY = True` to run and test the chatbot.\n",
    "\n",
    "Only run the chatbot **manually**, not during \"Save & Run All\"."
   ]
  },
  {
   "cell_type": "code",
   "execution_count": 13,
   "id": "2706cf71",
   "metadata": {
    "execution": {
     "iopub.execute_input": "2025-04-18T18:40:50.709826Z",
     "iopub.status.busy": "2025-04-18T18:40:50.709225Z",
     "iopub.status.idle": "2025-04-18T18:40:50.717857Z",
     "shell.execute_reply": "2025-04-18T18:40:50.717104Z"
    },
    "papermill": {
     "duration": 0.017903,
     "end_time": "2025-04-18T18:40:50.719393",
     "exception": false,
     "start_time": "2025-04-18T18:40:50.701490",
     "status": "completed"
    },
    "tags": []
   },
   "outputs": [],
   "source": [
    "RUN_GEMINI_QUERY = False  # 👈 Change to True to test Gemini chat\n",
    "\n",
    "# 🔄 Gemini Chat Start (Guarded by flag)\n",
    "if RUN_GEMINI_QUERY:\n",
    "    chat = model_fc.start_chat()\n",
    "\n",
    "    # 🔄 Interactive Query\n",
    "    user_query = \"What museums can I visit in Paris?\"  # Default query\n",
    "    # user_query = input(\"💬 Enter your travel query: \")  # Uncomment for interactive input\n",
    "\n",
    "    # Send it to Gemini\n",
    "    response = chat.send_message(user_query)\n",
    "\n",
    "    if response.candidates[0].content.parts:\n",
    "        result = response.candidates[0].content.parts[0].function_call\n",
    "        print(\"🧠 Function to Call:\", result.name)\n",
    "\n",
    "        # Convert args to dict (Safe fix for notebook)\n",
    "        try:\n",
    "            args_dict = {k: v for k, v in result.args.items()}\n",
    "            print(\"📦 Arguments:\", args_dict)\n",
    "        except Exception as e:\n",
    "            print(f\"❌ Error converting arguments: {e}\")\n",
    "            args_dict = {}\n",
    "\n",
    "        # Call the corresponding Python function\n",
    "        if result.name == \"find_motels\":\n",
    "            output = find_motels(**args_dict)\n",
    "        elif result.name == \"find_restaurants\":\n",
    "            output = find_restaurants(**args_dict)\n",
    "        elif result.name == \"find_attractions\":\n",
    "            output = find_attractions(**args_dict)\n",
    "        else:\n",
    "            output = []\n",
    "\n",
    "        # Display results\n",
    "        if output:\n",
    "            print(\"🔎 Gemini's Results:\")\n",
    "            for i, entry in enumerate(output, 1):\n",
    "                print(f\"\\nResult #{i}\")\n",
    "                for k, v in entry.items():\n",
    "                    print(f\"- {k.capitalize()}: {v}\")\n",
    "        else:\n",
    "            print(\"🤷 No matching results found.\")\n",
    "    else:\n",
    "        print(\"❌ Gemini didn’t suggest a function to call.\")"
   ]
  }
 ],
 "metadata": {
  "kaggle": {
   "accelerator": "none",
   "dataSources": [
    {
     "sourceId": 97258,
     "sourceType": "competition"
    }
   ],
   "dockerImageVersionId": 31012,
   "isGpuEnabled": false,
   "isInternetEnabled": true,
   "language": "python",
   "sourceType": "notebook"
  },
  "kernelspec": {
   "display_name": "Python 3",
   "language": "python",
   "name": "python3"
  },
  "language_info": {
   "codemirror_mode": {
    "name": "ipython",
    "version": 3
   },
   "file_extension": ".py",
   "mimetype": "text/x-python",
   "name": "python",
   "nbconvert_exporter": "python",
   "pygments_lexer": "ipython3",
   "version": "3.11.11"
  },
  "papermill": {
   "default_parameters": {},
   "duration": 41.223584,
   "end_time": "2025-04-18T18:40:53.931285",
   "environment_variables": {},
   "exception": null,
   "input_path": "__notebook__.ipynb",
   "output_path": "__notebook__.ipynb",
   "parameters": {},
   "start_time": "2025-04-18T18:40:12.707701",
   "version": "2.6.0"
  }
 },
 "nbformat": 4,
 "nbformat_minor": 5
}

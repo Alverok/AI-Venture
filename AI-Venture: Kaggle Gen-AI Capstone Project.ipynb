{
 "cells": [
  {
   "cell_type": "markdown",
   "id": "900f6037",
   "metadata": {
    "papermill": {
     "duration": 0.001718,
     "end_time": "2025-04-18T17:06:14.032052",
     "exception": false,
     "start_time": "2025-04-18T17:06:14.030334",
     "status": "completed"
    },
    "tags": []
   },
   "source": [
    "# 🗺️ WanderWise: AI-Powered Travel Companion\n",
    "\n",
    "## ✅ Problem Statement\n",
    "Traveling should be fun—not stressful. But planning trips is often difficult without a tour guide or broker, and hiring one can be expensive.  \n",
    "Searching online for motels, food, and attractions is time-consuming and may not match your preferences.\n",
    "\n",
    "## 💡 Solution\n",
    "**WanderWise** is an AI-powered travel planner built using **Gemini API**. It helps users plan:\n",
    "- Personalized itineraries\n",
    "- Stay within a specific budget\n",
    "- Explore great local attractions and food\n",
    "\n",
    "## 🤖 Gen AI Capabilities Demonstrated\n",
    "1. **Few-shot Prompting** — Teaching the model with examples  \n",
    "2. **Structured Output (JSON)** — Parsing results for clarity  \n",
    "3. **Function Calling** — Smart retrieval from our database for targeted travel questions"
   ]
  }
 ],
 "metadata": {
  "kaggle": {
   "accelerator": "none",
   "dataSources": [
    {
     "sourceId": 97258,
     "sourceType": "competition"
    }
   ],
   "isGpuEnabled": false,
   "isInternetEnabled": true,
   "language": "python",
   "sourceType": "notebook"
  },
  "kernelspec": {
   "display_name": "Python 3",
   "language": "python",
   "name": "python3"
  },
  "language_info": {
   "codemirror_mode": {
    "name": "ipython",
    "version": 3
   },
   "file_extension": ".py",
   "mimetype": "text/x-python",
   "name": "python",
   "nbconvert_exporter": "python",
   "pygments_lexer": "ipython3",
   "version": "3.11.11"
  },
  "papermill": {
   "default_parameters": {},
   "duration": 5.126922,
   "end_time": "2025-04-18T17:06:14.452890",
   "environment_variables": {},
   "exception": null,
   "input_path": "__notebook__.ipynb",
   "output_path": "__notebook__.ipynb",
   "parameters": {},
   "start_time": "2025-04-18T17:06:09.325968",
   "version": "2.6.0"
  }
 },
 "nbformat": 4,
 "nbformat_minor": 5
}

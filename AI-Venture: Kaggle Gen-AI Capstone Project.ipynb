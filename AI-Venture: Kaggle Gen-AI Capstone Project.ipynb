{
 "cells": [
  {
   "cell_type": "markdown",
   "id": "4b83dff2",
   "metadata": {
    "papermill": {
     "duration": 0.006271,
     "end_time": "2025-04-19T14:27:06.114300",
     "exception": false,
     "start_time": "2025-04-19T14:27:06.108029",
     "status": "completed"
    },
    "tags": []
   },
   "source": [
    "# 🗺️ **AI-Venture: GenAI-Powered Travel Companion**\n",
    "---\n",
    "\n",
    "An intelligent trip planner that generates **personalized itineraries**, recommends accommodations and experiences, and answers user queries — enhanced with **Google Gemini**.\n",
    "\n",
    "---\n",
    "\n",
    "## ✅ _Problem Statement_\n",
    "\n",
    "Planning a trip should be exciting—not exhausting. But without a travel guide or broker, organizing a vacation becomes time-consuming and frustrating. Hiring a guide can be costly, and endless searching online doesn’t always match your preferences.\n",
    "\n",
    "**AI-Venture** is here to simplify it all with a smart, AI-driven solution.\n",
    "\n",
    "---\n",
    "\n",
    "## 💡 _Solution Overview_\n",
    "\n",
    "**AI-Venture** is an intelligent assistant that helps you:\n",
    "\n",
    "- Create tailored itineraries  \n",
    "- Stay within budget  \n",
    "- Discover local food, culture, and attractions  \n",
    "- Answer travel-related questions from uploaded brochures/guides  \n",
    "\n",
    "Built using **Google Gemini API**, it combines conversational AI, semantic search, and function-calling.\n",
    "\n",
    "---\n",
    "\n",
    "## 🔮 _Gen AI Capabilities Demonstrated_\n",
    "\n",
    "- 🧠 **Few-Shot Prompting**: Fine-tuned prompts to shape Gemini’s behavior.  \n",
    "- 📄 **Structured Output (JSON)**: Clean and readable parsed responses.  \n",
    "- 🧭 **Function Calling**: Generate personalized itineraries based on time, location, and budget.  \n",
    "- 📚 **Retrieval-Augmented Generation (RAG)**: Answer from uploaded PDFs and brochures.  \n",
    "- 🔍 **Embeddings + Vector Search (FAISS)**: Semantic search for relevant document chunks.\n",
    "\n",
    "---"
   ]
  },
  {
   "cell_type": "markdown",
   "id": "013ead6f",
   "metadata": {
    "papermill": {
     "duration": 0.005021,
     "end_time": "2025-04-19T14:27:06.124731",
     "exception": false,
     "start_time": "2025-04-19T14:27:06.119710",
     "status": "completed"
    },
    "tags": []
   },
   "source": [
    "## 📦 Environment Setup:\n",
    "Let's install all the necessary libraries for our project.\n",
    "\n",
    "---"
   ]
  },
  {
   "cell_type": "code",
   "execution_count": 1,
   "id": "189cad4c",
   "metadata": {
    "execution": {
     "iopub.execute_input": "2025-04-19T14:27:06.136275Z",
     "iopub.status.busy": "2025-04-19T14:27:06.135923Z",
     "iopub.status.idle": "2025-04-19T14:27:41.861277Z",
     "shell.execute_reply": "2025-04-19T14:27:41.860103Z"
    },
    "papermill": {
     "duration": 35.733122,
     "end_time": "2025-04-19T14:27:41.862993",
     "exception": false,
     "start_time": "2025-04-19T14:27:06.129871",
     "status": "completed"
    },
    "tags": []
   },
   "outputs": [
    {
     "name": "stdout",
     "output_type": "stream",
     "text": [
      "\u001b[2K   \u001b[90m━━━━━━━━━━━━━━━━━━━━━━━━━━━━━━━━━━━━━━━━\u001b[0m \u001b[32m155.4/155.4 kB\u001b[0m \u001b[31m5.0 MB/s\u001b[0m eta \u001b[36m0:00:00\u001b[0m\r\n",
      "\u001b[2K   \u001b[90m━━━━━━━━━━━━━━━━━━━━━━━━━━━━━━━━━━━━━━━━\u001b[0m \u001b[32m20.0/20.0 MB\u001b[0m \u001b[31m68.9 MB/s\u001b[0m eta \u001b[36m0:00:00\u001b[0m\r\n",
      "\u001b[2K   \u001b[90m━━━━━━━━━━━━━━━━━━━━━━━━━━━━━━━━━━━━━━━━\u001b[0m \u001b[32m30.7/30.7 MB\u001b[0m \u001b[31m49.9 MB/s\u001b[0m eta \u001b[36m0:00:00\u001b[0m\r\n",
      "\u001b[2K   \u001b[90m━━━━━━━━━━━━━━━━━━━━━━━━━━━━━━━━━━━━━━━━\u001b[0m \u001b[32m1.0/1.0 MB\u001b[0m \u001b[31m38.7 MB/s\u001b[0m eta \u001b[36m0:00:00\u001b[0m\r\n",
      "\u001b[2K   \u001b[90m━━━━━━━━━━━━━━━━━━━━━━━━━━━━━━━━━━━━━━━━\u001b[0m \u001b[32m46.9/46.9 MB\u001b[0m \u001b[31m32.2 MB/s\u001b[0m eta \u001b[36m0:00:00\u001b[0m\r\n",
      "\u001b[2K   \u001b[90m━━━━━━━━━━━━━━━━━━━━━━━━━━━━━━━━━━━━━━━━\u001b[0m \u001b[32m322.2/322.2 kB\u001b[0m \u001b[31m17.2 MB/s\u001b[0m eta \u001b[36m0:00:00\u001b[0m\r\n",
      "\u001b[2K   \u001b[90m━━━━━━━━━━━━━━━━━━━━━━━━━━━━━━━━━━━━━━━━\u001b[0m \u001b[32m232.6/232.6 kB\u001b[0m \u001b[31m12.9 MB/s\u001b[0m eta \u001b[36m0:00:00\u001b[0m\r\n",
      "\u001b[2K   \u001b[90m━━━━━━━━━━━━━━━━━━━━━━━━━━━━━━━━━━━━━━━━\u001b[0m \u001b[32m95.2/95.2 kB\u001b[0m \u001b[31m5.1 MB/s\u001b[0m eta \u001b[36m0:00:00\u001b[0m\r\n",
      "\u001b[2K   \u001b[90m━━━━━━━━━━━━━━━━━━━━━━━━━━━━━━━━━━━━━━━━\u001b[0m \u001b[32m433.9/433.9 kB\u001b[0m \u001b[31m22.6 MB/s\u001b[0m eta \u001b[36m0:00:00\u001b[0m\r\n",
      "\u001b[2K   \u001b[90m━━━━━━━━━━━━━━━━━━━━━━━━━━━━━━━━━━━━━━━━\u001b[0m \u001b[32m11.5/11.5 MB\u001b[0m \u001b[31m84.2 MB/s\u001b[0m eta \u001b[36m0:00:00\u001b[0m\r\n",
      "\u001b[2K   \u001b[90m━━━━━━━━━━━━━━━━━━━━━━━━━━━━━━━━━━━━━━━━\u001b[0m \u001b[32m72.0/72.0 kB\u001b[0m \u001b[31m4.1 MB/s\u001b[0m eta \u001b[36m0:00:00\u001b[0m\r\n",
      "\u001b[2K   \u001b[90m━━━━━━━━━━━━━━━━━━━━━━━━━━━━━━━━━━━━━━━━\u001b[0m \u001b[32m62.5/62.5 kB\u001b[0m \u001b[31m3.3 MB/s\u001b[0m eta \u001b[36m0:00:00\u001b[0m\r\n",
      "\u001b[?25h"
     ]
    }
   ],
   "source": [
    "!pip install -q -U google-generativeai PyMuPDF faiss-cpu langchain gradio pypdf2 tiktoken"
   ]
  },
  {
   "cell_type": "markdown",
   "id": "c5223a2e",
   "metadata": {
    "papermill": {
     "duration": 0.006546,
     "end_time": "2025-04-19T14:27:41.876972",
     "exception": false,
     "start_time": "2025-04-19T14:27:41.870426",
     "status": "completed"
    },
    "tags": []
   },
   "source": [
    "## 📚 Import Libraries:\n",
    "\n",
    "---"
   ]
  },
  {
   "cell_type": "code",
   "execution_count": 2,
   "id": "654199cc",
   "metadata": {
    "execution": {
     "iopub.execute_input": "2025-04-19T14:27:41.892359Z",
     "iopub.status.busy": "2025-04-19T14:27:41.892003Z",
     "iopub.status.idle": "2025-04-19T14:27:46.111052Z",
     "shell.execute_reply": "2025-04-19T14:27:46.110071Z"
    },
    "papermill": {
     "duration": 4.228911,
     "end_time": "2025-04-19T14:27:46.112842",
     "exception": false,
     "start_time": "2025-04-19T14:27:41.883931",
     "status": "completed"
    },
    "tags": []
   },
   "outputs": [],
   "source": [
    "import google.generativeai as genai\n",
    "import os\n",
    "import pandas as pd\n",
    "import fitz  \n",
    "import faiss\n",
    "import json\n",
    "import numpy as np\n",
    "import re\n",
    "from IPython.display import Markdown, display"
   ]
  },
  {
   "cell_type": "markdown",
   "id": "60a2e7ef",
   "metadata": {
    "papermill": {
     "duration": 0.006606,
     "end_time": "2025-04-19T14:27:46.126476",
     "exception": false,
     "start_time": "2025-04-19T14:27:46.119870",
     "status": "completed"
    },
    "tags": []
   },
   "source": [
    "## 🔐 API Key Setup:\n",
    "\n",
    "---\n",
    "Authenticate with your API key using:\n",
    "\n",
    "`import google.generativeai as genai\n",
    "genai.configure(api_key=\"your-key\")`\n",
    "\n",
    "Replace with your `GOOGLE_API_KEY` stored as an environment variable or secret."
   ]
  },
  {
   "cell_type": "code",
   "execution_count": 3,
   "id": "c6b994dd",
   "metadata": {
    "execution": {
     "iopub.execute_input": "2025-04-19T14:27:46.141947Z",
     "iopub.status.busy": "2025-04-19T14:27:46.141034Z",
     "iopub.status.idle": "2025-04-19T14:27:46.270115Z",
     "shell.execute_reply": "2025-04-19T14:27:46.269221Z"
    },
    "papermill": {
     "duration": 0.138444,
     "end_time": "2025-04-19T14:27:46.271785",
     "exception": false,
     "start_time": "2025-04-19T14:27:46.133341",
     "status": "completed"
    },
    "tags": []
   },
   "outputs": [],
   "source": [
    "from kaggle_secrets import UserSecretsClient\n",
    "GOOGLE_API_KEY = UserSecretsClient().get_secret(\"GOOGLE_API_KEY\")\n",
    "\n",
    "# Set your Gemini API key\n",
    "genai.configure(api_key=GOOGLE_API_KEY)\n",
    "\n",
    "# Create a model instance\n",
    "model = genai.GenerativeModel(\"gemini-2.0-flash\")"
   ]
  },
  {
   "cell_type": "markdown",
   "id": "668fbea4",
   "metadata": {
    "papermill": {
     "duration": 0.007201,
     "end_time": "2025-04-19T14:27:46.290046",
     "exception": false,
     "start_time": "2025-04-19T14:27:46.282845",
     "status": "completed"
    },
    "tags": []
   },
   "source": [
    "## 🗃️ Defining Dataframes/Database:\n",
    "---\n",
    "We’ll manually define motels, restaurants & attractions dataframes for AI to work with."
   ]
  },
  {
   "cell_type": "code",
   "execution_count": 4,
   "id": "0db74192",
   "metadata": {
    "execution": {
     "iopub.execute_input": "2025-04-19T14:27:46.305210Z",
     "iopub.status.busy": "2025-04-19T14:27:46.304815Z",
     "iopub.status.idle": "2025-04-19T14:27:46.454044Z",
     "shell.execute_reply": "2025-04-19T14:27:46.453229Z"
    },
    "papermill": {
     "duration": 0.158825,
     "end_time": "2025-04-19T14:27:46.455729",
     "exception": false,
     "start_time": "2025-04-19T14:27:46.296904",
     "status": "completed"
    },
    "tags": []
   },
   "outputs": [],
   "source": [
    "# Sample motels, restaurants, attractions\n",
    "motels = pd.DataFrame([\n",
    "    # Paris\n",
    "    {\"name\": \"Cozy Inn\", \"location\": \"Paris\", \"price_per_night\": 45, \"rating\": 4.2},\n",
    "    {\"name\": \"Budget Stay\", \"location\": \"Paris\", \"price_per_night\": 30, \"rating\": 3.8},\n",
    "    {\"name\": \"Chic Rooms\", \"location\": \"Paris\", \"price_per_night\": 65, \"rating\": 4.5},\n",
    "\n",
    "    # Rome\n",
    "    {\"name\": \"Rome Comfort Hotel\", \"location\": \"Rome\", \"price_per_night\": 50, \"rating\": 4.0},\n",
    "    {\"name\": \"Trastevere Budget Inn\", \"location\": \"Rome\", \"price_per_night\": 35, \"rating\": 3.7},\n",
    "    {\"name\": \"Hotel Bella Roma\", \"location\": \"Rome\", \"price_per_night\": 60, \"rating\": 4.3},\n",
    "\n",
    "    # Berlin\n",
    "    {\"name\": \"Berlin Central Stay\", \"location\": \"Berlin\", \"price_per_night\": 48, \"rating\": 4.1},\n",
    "    {\"name\": \"Budget Lodge Berlin\", \"location\": \"Berlin\", \"price_per_night\": 32, \"rating\": 3.9},\n",
    "    {\"name\": \"Checkpoint Hostel\", \"location\": \"Berlin\", \"price_per_night\": 27, \"rating\": 3.6},\n",
    "\n",
    "    # Barcelona\n",
    "    {\"name\": \"Barcelona Breeze\", \"location\": \"Barcelona\", \"price_per_night\": 55, \"rating\": 4.4},\n",
    "    {\"name\": \"La Rambla Inn\", \"location\": \"Barcelona\", \"price_per_night\": 40, \"rating\": 4.0},\n",
    "    {\"name\": \"El Centro Lodge\", \"location\": \"Barcelona\", \"price_per_night\": 33, \"rating\": 3.8}\n",
    "])\n",
    "\n",
    "restaurants = pd.DataFrame([\n",
    "    # Paris\n",
    "    {\"name\": \"Veggie Delight\", \"location\": \"Paris\", \"type\": \"Vegetarian\", \"price_range\": \"Low\"},\n",
    "    {\"name\": \"Cafe Royale\", \"location\": \"Paris\", \"type\": \"Cafe\", \"price_range\": \"Medium\"},\n",
    "    {\"name\": \"Seafood Heaven\", \"location\": \"Paris\", \"type\": \"Seafood\", \"price_range\": \"High\"},\n",
    "\n",
    "    # Rome\n",
    "    {\"name\": \"Pasta Fresca\", \"location\": \"Rome\", \"type\": \"Italian\", \"price_range\": \"Medium\"},\n",
    "    {\"name\": \"Vegan Vibe\", \"location\": \"Rome\", \"type\": \"Vegetarian\", \"price_range\": \"Low\"},\n",
    "    {\"name\": \"Trattoria Romano\", \"location\": \"Rome\", \"type\": \"Traditional\", \"price_range\": \"High\"},\n",
    "\n",
    "    # Berlin\n",
    "    {\"name\": \"Berlin Bites\", \"location\": \"Berlin\", \"type\": \"Fast Food\", \"price_range\": \"Low\"},\n",
    "    {\"name\": \"Wurst Haus\", \"location\": \"Berlin\", \"type\": \"German\", \"price_range\": \"Medium\"},\n",
    "    {\"name\": \"Green Eats\", \"location\": \"Berlin\", \"type\": \"Vegan\", \"price_range\": \"Low\"},\n",
    "\n",
    "    # Barcelona\n",
    "    {\"name\": \"Tapas Town\", \"location\": \"Barcelona\", \"type\": \"Tapas\", \"price_range\": \"Medium\"},\n",
    "    {\"name\": \"La Veggiera\", \"location\": \"Barcelona\", \"type\": \"Vegetarian\", \"price_range\": \"Low\"},\n",
    "    {\"name\": \"Mar y Sol\", \"location\": \"Barcelona\", \"type\": \"Seafood\", \"price_range\": \"High\"}\n",
    "])\n",
    "\n",
    "attractions = pd.DataFrame([\n",
    "    # Paris\n",
    "    {\"name\": \"Eiffel Tower\", \"location\": \"Paris\", \"type\": \"Landmark\", \"duration\": \"2 hours\"},\n",
    "    {\"name\": \"Louvre Museum\", \"location\": \"Paris\", \"type\": \"Museum\", \"duration\": \"3 hours\"},\n",
    "    {\"name\": \"Seine River Cruise\", \"location\": \"Paris\", \"type\": \"Experience\", \"duration\": \"1.5 hours\"},\n",
    "\n",
    "    # Rome\n",
    "    {\"name\": \"Colosseum\", \"location\": \"Rome\", \"type\": \"Landmark\", \"duration\": \"2 hours\"},\n",
    "    {\"name\": \"Vatican Museums\", \"location\": \"Rome\", \"type\": \"Museum\", \"duration\": \"3 hours\"},\n",
    "    {\"name\": \"Trevi Fountain\", \"location\": \"Rome\", \"type\": \"Landmark\", \"duration\": \"1 hour\"},\n",
    "\n",
    "    # Berlin\n",
    "    {\"name\": \"Brandenburg Gate\", \"location\": \"Berlin\", \"type\": \"Landmark\", \"duration\": \"1 hour\"},\n",
    "    {\"name\": \"Pergamon Museum\", \"location\": \"Berlin\", \"type\": \"Museum\", \"duration\": \"2.5 hours\"},\n",
    "    {\"name\": \"Berlin Wall Memorial\", \"location\": \"Berlin\", \"type\": \"Historical\", \"duration\": \"1.5 hours\"},\n",
    "\n",
    "    # Barcelona\n",
    "    {\"name\": \"Sagrada Familia\", \"location\": \"Barcelona\", \"type\": \"Landmark\", \"duration\": \"2 hours\"},\n",
    "    {\"name\": \"Park Güell\", \"location\": \"Barcelona\", \"type\": \"Experience\", \"duration\": \"1.5 hours\"},\n",
    "    {\"name\": \"Picasso Museum\", \"location\": \"Barcelona\", \"type\": \"Museum\", \"duration\": \"2 hours\"}\n",
    "])"
   ]
  },
  {
   "cell_type": "markdown",
   "id": "34b212de",
   "metadata": {
    "papermill": {
     "duration": 0.006869,
     "end_time": "2025-04-19T14:27:46.469767",
     "exception": false,
     "start_time": "2025-04-19T14:27:46.462898",
     "status": "completed"
    },
    "tags": []
   },
   "source": [
    "## 1. 🧠 Teaching the AI with Examples (Few-Shot Prompting)\n",
    "---\n",
    "We’re going to provide a few example inputs and desired outputs.  \n",
    "This helps Gemini understand what a “good itinerary” looks like.\n",
    "\n",
    "We use:\n",
    "- Example input/output\n",
    "- User's input at the end\n",
    "- Ask Gemini to respond **only in JSON**"
   ]
  },
  {
   "cell_type": "code",
   "execution_count": 5,
   "id": "b0cc34d7",
   "metadata": {
    "execution": {
     "iopub.execute_input": "2025-04-19T14:27:46.485486Z",
     "iopub.status.busy": "2025-04-19T14:27:46.485004Z",
     "iopub.status.idle": "2025-04-19T14:27:46.491229Z",
     "shell.execute_reply": "2025-04-19T14:27:46.490220Z"
    },
    "papermill": {
     "duration": 0.015615,
     "end_time": "2025-04-19T14:27:46.492770",
     "exception": false,
     "start_time": "2025-04-19T14:27:46.477155",
     "status": "completed"
    },
    "tags": []
   },
   "outputs": [],
   "source": [
    "# Function to build the few-shot prompt for the model\n",
    "def build_few_shot_prompt(user):\n",
    "    return f\"\"\"\n",
    "You are a travel planner assistant. Based on the user's input, generate a {user[\"days\"]}-day travel itinerary in JSON format.\n",
    "\n",
    "Instructions:\n",
    "- Recommend motels, attractions, and restaurants that match the user's preferences.\n",
    "- Stay strictly within the total budget (in USD).\n",
    "- Keep each day's total cost proportional to the total budget.\n",
    "- Include estimated cost breakdowns (in USD) for:\n",
    "  - Motel\n",
    "  - Food\n",
    "  - Attraction entrance fees (if applicable)\n",
    "- Mention attraction durations where useful.\n",
    "- **Do not use tildes (~) anywhere.**\n",
    "- Respond in clean, readable JSON only (no explanations).\n",
    "- Follow this structure exactly.\n",
    "\n",
    "Example:\n",
    "\n",
    "User: {{\n",
    "  \"name\": \"Aarav\",\n",
    "  \"destination\": \"Tokyo\",\n",
    "  \"days\": 2,\n",
    "  \"budget\": 150,\n",
    "  \"preferences\": {{\n",
    "    \"food\": \"Vegetarian\",\n",
    "    \"interests\": [\"Museum\", \"Cultural\"]\n",
    "  }}\n",
    "}}\n",
    "\n",
    "Response:\n",
    "{{\n",
    "  \"day_1\": {{\n",
    "    \"attractions\": [\n",
    "      \"Tokyo National Museum (Entry approx. $7, Duration: 2 hrs)\",\n",
    "      \"Asakusa Shrine (Free, Duration: 1 hr)\"\n",
    "    ],\n",
    "    \"restaurant\": \"Veggie Sora (Estimated around $14)\",\n",
    "    \"motel\": \"Tokyo Budget Inn (Estimated around $28/night)\",\n",
    "    \"total_cost\": 70\n",
    "  }},\n",
    "  \"day_2\": {{\n",
    "    \"attractions\": [\n",
    "      \"Meiji Shrine (Free, Duration: 1.5 hrs)\",\n",
    "      \"Ueno Park (Free, Duration: 1 hr)\"\n",
    "    ],\n",
    "    \"restaurant\": \"Green Table Tokyo (Estimated around $14)\",\n",
    "    \"motel\": \"Tokyo Budget Inn (Estimated around $28/night)\",\n",
    "    \"total_cost\": 70\n",
    "  }},\n",
    "  \"notes\": \"Remaining $10 can be used for transport or snacks.\"\n",
    "}}\n",
    "\n",
    "Now generate for this user:\n",
    "\n",
    "User: {json.dumps(user, indent=2)}\n",
    "Response:\n",
    "\"\"\""
   ]
  },
  {
   "cell_type": "markdown",
   "id": "47da4227",
   "metadata": {
    "papermill": {
     "duration": 0.006526,
     "end_time": "2025-04-19T14:27:46.506178",
     "exception": false,
     "start_time": "2025-04-19T14:27:46.499652",
     "status": "completed"
    },
    "tags": []
   },
   "source": [
    "## 2. 👩🏼‍💻 Enter Your Travel Preferences (Structured JSON Output)\n",
    "---\n",
    "You can change this JSON script below 👇🏼 to create your own trip. Modify:\n",
    "- `destination`\n",
    "- `days`\n",
    "- `budget`\n",
    "- `food` type\n",
    "- `interests`\n",
    "\n",
    "Then run the cells below to generate your own travel plan!"
   ]
  },
  {
   "cell_type": "code",
   "execution_count": 6,
   "id": "07935391",
   "metadata": {
    "execution": {
     "iopub.execute_input": "2025-04-19T14:27:46.521543Z",
     "iopub.status.busy": "2025-04-19T14:27:46.520643Z",
     "iopub.status.idle": "2025-04-19T14:27:46.525845Z",
     "shell.execute_reply": "2025-04-19T14:27:46.524861Z"
    },
    "papermill": {
     "duration": 0.014532,
     "end_time": "2025-04-19T14:27:46.527410",
     "exception": false,
     "start_time": "2025-04-19T14:27:46.512878",
     "status": "completed"
    },
    "tags": []
   },
   "outputs": [],
   "source": [
    "# Example user travel preferences\n",
    "user_input = {\n",
    "    \"name\": \"John\",\n",
    "    \"destination\": \"Paris\",\n",
    "    \"days\": 2,\n",
    "    \"budget\": 200,\n",
    "    \"preferences\": {\n",
    "        \"food\": \"Vegetarian\",\n",
    "        \"interests\": [\"Landmark\", \"Museum\"]\n",
    "    }\n",
    "}"
   ]
  },
  {
   "cell_type": "code",
   "execution_count": 7,
   "id": "f7448216",
   "metadata": {
    "execution": {
     "iopub.execute_input": "2025-04-19T14:27:46.542288Z",
     "iopub.status.busy": "2025-04-19T14:27:46.541933Z",
     "iopub.status.idle": "2025-04-19T14:27:48.203694Z",
     "shell.execute_reply": "2025-04-19T14:27:48.202501Z"
    },
    "papermill": {
     "duration": 1.671018,
     "end_time": "2025-04-19T14:27:48.205449",
     "exception": false,
     "start_time": "2025-04-19T14:27:46.534431",
     "status": "completed"
    },
    "tags": []
   },
   "outputs": [
    {
     "name": "stdout",
     "output_type": "stream",
     "text": [
      "```json\n",
      "{\n",
      "  \"day_1\": {\n",
      "    \"attractions\": [\n",
      "      \"Eiffel Tower (Entry approx. $30, Duration: 2 hrs)\",\n",
      "      \"Louvre Museum (Entry approx. $20, Duration: 3 hrs)\"\n",
      "    ],\n",
      "    \"restaurant\": \"Le Grenier de Notre-Dame (Estimated around $25)\",\n",
      "    \"motel\": \"Hotel FIAP Paris (Estimated around $40/night)\",\n",
      "    \"total_cost\": 115\n",
      "  },\n",
      "  \"day_2\": {\n",
      "    \"attractions\": [\n",
      "      \"Arc de Triomphe (Entry approx. $16, Duration: 1.5 hrs)\",\n",
      "      \"Sainte-Chapelle (Entry approx. $13, Duration: 1 hr)\"\n",
      "    ],\n",
      "    \"restaurant\": \"Saveurs Végétales (Estimated around $20)\",\n",
      "    \"motel\": \"Hotel FIAP Paris (Estimated around $40/night)\",\n",
      "    \"total_cost\": 89\n",
      "  },\n",
      "  \"notes\": \"Remaining $4 can be used for transport or snacks.\"\n",
      "}\n",
      "```\n"
     ]
    }
   ],
   "source": [
    "prompt = build_few_shot_prompt(user_input)\n",
    "\n",
    "response = model.generate_content(prompt)\n",
    "\n",
    "# Print raw response\n",
    "print(response.text)"
   ]
  },
  {
   "cell_type": "markdown",
   "id": "7e4714cc",
   "metadata": {
    "papermill": {
     "duration": 0.006765,
     "end_time": "2025-04-19T14:27:48.219416",
     "exception": false,
     "start_time": "2025-04-19T14:27:48.212651",
     "status": "completed"
    },
    "tags": []
   },
   "source": [
    "---\n",
    "## 🔎 View Your Personalized Itinerary\n",
    "---\n",
    "Gemini replies in JSON format. We’ll parse it and display:\n",
    "- Attractions\n",
    "- Motels\n",
    "- Restaurants\n",
    "- Estimated cost\n",
    "- Notes / Tips"
   ]
  },
  {
   "cell_type": "code",
   "execution_count": 8,
   "id": "76b88377",
   "metadata": {
    "execution": {
     "iopub.execute_input": "2025-04-19T14:27:48.234425Z",
     "iopub.status.busy": "2025-04-19T14:27:48.234065Z",
     "iopub.status.idle": "2025-04-19T14:27:48.266522Z",
     "shell.execute_reply": "2025-04-19T14:27:48.265541Z"
    },
    "papermill": {
     "duration": 0.042302,
     "end_time": "2025-04-19T14:27:48.268524",
     "exception": false,
     "start_time": "2025-04-19T14:27:48.226222",
     "status": "completed"
    },
    "tags": []
   },
   "outputs": [
    {
     "data": {
      "text/markdown": [
       "## ✈️ Travel Itinerary"
      ],
      "text/plain": [
       "<IPython.core.display.Markdown object>"
      ]
     },
     "metadata": {},
     "output_type": "display_data"
    },
    {
     "data": {
      "text/markdown": [
       "### 🗓️ Day 1"
      ],
      "text/plain": [
       "<IPython.core.display.Markdown object>"
      ]
     },
     "metadata": {},
     "output_type": "display_data"
    },
    {
     "data": {
      "text/markdown": [
       "- 🗽 **Attractions:** Eiffel Tower (Entry approx. \\$30, Duration: 2 hrs); Louvre Museum (Entry approx. \\$20, Duration: 3 hrs)"
      ],
      "text/plain": [
       "<IPython.core.display.Markdown object>"
      ]
     },
     "metadata": {},
     "output_type": "display_data"
    },
    {
     "data": {
      "text/markdown": [
       "- 🍽️ **Restaurant:** Le Grenier de Notre-Dame (Estimated around \\$25)"
      ],
      "text/plain": [
       "<IPython.core.display.Markdown object>"
      ]
     },
     "metadata": {},
     "output_type": "display_data"
    },
    {
     "data": {
      "text/markdown": [
       "- 🛏️ **Motel:** Hotel FIAP Paris (Estimated around \\$40/night)"
      ],
      "text/plain": [
       "<IPython.core.display.Markdown object>"
      ]
     },
     "metadata": {},
     "output_type": "display_data"
    },
    {
     "data": {
      "text/markdown": [
       "- 💰 **Estimated Cost:** $115"
      ],
      "text/plain": [
       "<IPython.core.display.Markdown object>"
      ]
     },
     "metadata": {},
     "output_type": "display_data"
    },
    {
     "data": {
      "text/markdown": [
       "### 🗓️ Day 2"
      ],
      "text/plain": [
       "<IPython.core.display.Markdown object>"
      ]
     },
     "metadata": {},
     "output_type": "display_data"
    },
    {
     "data": {
      "text/markdown": [
       "- 🗽 **Attractions:** Arc de Triomphe (Entry approx. \\$16, Duration: 1.5 hrs); Sainte-Chapelle (Entry approx. \\$13, Duration: 1 hr)"
      ],
      "text/plain": [
       "<IPython.core.display.Markdown object>"
      ]
     },
     "metadata": {},
     "output_type": "display_data"
    },
    {
     "data": {
      "text/markdown": [
       "- 🍽️ **Restaurant:** Saveurs Végétales (Estimated around \\$20)"
      ],
      "text/plain": [
       "<IPython.core.display.Markdown object>"
      ]
     },
     "metadata": {},
     "output_type": "display_data"
    },
    {
     "data": {
      "text/markdown": [
       "- 🛏️ **Motel:** Hotel FIAP Paris (Estimated around \\$40/night)"
      ],
      "text/plain": [
       "<IPython.core.display.Markdown object>"
      ]
     },
     "metadata": {},
     "output_type": "display_data"
    },
    {
     "data": {
      "text/markdown": [
       "- 💰 **Estimated Cost:** $89"
      ],
      "text/plain": [
       "<IPython.core.display.Markdown object>"
      ]
     },
     "metadata": {},
     "output_type": "display_data"
    },
    {
     "data": {
      "text/markdown": [
       "**📝 Notes:** Remaining \\$4 can be used for transport or snacks."
      ],
      "text/plain": [
       "<IPython.core.display.Markdown object>"
      ]
     },
     "metadata": {},
     "output_type": "display_data"
    },
    {
     "data": {
      "text/markdown": [
       "### 💸 **Total Estimated Trip Cost:** $204"
      ],
      "text/plain": [
       "<IPython.core.display.Markdown object>"
      ]
     },
     "metadata": {},
     "output_type": "display_data"
    },
    {
     "data": {
      "text/markdown": [
       "⚠️ **Over Budget by:** $4"
      ],
      "text/plain": [
       "<IPython.core.display.Markdown object>"
      ]
     },
     "metadata": {},
     "output_type": "display_data"
    }
   ],
   "source": [
    "# Function to escape markdown-sensitive characters (still useful for other fields)\n",
    "def clean_for_markdown(text):\n",
    "    text = text.replace(\"$\", \"\\\\$\")\n",
    "    text = text.replace(\"_\", \"\\\\_\")\n",
    "    text = text.replace(\"~\", \"\\\\~\")\n",
    "    text = text.replace(\"*\", \"\\\\*\")\n",
    "    text = text.replace(\"`\", \"\\\\`\")\n",
    "    text = re.sub(r\"([a-z])([A-Z])\", r\"\\1 \\2\", text)\n",
    "    return text\n",
    "\n",
    "try:\n",
    "    # Remove ```json or ``` if present\n",
    "    cleaned_text = re.sub(r\"^```(?:json)?|```$\", \"\", response.text.strip(), flags=re.MULTILINE).strip()\n",
    "    cleaned_text = cleaned_text.replace(\"“\", \"\\\"\").replace(\"”\", \"\\\"\").replace(\"’\", \"'\")\n",
    "\n",
    "    itinerary = json.loads(cleaned_text)\n",
    "\n",
    "    display(Markdown(\"## ✈️ Travel Itinerary\"))\n",
    "\n",
    "    total_cost = 0\n",
    "\n",
    "    for day, plan in itinerary.items():\n",
    "        if day.startswith(\"day\"):\n",
    "            # Replace underscores with spaces and title-case the label\n",
    "            day_label = day.replace(\"_\", \" \").title()  # \"day_1\" → \"Day 1\"\n",
    "            display(Markdown(f\"### 🗓️ {day_label}\"))\n",
    "\n",
    "            # Clean each element to escape markdown characters\n",
    "            parsed_attractions = [clean_for_markdown(attraction) for attraction in plan[\"attractions\"]]\n",
    "            parsed_restaurant = clean_for_markdown(plan[\"restaurant\"])\n",
    "            parsed_motel = clean_for_markdown(plan[\"motel\"])\n",
    "\n",
    "            # Display\n",
    "            display(Markdown(f\"- 🗽 **Attractions:** {'; '.join(parsed_attractions)}\"))\n",
    "            display(Markdown(f\"- 🍽️ **Restaurant:** {parsed_restaurant}\"))\n",
    "            display(Markdown(f\"- 🛏️ **Motel:** {parsed_motel}\"))\n",
    "            display(Markdown(f\"- 💰 **Estimated Cost:** ${plan['total_cost']}\"))\n",
    "            total_cost += plan[\"total_cost\"]\n",
    "\n",
    "        elif day == \"notes\":\n",
    "            display(Markdown(f\"**📝 Notes:** {clean_for_markdown(plan)}\"))\n",
    "\n",
    "    # Final budget summary\n",
    "    display(Markdown(f\"### 💸 **Total Estimated Trip Cost:** ${total_cost}\"))\n",
    "    remaining = user_input[\"budget\"] - total_cost\n",
    "\n",
    "    if remaining > 0:\n",
    "        display(Markdown(f\"✅ **Remaining Budget:** ${remaining}\"))\n",
    "    elif remaining < 0:\n",
    "        display(Markdown(f\"⚠️ **Over Budget by:** ${-remaining}\"))\n",
    "    else:\n",
    "        display(Markdown(\"📎 **Used the entire budget perfectly!**\"))\n",
    "\n",
    "except Exception as e:\n",
    "    print(\"❌ Could not parse response as JSON:\", e)\n",
    "    print(\"Raw response:\\n\", response.text)"
   ]
  },
  {
   "cell_type": "markdown",
   "id": "443261c1",
   "metadata": {
    "papermill": {
     "duration": 0.008035,
     "end_time": "2025-04-19T14:27:48.286029",
     "exception": false,
     "start_time": "2025-04-19T14:27:48.277994",
     "status": "completed"
    },
    "tags": []
   },
   "source": [
    "---\n",
    "## 3. 🔊 Function Calling with Gemini\n",
    "---\n",
    "Gemini can now *intelligently decide* which Python function to call, based on user queries.\n",
    "\n",
    "We’ll define:\n",
    "- 🔍 A `find_motels` function for matching budget, location\n",
    "- 🍽️ A `find_restaurants` function based on food type\n",
    "- 🎢 A `find_attractions` function based on interests\n",
    "\n",
    "Let’s empower Gemini to become a truly interactive travel assistant!"
   ]
  },
  {
   "cell_type": "code",
   "execution_count": 9,
   "id": "fae84cf4",
   "metadata": {
    "execution": {
     "iopub.execute_input": "2025-04-19T14:27:48.303237Z",
     "iopub.status.busy": "2025-04-19T14:27:48.302910Z",
     "iopub.status.idle": "2025-04-19T14:27:48.309054Z",
     "shell.execute_reply": "2025-04-19T14:27:48.308201Z"
    },
    "papermill": {
     "duration": 0.01647,
     "end_time": "2025-04-19T14:27:48.310551",
     "exception": false,
     "start_time": "2025-04-19T14:27:48.294081",
     "status": "completed"
    },
    "tags": []
   },
   "outputs": [],
   "source": [
    "# Functions Gemini can call\n",
    "\n",
    "def find_motels(location: str, max_price: float):\n",
    "    return motels[(motels[\"location\"] == location) & (motels[\"price_per_night\"] <= max_price)].to_dict(orient=\"records\")\n",
    "\n",
    "def find_restaurants(location: str, food_type: str):\n",
    "    return restaurants[(restaurants[\"location\"] == location) & (restaurants[\"type\"].str.contains(food_type, case=False))].to_dict(orient=\"records\")\n",
    "\n",
    "def find_attractions(location: str, interest_type: str):\n",
    "    return attractions[(attractions[\"location\"] == location) & (attractions[\"type\"].str.contains(interest_type, case=False))].to_dict(orient=\"records\")"
   ]
  },
  {
   "cell_type": "markdown",
   "id": "05262557",
   "metadata": {
    "papermill": {
     "duration": 0.007637,
     "end_time": "2025-04-19T14:27:48.326349",
     "exception": false,
     "start_time": "2025-04-19T14:27:48.318712",
     "status": "completed"
    },
    "tags": []
   },
   "source": [
    "## ✒️ Define the Function Schema for Gemini\n",
    "---\n",
    "Here we define the function names, descriptions, and parameters Gemini can use to choose what to call. These are sent to Gemini as metadata."
   ]
  },
  {
   "cell_type": "code",
   "execution_count": 10,
   "id": "a09ab55a",
   "metadata": {
    "execution": {
     "iopub.execute_input": "2025-04-19T14:27:48.343678Z",
     "iopub.status.busy": "2025-04-19T14:27:48.343382Z",
     "iopub.status.idle": "2025-04-19T14:27:48.349448Z",
     "shell.execute_reply": "2025-04-19T14:27:48.348542Z"
    },
    "papermill": {
     "duration": 0.016733,
     "end_time": "2025-04-19T14:27:48.350868",
     "exception": false,
     "start_time": "2025-04-19T14:27:48.334135",
     "status": "completed"
    },
    "tags": []
   },
   "outputs": [],
   "source": [
    "functions = [\n",
    "    {\n",
    "        \"name\": \"find_motels\",\n",
    "        \"description\": \"Find budget motels in a specific location.\",\n",
    "        \"parameters\": {\n",
    "            \"type\": \"object\",\n",
    "            \"properties\": {\n",
    "                \"location\": {\"type\": \"string\"},\n",
    "                \"max_price\": {\"type\": \"number\"}\n",
    "            },\n",
    "            \"required\": [\"location\", \"max_price\"]\n",
    "        }\n",
    "    },\n",
    "    {\n",
    "        \"name\": \"find_restaurants\",\n",
    "        \"description\": \"Find restaurants by location and food type.\",\n",
    "        \"parameters\": {\n",
    "            \"type\": \"object\",\n",
    "            \"properties\": {\n",
    "                \"location\": {\"type\": \"string\"},\n",
    "                \"food_type\": {\"type\": \"string\"}\n",
    "            },\n",
    "            \"required\": [\"location\", \"food_type\"]\n",
    "        }\n",
    "    },\n",
    "    {\n",
    "        \"name\": \"find_attractions\",\n",
    "        \"description\": \"Find attractions by location and interest type.\",\n",
    "        \"parameters\": {\n",
    "            \"type\": \"object\",\n",
    "            \"properties\": {\n",
    "                \"location\": {\"type\": \"string\"},\n",
    "                \"interest_type\": {\"type\": \"string\"}\n",
    "            },\n",
    "            \"required\": [\"location\", \"interest_type\"]\n",
    "        }\n",
    "    }\n",
    "]"
   ]
  },
  {
   "cell_type": "markdown",
   "id": "f0d5fc85",
   "metadata": {
    "papermill": {
     "duration": 0.007952,
     "end_time": "2025-04-19T14:27:48.366900",
     "exception": false,
     "start_time": "2025-04-19T14:27:48.358948",
     "status": "completed"
    },
    "tags": []
   },
   "source": [
    "## ⚙️ Loading Gemini with Function Calling Enabled\n",
    "---"
   ]
  },
  {
   "cell_type": "code",
   "execution_count": 11,
   "id": "40b12537",
   "metadata": {
    "execution": {
     "iopub.execute_input": "2025-04-19T14:27:48.383976Z",
     "iopub.status.busy": "2025-04-19T14:27:48.383670Z",
     "iopub.status.idle": "2025-04-19T14:27:48.389457Z",
     "shell.execute_reply": "2025-04-19T14:27:48.388326Z"
    },
    "papermill": {
     "duration": 0.016181,
     "end_time": "2025-04-19T14:27:48.390980",
     "exception": false,
     "start_time": "2025-04-19T14:27:48.374799",
     "status": "completed"
    },
    "tags": []
   },
   "outputs": [],
   "source": [
    "model_fc = genai.GenerativeModel(\n",
    "    model_name=\"gemini-1.5-flash\",\n",
    "    tools=[{\"function_declarations\": functions}]\n",
    ")"
   ]
  },
  {
   "cell_type": "markdown",
   "id": "aee2ae08",
   "metadata": {
    "papermill": {
     "duration": 0.007887,
     "end_time": "2025-04-19T14:27:48.407080",
     "exception": false,
     "start_time": "2025-04-19T14:27:48.399193",
     "status": "completed"
    },
    "tags": []
   },
   "source": [
    "## 💬 Ask Your Custom Travel Query!\n",
    "---\n",
    "Try asking things like:\n",
    "- “Show me motels in Paris under $50”\n",
    "- “Find vegetarian restaurants in Paris”\n",
    "- “What museums can I visit in Paris?”\n",
    "\n",
    "Gemini will choose the right function automatically!\n",
    "\n",
    "---\n",
    "<h4>🔧| How to Make the Code Interactive</h4>\n",
    "\n",
    "To make the query interactive, uncomment the line containing `input()` below. This will prompt you to enter your own travel query when you run the cell.\n",
    "\n",
    "By default, it’s set to a sample query. If you want to test it with your own query, simply uncomment the line and run the cell again.\n",
    "\n",
    "Example: `# user_query = input(\"💬 Enter your travel query: \")` - remove '#' to run and test the chatbot.\n",
    "\n",
    "---\n",
    "⚠️ **Note for Kaggle Users: Save Without Crashes**\n",
    "\n",
    "This cell block below uses `input()` and Gemini chat, which will throw an error if you click **\"Save & Run All\"** in Kaggle.\n",
    "\n",
    "To avoid this, do the following:\n",
    "\n",
    "- Comment this line: `user_query = \"What museums can I visit in Paris?\"  # Default query` if you want to enter your query manually.\n",
    "- Uncomment this line: `# user_query = input(\"💬 Enter your travel query: \")  # Uncomment for interactive input` to run and test the chatbot.\n",
    "\n",
    "Only run the chatbot **manually**, not during \"Save & Run All\"."
   ]
  },
  {
   "cell_type": "code",
   "execution_count": 12,
   "id": "7ee3b321",
   "metadata": {
    "execution": {
     "iopub.execute_input": "2025-04-19T14:27:48.425323Z",
     "iopub.status.busy": "2025-04-19T14:27:48.424612Z",
     "iopub.status.idle": "2025-04-19T14:27:48.982972Z",
     "shell.execute_reply": "2025-04-19T14:27:48.981910Z"
    },
    "papermill": {
     "duration": 0.569434,
     "end_time": "2025-04-19T14:27:48.984558",
     "exception": false,
     "start_time": "2025-04-19T14:27:48.415124",
     "status": "completed"
    },
    "tags": []
   },
   "outputs": [
    {
     "name": "stdout",
     "output_type": "stream",
     "text": [
      "🧠 Function to Call: find_attractions\n",
      "📦 Arguments: {'interest_type': 'museum', 'location': 'Paris'}\n",
      "🔎 Gemini's Results:\n",
      "\n",
      "Result #1\n",
      "- Name: Louvre Museum\n",
      "- Location: Paris\n",
      "- Type: Museum\n",
      "- Duration: 3 hours\n"
     ]
    }
   ],
   "source": [
    "# 🔄 Gemini Chat Start\n",
    "chat = model_fc.start_chat()\n",
    "\n",
    "# 🔄 Interactive Query\n",
    "user_query = \"What museums can I visit in Paris?\"  # Default query\n",
    "# user_query = input(\"💬 Enter your travel query: \")  # Uncomment for interactive input\n",
    "\n",
    "# Send it to Gemini\n",
    "response = chat.send_message(user_query)\n",
    "\n",
    "if response.candidates[0].content.parts:\n",
    "    result = response.candidates[0].content.parts[0].function_call\n",
    "    print(\"🧠 Function to Call:\", result.name)\n",
    "\n",
    "    # Convert args to dict (Safe fix for notebook)\n",
    "    try:\n",
    "        args_dict = {k: v for k, v in result.args.items()}\n",
    "        print(\"📦 Arguments:\", args_dict)\n",
    "    except Exception as e:\n",
    "        print(f\"❌ Error converting arguments: {e}\")\n",
    "        args_dict = {}\n",
    "\n",
    "    # Call the corresponding Python function\n",
    "    if result.name == \"find_motels\":\n",
    "        output = find_motels(**args_dict)\n",
    "    elif result.name == \"find_restaurants\":\n",
    "        output = find_restaurants(**args_dict)\n",
    "    elif result.name == \"find_attractions\":\n",
    "        output = find_attractions(**args_dict)\n",
    "    else:\n",
    "        output = []\n",
    "\n",
    "    # Display results\n",
    "    if output:\n",
    "        print(\"🔎 Gemini's Results:\")\n",
    "        for i, entry in enumerate(output, 1):\n",
    "            print(f\"\\nResult #{i}\")\n",
    "            for k, v in entry.items():\n",
    "                print(f\"- {k.capitalize()}: {v}\")\n",
    "    else:\n",
    "        print(\"🤷 No matching results found.\")\n",
    "else:\n",
    "    print(\"❌ Gemini didn’t suggest a function to call.\")"
   ]
  },
  {
   "cell_type": "markdown",
   "id": "1efd42ae",
   "metadata": {
    "papermill": {
     "duration": 0.007838,
     "end_time": "2025-04-19T14:27:49.000710",
     "exception": false,
     "start_time": "2025-04-19T14:27:48.992872",
     "status": "completed"
    },
    "tags": []
   },
   "source": [
    "---\n",
    "## 📄 Upload Travel Brochures & Guides\n",
    "---\n",
    "📂 Upload PDFs like rome_guide.pdf, paris_brochure.pdf to your Kaggle notebook directory.\n",
    "\n",
    "✏️ Replace the filenames list with your uploaded file names below 👇🏼"
   ]
  },
  {
   "cell_type": "code",
   "execution_count": 13,
   "id": "541ea797",
   "metadata": {
    "execution": {
     "iopub.execute_input": "2025-04-19T14:27:49.018230Z",
     "iopub.status.busy": "2025-04-19T14:27:49.017859Z",
     "iopub.status.idle": "2025-04-19T14:27:49.922461Z",
     "shell.execute_reply": "2025-04-19T14:27:49.921440Z"
    },
    "papermill": {
     "duration": 0.915195,
     "end_time": "2025-04-19T14:27:49.923969",
     "exception": false,
     "start_time": "2025-04-19T14:27:49.008774",
     "status": "completed"
    },
    "tags": []
   },
   "outputs": [
    {
     "name": "stdout",
     "output_type": "stream",
     "text": [
      "✅ Extracted 75 chunks from 3 files.\n"
     ]
    }
   ],
   "source": [
    "# List your travel brochure PDF files here\n",
    "filenames = [\"/kaggle/input/travel-brochures/Japan.pdf\", \"/kaggle/input/travel-brochures/Malaysia.pdf\", \"/kaggle/input/travel-brochures/Thailand.pdf\"]  # Replace with your own uploaded PDFs\n",
    "\n",
    "# Helper function to extract all text from PDFs using PyMuPDF\n",
    "def extract_text_from_pdfs(pdf_files):\n",
    "    text_chunks = []\n",
    "    for file in pdf_files:\n",
    "        with fitz.open(file) as doc:\n",
    "            for page in doc:\n",
    "                text = page.get_text()\n",
    "                # Chunking: Split into small parts (~500 words)\n",
    "                words = text.split()\n",
    "                for i in range(0, len(words), 500):\n",
    "                    chunk = \" \".join(words[i:i+500])\n",
    "                    text_chunks.append(chunk)\n",
    "    return text_chunks\n",
    "\n",
    "# Extract text from the uploaded PDFs\n",
    "pdf_chunks = extract_text_from_pdfs(filenames)\n",
    "\n",
    "print(f\"✅ Extracted {len(pdf_chunks)} chunks from {len(filenames)} files.\")"
   ]
  },
  {
   "cell_type": "markdown",
   "id": "1c1735d7",
   "metadata": {
    "papermill": {
     "duration": 0.007954,
     "end_time": "2025-04-19T14:27:49.942565",
     "exception": false,
     "start_time": "2025-04-19T14:27:49.934611",
     "status": "completed"
    },
    "tags": []
   },
   "source": [
    "## 4. 📊 Generate Embeddings + Build FAISS Index\n",
    "---\n",
    "We’ll embed all chunks using Gemini’s embedding API, then build a FAISS index to enable similarity search."
   ]
  },
  {
   "cell_type": "code",
   "execution_count": 14,
   "id": "29c54792",
   "metadata": {
    "execution": {
     "iopub.execute_input": "2025-04-19T14:27:49.960459Z",
     "iopub.status.busy": "2025-04-19T14:27:49.960091Z",
     "iopub.status.idle": "2025-04-19T14:28:06.665603Z",
     "shell.execute_reply": "2025-04-19T14:28:06.664598Z"
    },
    "papermill": {
     "duration": 16.716424,
     "end_time": "2025-04-19T14:28:06.667137",
     "exception": false,
     "start_time": "2025-04-19T14:27:49.950713",
     "status": "completed"
    },
    "tags": []
   },
   "outputs": [
    {
     "name": "stdout",
     "output_type": "stream",
     "text": [
      "✅ FAISS index built with 75 chunks.\n"
     ]
    }
   ],
   "source": [
    "# Load the embedding model\n",
    "embedding_model = \"models/embedding-001\"\n",
    "\n",
    "# Embed all PDF text chunks\n",
    "pdf_embeddings = []\n",
    "for chunk in pdf_chunks:\n",
    "    response = genai.embed_content(model=embedding_model, content=chunk)\n",
    "    pdf_embeddings.append(response[\"embedding\"])\n",
    "\n",
    "# Convert to numpy array for FAISS\n",
    "embedding_matrix = np.array(pdf_embeddings).astype(\"float32\")\n",
    "\n",
    "# Build the FAISS index\n",
    "index = faiss.IndexFlatL2(embedding_matrix.shape[1])\n",
    "index.add(embedding_matrix)\n",
    "\n",
    "print(\"✅ FAISS index built with\", index.ntotal, \"chunks.\")"
   ]
  },
  {
   "cell_type": "markdown",
   "id": "d0389029",
   "metadata": {
    "papermill": {
     "duration": 0.007721,
     "end_time": "2025-04-19T14:28:06.683472",
     "exception": false,
     "start_time": "2025-04-19T14:28:06.675751",
     "status": "completed"
    },
    "tags": []
   },
   "source": [
    "## 5. 🗣️ Ask Questions Based on Brochure PDFs (RAG)\n",
    "---\n",
    "You can now ask Gemini any question related to the brochure PDFs you uploaded.\n",
    "We’ll search the most relevant chunks using FAISS, then pass them to Gemini to answer.\n",
    "\n",
    "You can change the question below to test custom ones 👇🏼\n",
    "\n",
    "---\n",
    "<h4>🔧| How to Make the Code Interactive</h4>\n",
    "\n",
    "To make the query interactive, uncomment the line containing `input()` below. This will prompt you to enter your own travel query when you run the cell.\n",
    "\n",
    "By default, it’s set to a sample query. If you want to test it with your own query, simply uncomment the line and run the cell again.\n",
    "\n",
    "Example: `# question = input(\"💬 Enter your travel query: \")` - remove '#' to run and test the chatbot.\n",
    "\n",
    "---\n",
    "⚠️ **Note for Kaggle Users: Save Without Crashes**\n",
    "\n",
    "This cell block below uses `input()` and Gemini chat, which will throw an error if you click **\"Save & Run All\"** in Kaggle.\n",
    "\n",
    "To avoid this, do the following:\n",
    "\n",
    "- Comment this line: `question = \"What are some historical places to visit in Japan?\" # Default Query` if you want to enter your query manually.\n",
    "- Uncomment this line: `# question = input(\"💬 Enter your travel query: \")  # Uncomment for interactive input` to run and test the chatbot.\n",
    "\n",
    "Only run the chatbot **manually**, not during \"Save & Run All\"."
   ]
  },
  {
   "cell_type": "code",
   "execution_count": 15,
   "id": "bf0a63a7",
   "metadata": {
    "execution": {
     "iopub.execute_input": "2025-04-19T14:28:06.700869Z",
     "iopub.status.busy": "2025-04-19T14:28:06.700544Z",
     "iopub.status.idle": "2025-04-19T14:28:07.841277Z",
     "shell.execute_reply": "2025-04-19T14:28:07.839976Z"
    },
    "papermill": {
     "duration": 1.151358,
     "end_time": "2025-04-19T14:28:07.842826",
     "exception": false,
     "start_time": "2025-04-19T14:28:06.691468",
     "status": "completed"
    },
    "tags": []
   },
   "outputs": [
    {
     "name": "stdout",
     "output_type": "stream",
     "text": [
      "💬 Gemini's Answer:\n",
      "\n",
      "Based on the brochure extracts, here are some historical places to visit in Japan:\n",
      "\n",
      "*   **Matsumoto Castle:** One of Japan’s oldest fortresses.\n",
      "*   **Shirakawa-go (near Takayama):** A UNESCO World Heritage Site historic village.\n",
      "*   **Nara:** Home to many age-old cultural values and Nara Park with freely roaming deer. It was the first permanent capital until 784.\n",
      "*   **Kyoto:** The former capital until 1867, with innumerable sacred temples and shrines and 17 UNESCO World Heritage Sites.\n",
      "*   **Kanazawa:** Offers an abundance of intact historic treasures.\n"
     ]
    }
   ],
   "source": [
    "# ✅ Change this to ask your own brochure-related question\n",
    "\n",
    "question = \"What are some historical places to visit in Japan?\" # Default Query\n",
    "# question = input(\"💬 Enter your travel query: \")  # Uncomment for interactive input\n",
    "\n",
    "# 🔍 Step 1: Embed your question\n",
    "query_embedding = genai.embed_content(model=embedding_model, content=question)[\"embedding\"]\n",
    "query_vector = np.array(query_embedding).astype(\"float32\").reshape(1, -1)\n",
    "\n",
    "# 🔍 Step 2: Perform similarity search\n",
    "k = 3  # Retrieve top 3 similar chunks\n",
    "_, indices = index.search(query_vector, k)\n",
    "\n",
    "# 🔍 Step 3: Retrieve top chunks\n",
    "retrieved_chunks = [pdf_chunks[i] for i in indices[0]]\n",
    "\n",
    "# 🔍 Step 4: Construct prompt with relevant chunks\n",
    "rag_prompt = f\"\"\"\n",
    "You are a helpful travel assistant. Based on the travel brochure content below, answer the user's question.\n",
    "\n",
    "Brochure Extracts:\n",
    "---\\n{retrieved_chunks[0]}\\n---\\n{retrieved_chunks[1]}\\n---\\n{retrieved_chunks[2]}\\n---\n",
    "\n",
    "Question: {question}\n",
    "\n",
    "Answer:\"\"\"\n",
    "\n",
    "# 🔍 Step 5: Ask Gemini using RAG context\n",
    "rag_response = model.generate_content(rag_prompt)\n",
    "print(\"💬 Gemini's Answer:\\n\")\n",
    "print(rag_response.text)"
   ]
  }
 ],
 "metadata": {
  "kaggle": {
   "accelerator": "none",
   "dataSources": [
    {
     "sourceId": 97258,
     "sourceType": "competition"
    },
    {
     "datasetId": 7186668,
     "sourceId": 11468140,
     "sourceType": "datasetVersion"
    }
   ],
   "dockerImageVersionId": 31012,
   "isGpuEnabled": false,
   "isInternetEnabled": true,
   "language": "python",
   "sourceType": "notebook"
  },
  "kernelspec": {
   "display_name": "Python 3",
   "language": "python",
   "name": "python3"
  },
  "language_info": {
   "codemirror_mode": {
    "name": "ipython",
    "version": 3
   },
   "file_extension": ".py",
   "mimetype": "text/x-python",
   "name": "python",
   "nbconvert_exporter": "python",
   "pygments_lexer": "ipython3",
   "version": "3.11.11"
  },
  "papermill": {
   "default_parameters": {},
   "duration": 70.161704,
   "end_time": "2025-04-19T14:28:11.451727",
   "environment_variables": {},
   "exception": null,
   "input_path": "__notebook__.ipynb",
   "output_path": "__notebook__.ipynb",
   "parameters": {},
   "start_time": "2025-04-19T14:27:01.290023",
   "version": "2.6.0"
  }
 },
 "nbformat": 4,
 "nbformat_minor": 5
}

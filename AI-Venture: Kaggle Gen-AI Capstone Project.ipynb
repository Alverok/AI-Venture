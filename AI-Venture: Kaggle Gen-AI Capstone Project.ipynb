{
 "cells": [
  {
   "cell_type": "markdown",
   "id": "0b322e39",
   "metadata": {
    "papermill": {
     "duration": 0.006135,
     "end_time": "2025-04-19T03:23:33.275300",
     "exception": false,
     "start_time": "2025-04-19T03:23:33.269165",
     "status": "completed"
    },
    "tags": []
   },
   "source": [
    "# 🗺️ AI-Venture: GenAI-Powered Travel Companion!\n",
    "***\n",
    "An intelligent trip planner that generates personalized travel itineraries, recommends accommodations and experiences, and answers user queries — enhanced with Google Gemini.\n",
    "\n",
    "## ✅ <u>Problem Statement</u>\n",
    "Traveling should be fun—not stressful. But planning trips is often difficult without a tour guide or broker, and hiring one can be expensive.  \n",
    "Searching online for motels, food, and attractions is time-consuming and may not match your preferences. ** ***drumrolls please*** ** AI-Venture's here to save the day!\n",
    "\n",
    "## 💡 <u>Solution</u>\n",
    "**AI-Venture** is an AI-powered travel planner built using **Gemini API**. It helps users plan:\n",
    "- Personalized itineraries\n",
    "- Stay within a specific budget\n",
    "- Explore great local attractions and food\n",
    "\n",
    "## 🤖 <u>Gen AI Capabilities Demonstrated</u>\n",
    "- 🗺️ **Few-Shot Prompting** to guide Gemini to respond like a personalized travel planner.  \n",
    "- 🧩 **Structured Output (JSON)** — Parsing results for clarity  \n",
    "- 🧭 **Function Calling** via Gemini for itinerary generation (budget, distance, time constraints).\n",
    "- 📄 **Retrieval-Augmented Generation (RAG)** to enable document-based Q&A from PDFs (guides, brochures).\n",
    "- 🔍 **Embeddings + Vector Search (FAISS)** for accurate and fast retrieval from travel docs."
   ]
  },
  {
   "cell_type": "markdown",
   "id": "fd73303c",
   "metadata": {
    "papermill": {
     "duration": 0.004821,
     "end_time": "2025-04-19T03:23:33.285510",
     "exception": false,
     "start_time": "2025-04-19T03:23:33.280689",
     "status": "completed"
    },
    "tags": []
   },
   "source": [
    "## 📦 Install Dependencies:\n",
    "***"
   ]
  },
  {
   "cell_type": "code",
   "execution_count": 1,
   "id": "149478db",
   "metadata": {
    "execution": {
     "iopub.execute_input": "2025-04-19T03:23:33.296871Z",
     "iopub.status.busy": "2025-04-19T03:23:33.296545Z",
     "iopub.status.idle": "2025-04-19T03:23:56.171875Z",
     "shell.execute_reply": "2025-04-19T03:23:56.170396Z"
    },
    "papermill": {
     "duration": 22.883229,
     "end_time": "2025-04-19T03:23:56.173719",
     "exception": false,
     "start_time": "2025-04-19T03:23:33.290490",
     "status": "completed"
    },
    "tags": []
   },
   "outputs": [
    {
     "name": "stdout",
     "output_type": "stream",
     "text": [
      "\u001b[2K   \u001b[90m━━━━━━━━━━━━━━━━━━━━━━━━━━━━━━━━━━━━━━━━\u001b[0m \u001b[32m155.4/155.4 kB\u001b[0m \u001b[31m5.1 MB/s\u001b[0m eta \u001b[36m0:00:00\u001b[0m\r\n",
      "\u001b[2K   \u001b[90m━━━━━━━━━━━━━━━━━━━━━━━━━━━━━━━━━━━━━━━━\u001b[0m \u001b[32m20.0/20.0 MB\u001b[0m \u001b[31m70.3 MB/s\u001b[0m eta \u001b[36m0:00:00\u001b[0m\r\n",
      "\u001b[2K   \u001b[90m━━━━━━━━━━━━━━━━━━━━━━━━━━━━━━━━━━━━━━━━\u001b[0m \u001b[32m30.7/30.7 MB\u001b[0m \u001b[31m50.6 MB/s\u001b[0m eta \u001b[36m0:00:00\u001b[0m\r\n",
      "\u001b[?25h"
     ]
    }
   ],
   "source": [
    "!pip install -q -U google-generativeai PyMuPDF faiss-cpu"
   ]
  },
  {
   "cell_type": "markdown",
   "id": "e4b8f14a",
   "metadata": {
    "papermill": {
     "duration": 0.005663,
     "end_time": "2025-04-19T03:23:56.185500",
     "exception": false,
     "start_time": "2025-04-19T03:23:56.179837",
     "status": "completed"
    },
    "tags": []
   },
   "source": [
    "## 📚 Import Libraries:\n",
    "***"
   ]
  },
  {
   "cell_type": "code",
   "execution_count": 2,
   "id": "b59f0353",
   "metadata": {
    "execution": {
     "iopub.execute_input": "2025-04-19T03:23:56.198438Z",
     "iopub.status.busy": "2025-04-19T03:23:56.198032Z",
     "iopub.status.idle": "2025-04-19T03:24:00.264197Z",
     "shell.execute_reply": "2025-04-19T03:24:00.263236Z"
    },
    "papermill": {
     "duration": 4.074665,
     "end_time": "2025-04-19T03:24:00.265885",
     "exception": false,
     "start_time": "2025-04-19T03:23:56.191220",
     "status": "completed"
    },
    "tags": []
   },
   "outputs": [],
   "source": [
    "import google.generativeai as genai\n",
    "import os\n",
    "import pandas as pd\n",
    "import fitz  \n",
    "import faiss\n",
    "import json\n",
    "import numpy as np\n",
    "import re\n",
    "from IPython.display import Markdown, display"
   ]
  },
  {
   "cell_type": "markdown",
   "id": "435798a3",
   "metadata": {
    "papermill": {
     "duration": 0.005468,
     "end_time": "2025-04-19T03:24:00.277423",
     "exception": false,
     "start_time": "2025-04-19T03:24:00.271955",
     "status": "completed"
    },
    "tags": []
   },
   "source": [
    "## 🔐 API Key Setup:\n",
    "***"
   ]
  },
  {
   "cell_type": "code",
   "execution_count": 3,
   "id": "f08e2316",
   "metadata": {
    "execution": {
     "iopub.execute_input": "2025-04-19T03:24:00.290388Z",
     "iopub.status.busy": "2025-04-19T03:24:00.289865Z",
     "iopub.status.idle": "2025-04-19T03:24:00.455218Z",
     "shell.execute_reply": "2025-04-19T03:24:00.454507Z"
    },
    "papermill": {
     "duration": 0.173914,
     "end_time": "2025-04-19T03:24:00.456891",
     "exception": false,
     "start_time": "2025-04-19T03:24:00.282977",
     "status": "completed"
    },
    "tags": []
   },
   "outputs": [],
   "source": [
    "from kaggle_secrets import UserSecretsClient\n",
    "GOOGLE_API_KEY = UserSecretsClient().get_secret(\"GOOGLE_API_KEY\")\n",
    "\n",
    "# Set your Gemini API key\n",
    "genai.configure(api_key=GOOGLE_API_KEY)\n",
    "\n",
    "# Create a model instance\n",
    "model = genai.GenerativeModel(\"gemini-2.0-flash\")"
   ]
  },
  {
   "cell_type": "markdown",
   "id": "66586b9f",
   "metadata": {
    "papermill": {
     "duration": 0.005528,
     "end_time": "2025-04-19T03:24:00.468286",
     "exception": false,
     "start_time": "2025-04-19T03:24:00.462758",
     "status": "completed"
    },
    "tags": []
   },
   "source": [
    "## Define Dataframes/Database:\n",
    "\n",
    "We’ll manually define ..."
   ]
  },
  {
   "cell_type": "code",
   "execution_count": 4,
   "id": "0e875c82",
   "metadata": {
    "execution": {
     "iopub.execute_input": "2025-04-19T03:24:00.481537Z",
     "iopub.status.busy": "2025-04-19T03:24:00.481198Z",
     "iopub.status.idle": "2025-04-19T03:24:00.621743Z",
     "shell.execute_reply": "2025-04-19T03:24:00.620957Z"
    },
    "papermill": {
     "duration": 0.149186,
     "end_time": "2025-04-19T03:24:00.623061",
     "exception": false,
     "start_time": "2025-04-19T03:24:00.473875",
     "status": "completed"
    },
    "tags": []
   },
   "outputs": [],
   "source": [
    "# Sample motels, restaurants, attractions\n",
    "motels = pd.DataFrame([\n",
    "    # Paris\n",
    "    {\"name\": \"Cozy Inn\", \"location\": \"Paris\", \"price_per_night\": 45, \"rating\": 4.2},\n",
    "    {\"name\": \"Budget Stay\", \"location\": \"Paris\", \"price_per_night\": 30, \"rating\": 3.8},\n",
    "    {\"name\": \"Chic Rooms\", \"location\": \"Paris\", \"price_per_night\": 65, \"rating\": 4.5},\n",
    "\n",
    "    # Rome\n",
    "    {\"name\": \"Rome Comfort Hotel\", \"location\": \"Rome\", \"price_per_night\": 50, \"rating\": 4.0},\n",
    "    {\"name\": \"Trastevere Budget Inn\", \"location\": \"Rome\", \"price_per_night\": 35, \"rating\": 3.7},\n",
    "    {\"name\": \"Hotel Bella Roma\", \"location\": \"Rome\", \"price_per_night\": 60, \"rating\": 4.3},\n",
    "\n",
    "    # Berlin\n",
    "    {\"name\": \"Berlin Central Stay\", \"location\": \"Berlin\", \"price_per_night\": 48, \"rating\": 4.1},\n",
    "    {\"name\": \"Budget Lodge Berlin\", \"location\": \"Berlin\", \"price_per_night\": 32, \"rating\": 3.9},\n",
    "    {\"name\": \"Checkpoint Hostel\", \"location\": \"Berlin\", \"price_per_night\": 27, \"rating\": 3.6},\n",
    "\n",
    "    # Barcelona\n",
    "    {\"name\": \"Barcelona Breeze\", \"location\": \"Barcelona\", \"price_per_night\": 55, \"rating\": 4.4},\n",
    "    {\"name\": \"La Rambla Inn\", \"location\": \"Barcelona\", \"price_per_night\": 40, \"rating\": 4.0},\n",
    "    {\"name\": \"El Centro Lodge\", \"location\": \"Barcelona\", \"price_per_night\": 33, \"rating\": 3.8}\n",
    "])\n",
    "\n",
    "restaurants = pd.DataFrame([\n",
    "    # Paris\n",
    "    {\"name\": \"Veggie Delight\", \"location\": \"Paris\", \"type\": \"Vegetarian\", \"price_range\": \"Low\"},\n",
    "    {\"name\": \"Cafe Royale\", \"location\": \"Paris\", \"type\": \"Cafe\", \"price_range\": \"Medium\"},\n",
    "    {\"name\": \"Seafood Heaven\", \"location\": \"Paris\", \"type\": \"Seafood\", \"price_range\": \"High\"},\n",
    "\n",
    "    # Rome\n",
    "    {\"name\": \"Pasta Fresca\", \"location\": \"Rome\", \"type\": \"Italian\", \"price_range\": \"Medium\"},\n",
    "    {\"name\": \"Vegan Vibe\", \"location\": \"Rome\", \"type\": \"Vegetarian\", \"price_range\": \"Low\"},\n",
    "    {\"name\": \"Trattoria Romano\", \"location\": \"Rome\", \"type\": \"Traditional\", \"price_range\": \"High\"},\n",
    "\n",
    "    # Berlin\n",
    "    {\"name\": \"Berlin Bites\", \"location\": \"Berlin\", \"type\": \"Fast Food\", \"price_range\": \"Low\"},\n",
    "    {\"name\": \"Wurst Haus\", \"location\": \"Berlin\", \"type\": \"German\", \"price_range\": \"Medium\"},\n",
    "    {\"name\": \"Green Eats\", \"location\": \"Berlin\", \"type\": \"Vegan\", \"price_range\": \"Low\"},\n",
    "\n",
    "    # Barcelona\n",
    "    {\"name\": \"Tapas Town\", \"location\": \"Barcelona\", \"type\": \"Tapas\", \"price_range\": \"Medium\"},\n",
    "    {\"name\": \"La Veggiera\", \"location\": \"Barcelona\", \"type\": \"Vegetarian\", \"price_range\": \"Low\"},\n",
    "    {\"name\": \"Mar y Sol\", \"location\": \"Barcelona\", \"type\": \"Seafood\", \"price_range\": \"High\"}\n",
    "])\n",
    "\n",
    "attractions = pd.DataFrame([\n",
    "    # Paris\n",
    "    {\"name\": \"Eiffel Tower\", \"location\": \"Paris\", \"type\": \"Landmark\", \"duration\": \"2 hours\"},\n",
    "    {\"name\": \"Louvre Museum\", \"location\": \"Paris\", \"type\": \"Museum\", \"duration\": \"3 hours\"},\n",
    "    {\"name\": \"Seine River Cruise\", \"location\": \"Paris\", \"type\": \"Experience\", \"duration\": \"1.5 hours\"},\n",
    "\n",
    "    # Rome\n",
    "    {\"name\": \"Colosseum\", \"location\": \"Rome\", \"type\": \"Landmark\", \"duration\": \"2 hours\"},\n",
    "    {\"name\": \"Vatican Museums\", \"location\": \"Rome\", \"type\": \"Museum\", \"duration\": \"3 hours\"},\n",
    "    {\"name\": \"Trevi Fountain\", \"location\": \"Rome\", \"type\": \"Landmark\", \"duration\": \"1 hour\"},\n",
    "\n",
    "    # Berlin\n",
    "    {\"name\": \"Brandenburg Gate\", \"location\": \"Berlin\", \"type\": \"Landmark\", \"duration\": \"1 hour\"},\n",
    "    {\"name\": \"Pergamon Museum\", \"location\": \"Berlin\", \"type\": \"Museum\", \"duration\": \"2.5 hours\"},\n",
    "    {\"name\": \"Berlin Wall Memorial\", \"location\": \"Berlin\", \"type\": \"Historical\", \"duration\": \"1.5 hours\"},\n",
    "\n",
    "    # Barcelona\n",
    "    {\"name\": \"Sagrada Familia\", \"location\": \"Barcelona\", \"type\": \"Landmark\", \"duration\": \"2 hours\"},\n",
    "    {\"name\": \"Park Güell\", \"location\": \"Barcelona\", \"type\": \"Experience\", \"duration\": \"1.5 hours\"},\n",
    "    {\"name\": \"Picasso Museum\", \"location\": \"Barcelona\", \"type\": \"Museum\", \"duration\": \"2 hours\"}\n",
    "])"
   ]
  },
  {
   "cell_type": "markdown",
   "id": "9317a261",
   "metadata": {
    "papermill": {
     "duration": 0.005905,
     "end_time": "2025-04-19T03:24:00.634753",
     "exception": false,
     "start_time": "2025-04-19T03:24:00.628848",
     "status": "completed"
    },
    "tags": []
   },
   "source": [
    "## 🧠 Step 2: Teaching the AI with Examples (Few-Shot Prompting)\n",
    "\n",
    "We’re going to provide a few example inputs and desired outputs.  \n",
    "This helps Gemini understand what a “good itinerary” looks like.\n",
    "\n",
    "We use:\n",
    "- Example input/output\n",
    "- User's input at the end\n",
    "- Ask Gemini to respond **only in JSON**"
   ]
  },
  {
   "cell_type": "code",
   "execution_count": 5,
   "id": "124db761",
   "metadata": {
    "execution": {
     "iopub.execute_input": "2025-04-19T03:24:00.647284Z",
     "iopub.status.busy": "2025-04-19T03:24:00.646859Z",
     "iopub.status.idle": "2025-04-19T03:24:00.652278Z",
     "shell.execute_reply": "2025-04-19T03:24:00.651599Z"
    },
    "papermill": {
     "duration": 0.013347,
     "end_time": "2025-04-19T03:24:00.653649",
     "exception": false,
     "start_time": "2025-04-19T03:24:00.640302",
     "status": "completed"
    },
    "tags": []
   },
   "outputs": [],
   "source": [
    "# Function to build the few-shot prompt for the model\n",
    "def build_few_shot_prompt(user):\n",
    "    return f\"\"\"\n",
    "You are a travel planner assistant. Based on the user's input, generate a {user[\"days\"]}-day travel itinerary in JSON format.\n",
    "\n",
    "Instructions:\n",
    "- Recommend motels, attractions, and restaurants that match the user's preferences.\n",
    "- Stay strictly within the total budget (in USD).\n",
    "- Keep each day's total cost proportional to the total budget.\n",
    "- Include estimated cost breakdowns (in USD) for:\n",
    "  - Motel\n",
    "  - Food\n",
    "  - Attraction entrance fees (if applicable)\n",
    "- Mention attraction durations where useful.\n",
    "- **Do not use tildes (~) anywhere.**\n",
    "- Respond in clean, readable JSON only (no explanations).\n",
    "- Follow this structure exactly.\n",
    "\n",
    "Example:\n",
    "\n",
    "User: {{\n",
    "  \"name\": \"Aarav\",\n",
    "  \"destination\": \"Tokyo\",\n",
    "  \"days\": 2,\n",
    "  \"budget\": 150,\n",
    "  \"preferences\": {{\n",
    "    \"food\": \"Vegetarian\",\n",
    "    \"interests\": [\"Museum\", \"Cultural\"]\n",
    "  }}\n",
    "}}\n",
    "\n",
    "Response:\n",
    "{{\n",
    "  \"day_1\": {{\n",
    "    \"attractions\": [\n",
    "      \"Tokyo National Museum (Entry approx. $7, Duration: 2 hrs)\",\n",
    "      \"Asakusa Shrine (Free, Duration: 1 hr)\"\n",
    "    ],\n",
    "    \"restaurant\": \"Veggie Sora (Estimated around $14)\",\n",
    "    \"motel\": \"Tokyo Budget Inn (Estimated around $28/night)\",\n",
    "    \"total_cost\": 70\n",
    "  }},\n",
    "  \"day_2\": {{\n",
    "    \"attractions\": [\n",
    "      \"Meiji Shrine (Free, Duration: 1.5 hrs)\",\n",
    "      \"Ueno Park (Free, Duration: 1 hr)\"\n",
    "    ],\n",
    "    \"restaurant\": \"Green Table Tokyo (Estimated around $14)\",\n",
    "    \"motel\": \"Tokyo Budget Inn (Estimated around $28/night)\",\n",
    "    \"total_cost\": 70\n",
    "  }},\n",
    "  \"notes\": \"Remaining $10 can be used for transport or snacks.\"\n",
    "}}\n",
    "\n",
    "Now generate for this user:\n",
    "\n",
    "User: {json.dumps(user, indent=2)}\n",
    "Response:\n",
    "\"\"\""
   ]
  },
  {
   "cell_type": "markdown",
   "id": "0c135f04",
   "metadata": {
    "papermill": {
     "duration": 0.00547,
     "end_time": "2025-04-19T03:24:00.664787",
     "exception": false,
     "start_time": "2025-04-19T03:24:00.659317",
     "status": "completed"
    },
    "tags": []
   },
   "source": [
    "## 🧳 Step 3: Enter Your Travel Preferences\n",
    "\n",
    "You can change this JSON script below 👇🏼 to create your own trip. Modify:\n",
    "- `destination`\n",
    "- `days`\n",
    "- `budget`\n",
    "- `food` type\n",
    "- `interests`\n",
    "\n",
    "Then run the cells below to generate your own travel plan!"
   ]
  },
  {
   "cell_type": "code",
   "execution_count": 6,
   "id": "066e016b",
   "metadata": {
    "execution": {
     "iopub.execute_input": "2025-04-19T03:24:00.677490Z",
     "iopub.status.busy": "2025-04-19T03:24:00.676812Z",
     "iopub.status.idle": "2025-04-19T03:24:00.681446Z",
     "shell.execute_reply": "2025-04-19T03:24:00.680583Z"
    },
    "papermill": {
     "duration": 0.012508,
     "end_time": "2025-04-19T03:24:00.682790",
     "exception": false,
     "start_time": "2025-04-19T03:24:00.670282",
     "status": "completed"
    },
    "tags": []
   },
   "outputs": [],
   "source": [
    "# Example user travel preferences\n",
    "user_input = {\n",
    "    \"name\": \"John\",\n",
    "    \"destination\": \"Paris\",\n",
    "    \"days\": 2,\n",
    "    \"budget\": 200,\n",
    "    \"preferences\": {\n",
    "        \"food\": \"Vegetarian\",\n",
    "        \"interests\": [\"Landmark\", \"Museum\"]\n",
    "    }\n",
    "}"
   ]
  },
  {
   "cell_type": "code",
   "execution_count": 7,
   "id": "7d0775fe",
   "metadata": {
    "execution": {
     "iopub.execute_input": "2025-04-19T03:24:00.695855Z",
     "iopub.status.busy": "2025-04-19T03:24:00.694962Z",
     "iopub.status.idle": "2025-04-19T03:24:02.686676Z",
     "shell.execute_reply": "2025-04-19T03:24:02.685656Z"
    },
    "papermill": {
     "duration": 1.999465,
     "end_time": "2025-04-19T03:24:02.688050",
     "exception": false,
     "start_time": "2025-04-19T03:24:00.688585",
     "status": "completed"
    },
    "tags": []
   },
   "outputs": [
    {
     "name": "stdout",
     "output_type": "stream",
     "text": [
      "```json\n",
      "{\n",
      "  \"day_1\": {\n",
      "    \"attractions\": [\n",
      "      \"Eiffel Tower (Entry approx. $30, Duration: 2 hrs)\",\n",
      "      \"Louvre Museum (Entry approx. $20, Duration: 3 hrs)\"\n",
      "    ],\n",
      "    \"restaurant\": \"Le Potager du Marais (Vegetarian, Estimated around $25)\",\n",
      "    \"motel\": \"Hotel Cluny Square (Estimated around $40/night)\",\n",
      "    \"total_cost\": 115\n",
      "  },\n",
      "  \"day_2\": {\n",
      "    \"attractions\": [\n",
      "      \"Arc de Triomphe (Entry approx. $15, Duration: 1.5 hrs)\",\n",
      "      \"Sainte-Chapelle (Entry approx. $12, Duration: 1 hr)\"\n",
      "    ],\n",
      "    \"restaurant\": \"VG Pâtisserie (Vegetarian, Estimated around $20)\",\n",
      "    \"motel\": \"Hotel Cluny Square (Estimated around $40/night)\",\n",
      "    \"total_cost\": 87\n",
      "  },\n",
      "  \"notes\": \"Remaining $-2 can be adjusted by opting for cheaper food options.\"\n",
      "}\n",
      "```\n"
     ]
    }
   ],
   "source": [
    "prompt = build_few_shot_prompt(user_input)\n",
    "\n",
    "response = model.generate_content(prompt)\n",
    "\n",
    "# Print raw response\n",
    "print(response.text)"
   ]
  },
  {
   "cell_type": "markdown",
   "id": "a94b5aa6",
   "metadata": {
    "papermill": {
     "duration": 0.005625,
     "end_time": "2025-04-19T03:24:02.699779",
     "exception": false,
     "start_time": "2025-04-19T03:24:02.694154",
     "status": "completed"
    },
    "tags": []
   },
   "source": [
    "## 🗓️ Step 4: View Your Personalized Itinerary\n",
    "\n",
    "Gemini replies in JSON format. We’ll parse it and display:\n",
    "- Attractions\n",
    "- Motels\n",
    "- Restaurants\n",
    "- Estimated cost\n",
    "- Notes / Tips"
   ]
  },
  {
   "cell_type": "code",
   "execution_count": 8,
   "id": "9f900b26",
   "metadata": {
    "execution": {
     "iopub.execute_input": "2025-04-19T03:24:02.713011Z",
     "iopub.status.busy": "2025-04-19T03:24:02.712153Z",
     "iopub.status.idle": "2025-04-19T03:24:02.741686Z",
     "shell.execute_reply": "2025-04-19T03:24:02.740800Z"
    },
    "papermill": {
     "duration": 0.037773,
     "end_time": "2025-04-19T03:24:02.743162",
     "exception": false,
     "start_time": "2025-04-19T03:24:02.705389",
     "status": "completed"
    },
    "tags": []
   },
   "outputs": [
    {
     "data": {
      "text/markdown": [
       "## ✈️| Travel Itinerary"
      ],
      "text/plain": [
       "<IPython.core.display.Markdown object>"
      ]
     },
     "metadata": {},
     "output_type": "display_data"
    },
    {
     "data": {
      "text/markdown": [
       "### 🗓️ Day 1"
      ],
      "text/plain": [
       "<IPython.core.display.Markdown object>"
      ]
     },
     "metadata": {},
     "output_type": "display_data"
    },
    {
     "data": {
      "text/markdown": [
       "- 🗽 **Attractions:** Eiffel Tower (Entry approx. $30, Duration: 2 hrs), Louvre Museum (Entry approx. $20, Duration: 3 hrs)"
      ],
      "text/plain": [
       "<IPython.core.display.Markdown object>"
      ]
     },
     "metadata": {},
     "output_type": "display_data"
    },
    {
     "data": {
      "text/markdown": [
       "- 🍽️ **Restaurant:** Le Potager du Marais (Vegetarian, Estimated around $25)"
      ],
      "text/plain": [
       "<IPython.core.display.Markdown object>"
      ]
     },
     "metadata": {},
     "output_type": "display_data"
    },
    {
     "data": {
      "text/markdown": [
       "- 🛏️ **Motel:** Hotel Cluny Square (Estimated around $40/night)"
      ],
      "text/plain": [
       "<IPython.core.display.Markdown object>"
      ]
     },
     "metadata": {},
     "output_type": "display_data"
    },
    {
     "data": {
      "text/markdown": [
       "- 💰 **Estimated Cost:** $115"
      ],
      "text/plain": [
       "<IPython.core.display.Markdown object>"
      ]
     },
     "metadata": {},
     "output_type": "display_data"
    },
    {
     "data": {
      "text/markdown": [
       "### 🗓️ Day 2"
      ],
      "text/plain": [
       "<IPython.core.display.Markdown object>"
      ]
     },
     "metadata": {},
     "output_type": "display_data"
    },
    {
     "data": {
      "text/markdown": [
       "- 🗽 **Attractions:** Arc de Triomphe (Entry approx. $15, Duration: 1.5 hrs), Sainte-Chapelle (Entry approx. $12, Duration: 1 hr)"
      ],
      "text/plain": [
       "<IPython.core.display.Markdown object>"
      ]
     },
     "metadata": {},
     "output_type": "display_data"
    },
    {
     "data": {
      "text/markdown": [
       "- 🍽️ **Restaurant:** VG Pâtisserie (Vegetarian, Estimated around $20)"
      ],
      "text/plain": [
       "<IPython.core.display.Markdown object>"
      ]
     },
     "metadata": {},
     "output_type": "display_data"
    },
    {
     "data": {
      "text/markdown": [
       "- 🛏️ **Motel:** Hotel Cluny Square (Estimated around $40/night)"
      ],
      "text/plain": [
       "<IPython.core.display.Markdown object>"
      ]
     },
     "metadata": {},
     "output_type": "display_data"
    },
    {
     "data": {
      "text/markdown": [
       "- 💰 **Estimated Cost:** $87"
      ],
      "text/plain": [
       "<IPython.core.display.Markdown object>"
      ]
     },
     "metadata": {},
     "output_type": "display_data"
    },
    {
     "data": {
      "text/markdown": [
       "**📝 Notes:** Remaining $-2 can be adjusted by opting for cheaper food options."
      ],
      "text/plain": [
       "<IPython.core.display.Markdown object>"
      ]
     },
     "metadata": {},
     "output_type": "display_data"
    },
    {
     "data": {
      "text/markdown": [
       "### 💸 **Total Estimated Trip Cost:** $202"
      ],
      "text/plain": [
       "<IPython.core.display.Markdown object>"
      ]
     },
     "metadata": {},
     "output_type": "display_data"
    },
    {
     "data": {
      "text/markdown": [
       "⚠️ **Over Budget by:** $2"
      ],
      "text/plain": [
       "<IPython.core.display.Markdown object>"
      ]
     },
     "metadata": {},
     "output_type": "display_data"
    }
   ],
   "source": [
    "# Function to escape markdown-sensitive characters (still useful for other fields)\n",
    "def clean_for_markdown(text):\n",
    "    text = text.replace(\"_\", \"\\\\_\")\n",
    "    text = text.replace(\"~\", \"\\\\~\")\n",
    "    text = text.replace(\"*\", \"\\\\*\")\n",
    "    text = text.replace(\"`\", \"\\\\`\")\n",
    "    text = re.sub(r\"([a-z])([A-Z])\", r\"\\1 \\2\", text)\n",
    "    return text\n",
    "\n",
    "try:\n",
    "    # Remove ```json or ``` if present\n",
    "    cleaned_text = re.sub(r\"^```(?:json)?|```$\", \"\", response.text.strip(), flags=re.MULTILINE).strip()\n",
    "    cleaned_text = cleaned_text.replace(\"“\", \"\\\"\").replace(\"”\", \"\\\"\").replace(\"’\", \"'\")\n",
    "\n",
    "    itinerary = json.loads(cleaned_text)\n",
    "\n",
    "    display(Markdown(\"## ✈️| Travel Itinerary\"))\n",
    "\n",
    "    total_cost = 0\n",
    "\n",
    "    for day, plan in itinerary.items():\n",
    "        if day.startswith(\"day\"):\n",
    "            # Replace underscores with spaces and title-case the label\n",
    "            day_label = day.replace(\"_\", \" \").title()  # \"day_1\" → \"Day 1\"\n",
    "            display(Markdown(f\"### 🗓️ {day_label}\"))\n",
    "\n",
    "            # Clean each element to escape markdown characters\n",
    "            parsed_attractions = [clean_for_markdown(attraction) for attraction in plan[\"attractions\"]]\n",
    "            parsed_restaurant = clean_for_markdown(plan[\"restaurant\"])\n",
    "            parsed_motel = clean_for_markdown(plan[\"motel\"])\n",
    "\n",
    "            # Display\n",
    "            display(Markdown(f\"- 🗽 **Attractions:** {', '.join(parsed_attractions)}\"))\n",
    "            display(Markdown(f\"- 🍽️ **Restaurant:** {parsed_restaurant}\"))\n",
    "            display(Markdown(f\"- 🛏️ **Motel:** {parsed_motel}\"))\n",
    "            display(Markdown(f\"- 💰 **Estimated Cost:** ${plan['total_cost']}\"))\n",
    "            total_cost += plan[\"total_cost\"]\n",
    "\n",
    "        elif day == \"notes\":\n",
    "            display(Markdown(f\"**📝 Notes:** {clean_for_markdown(plan)}\"))\n",
    "\n",
    "    # Final budget summary\n",
    "    display(Markdown(f\"### 💸 **Total Estimated Trip Cost:** ${total_cost}\"))\n",
    "    remaining = user_input[\"budget\"] - total_cost\n",
    "\n",
    "    if remaining > 0:\n",
    "        display(Markdown(f\"✅ **Remaining Budget:** ${remaining}\"))\n",
    "    elif remaining < 0:\n",
    "        display(Markdown(f\"⚠️ **Over Budget by:** ${-remaining}\"))\n",
    "    else:\n",
    "        display(Markdown(\"📎 **Used the entire budget perfectly!**\"))\n",
    "\n",
    "except Exception as e:\n",
    "    print(\"❌ Could not parse response as JSON:\", e)\n",
    "    print(\"Raw response:\\n\", response.text)"
   ]
  },
  {
   "cell_type": "markdown",
   "id": "70cc787c",
   "metadata": {
    "papermill": {
     "duration": 0.006595,
     "end_time": "2025-04-19T03:24:02.756931",
     "exception": false,
     "start_time": "2025-04-19T03:24:02.750336",
     "status": "completed"
    },
    "tags": []
   },
   "source": [
    "## 🔧 Step 5: Function Calling with Gemini\n",
    "\n",
    "Gemini can now *intelligently decide* which Python function to call, based on user queries.\n",
    "\n",
    "We’ll define:\n",
    "- 🔍 A `find_motels` function for matching budget, location\n",
    "- 🍽️ A `find_restaurants` function based on food type\n",
    "- 🎢 A `find_attractions` function based on interests\n",
    "\n",
    "Let’s empower Gemini to become a truly interactive travel assistant!"
   ]
  },
  {
   "cell_type": "code",
   "execution_count": 9,
   "id": "4e3b08f0",
   "metadata": {
    "execution": {
     "iopub.execute_input": "2025-04-19T03:24:02.772353Z",
     "iopub.status.busy": "2025-04-19T03:24:02.771630Z",
     "iopub.status.idle": "2025-04-19T03:24:02.778031Z",
     "shell.execute_reply": "2025-04-19T03:24:02.777014Z"
    },
    "papermill": {
     "duration": 0.015882,
     "end_time": "2025-04-19T03:24:02.779582",
     "exception": false,
     "start_time": "2025-04-19T03:24:02.763700",
     "status": "completed"
    },
    "tags": []
   },
   "outputs": [],
   "source": [
    "# Functions Gemini can call\n",
    "\n",
    "def find_motels(location: str, max_price: float):\n",
    "    return motels[(motels[\"location\"] == location) & (motels[\"price_per_night\"] <= max_price)].to_dict(orient=\"records\")\n",
    "\n",
    "def find_restaurants(location: str, food_type: str):\n",
    "    return restaurants[(restaurants[\"location\"] == location) & (restaurants[\"type\"].str.contains(food_type, case=False))].to_dict(orient=\"records\")\n",
    "\n",
    "def find_attractions(location: str, interest_type: str):\n",
    "    return attractions[(attractions[\"location\"] == location) & (attractions[\"type\"].str.contains(interest_type, case=False))].to_dict(orient=\"records\")"
   ]
  },
  {
   "cell_type": "markdown",
   "id": "689bb376",
   "metadata": {
    "papermill": {
     "duration": 0.006499,
     "end_time": "2025-04-19T03:24:02.792972",
     "exception": false,
     "start_time": "2025-04-19T03:24:02.786473",
     "status": "completed"
    },
    "tags": []
   },
   "source": [
    "## 📄 Step 6: Define the Function Schema for Gemini\n",
    "\n",
    "Here we define the function names, descriptions, and parameters Gemini can use to choose what to call. These are sent to Gemini as metadata."
   ]
  },
  {
   "cell_type": "code",
   "execution_count": 10,
   "id": "cdd98627",
   "metadata": {
    "execution": {
     "iopub.execute_input": "2025-04-19T03:24:02.807661Z",
     "iopub.status.busy": "2025-04-19T03:24:02.807358Z",
     "iopub.status.idle": "2025-04-19T03:24:02.812946Z",
     "shell.execute_reply": "2025-04-19T03:24:02.812257Z"
    },
    "papermill": {
     "duration": 0.014563,
     "end_time": "2025-04-19T03:24:02.814223",
     "exception": false,
     "start_time": "2025-04-19T03:24:02.799660",
     "status": "completed"
    },
    "tags": []
   },
   "outputs": [],
   "source": [
    "functions = [\n",
    "    {\n",
    "        \"name\": \"find_motels\",\n",
    "        \"description\": \"Find budget motels in a specific location.\",\n",
    "        \"parameters\": {\n",
    "            \"type\": \"object\",\n",
    "            \"properties\": {\n",
    "                \"location\": {\"type\": \"string\"},\n",
    "                \"max_price\": {\"type\": \"number\"}\n",
    "            },\n",
    "            \"required\": [\"location\", \"max_price\"]\n",
    "        }\n",
    "    },\n",
    "    {\n",
    "        \"name\": \"find_restaurants\",\n",
    "        \"description\": \"Find restaurants by location and food type.\",\n",
    "        \"parameters\": {\n",
    "            \"type\": \"object\",\n",
    "            \"properties\": {\n",
    "                \"location\": {\"type\": \"string\"},\n",
    "                \"food_type\": {\"type\": \"string\"}\n",
    "            },\n",
    "            \"required\": [\"location\", \"food_type\"]\n",
    "        }\n",
    "    },\n",
    "    {\n",
    "        \"name\": \"find_attractions\",\n",
    "        \"description\": \"Find attractions by location and interest type.\",\n",
    "        \"parameters\": {\n",
    "            \"type\": \"object\",\n",
    "            \"properties\": {\n",
    "                \"location\": {\"type\": \"string\"},\n",
    "                \"interest_type\": {\"type\": \"string\"}\n",
    "            },\n",
    "            \"required\": [\"location\", \"interest_type\"]\n",
    "        }\n",
    "    }\n",
    "]"
   ]
  },
  {
   "cell_type": "markdown",
   "id": "d2e6d80d",
   "metadata": {
    "papermill": {
     "duration": 0.00664,
     "end_time": "2025-04-19T03:24:02.827879",
     "exception": false,
     "start_time": "2025-04-19T03:24:02.821239",
     "status": "completed"
    },
    "tags": []
   },
   "source": [
    "## 🧠 Step 7: Load Gemini Model with Function Calling Enabled"
   ]
  },
  {
   "cell_type": "code",
   "execution_count": 11,
   "id": "6306ddea",
   "metadata": {
    "execution": {
     "iopub.execute_input": "2025-04-19T03:24:02.842614Z",
     "iopub.status.busy": "2025-04-19T03:24:02.842295Z",
     "iopub.status.idle": "2025-04-19T03:24:02.847675Z",
     "shell.execute_reply": "2025-04-19T03:24:02.846915Z"
    },
    "papermill": {
     "duration": 0.014358,
     "end_time": "2025-04-19T03:24:02.848962",
     "exception": false,
     "start_time": "2025-04-19T03:24:02.834604",
     "status": "completed"
    },
    "tags": []
   },
   "outputs": [],
   "source": [
    "model_fc = genai.GenerativeModel(\n",
    "    model_name=\"gemini-1.5-flash\",\n",
    "    tools=[{\"function_declarations\": functions}]\n",
    ")"
   ]
  },
  {
   "cell_type": "markdown",
   "id": "49b583f8",
   "metadata": {
    "papermill": {
     "duration": 0.006754,
     "end_time": "2025-04-19T03:24:02.862580",
     "exception": false,
     "start_time": "2025-04-19T03:24:02.855826",
     "status": "completed"
    },
    "tags": []
   },
   "source": [
    "## 💬 Step 8: Ask Your Custom Travel Query!\n",
    "\n",
    "Try asking things like:\n",
    "- “Show me motels in Paris under $50”\n",
    "- “Find vegetarian restaurants in Paris”\n",
    "- “What museums can I visit in Paris?”\n",
    "\n",
    "Gemini will choose the right function automatically!\n",
    "\n",
    "### 🔧 How to Make the Code Interactive\n",
    "\n",
    "To make the query interactive, uncomment the line containing `input()` below. This will prompt you to enter your own travel query when you run the cell.\n",
    "\n",
    "By default, it’s set to a sample query. If you want to test it with your own query, simply uncomment the line and run the cell again.\n",
    "\n",
    "Example:\n",
    "```python\n",
    "### user_query = input(\"💬 Enter your travel query: \")  # Uncomment this line for interactive input"
   ]
  },
  {
   "cell_type": "markdown",
   "id": "41805ad1",
   "metadata": {
    "papermill": {
     "duration": 0.006629,
     "end_time": "2025-04-19T03:24:02.875944",
     "exception": false,
     "start_time": "2025-04-19T03:24:02.869315",
     "status": "completed"
    },
    "tags": []
   },
   "source": [
    "⚠️ **Note for Kaggle Users: Save Without Crashes**\n",
    "\n",
    "This cell block below uses `input()` and Gemini chat, which will throw an error if you click **\"Save & Run All\"** in Kaggle.\n",
    "\n",
    "To avoid this, use the `RUN_GEMINI_QUERY` flag below:\n",
    "\n",
    "- Set `RUN_GEMINI_QUERY = False` to skip chat logic when saving.\n",
    "- Set `RUN_GEMINI_QUERY = True` to run and test the chatbot.\n",
    "\n",
    "Only run the chatbot **manually**, not during \"Save & Run All\"."
   ]
  },
  {
   "cell_type": "code",
   "execution_count": 12,
   "id": "dba332a7",
   "metadata": {
    "execution": {
     "iopub.execute_input": "2025-04-19T03:24:02.891253Z",
     "iopub.status.busy": "2025-04-19T03:24:02.890927Z",
     "iopub.status.idle": "2025-04-19T03:24:02.898698Z",
     "shell.execute_reply": "2025-04-19T03:24:02.897994Z"
    },
    "papermill": {
     "duration": 0.017291,
     "end_time": "2025-04-19T03:24:02.900021",
     "exception": false,
     "start_time": "2025-04-19T03:24:02.882730",
     "status": "completed"
    },
    "tags": []
   },
   "outputs": [],
   "source": [
    "RUN_GEMINI_QUERY = False  # 👈 Change to True to test Gemini chat\n",
    "\n",
    "# 🔄 Gemini Chat Start (Guarded by flag)\n",
    "if RUN_GEMINI_QUERY:\n",
    "    chat = model_fc.start_chat()\n",
    "\n",
    "    # 🔄 Interactive Query\n",
    "    user_query = \"What museums can I visit in Paris?\"  # Default query\n",
    "    # user_query = input(\"💬 Enter your travel query: \")  # Uncomment for interactive input\n",
    "\n",
    "    # Send it to Gemini\n",
    "    response = chat.send_message(user_query)\n",
    "\n",
    "    if response.candidates[0].content.parts:\n",
    "        result = response.candidates[0].content.parts[0].function_call\n",
    "        print(\"🧠 Function to Call:\", result.name)\n",
    "\n",
    "        # Convert args to dict (Safe fix for notebook)\n",
    "        try:\n",
    "            args_dict = {k: v for k, v in result.args.items()}\n",
    "            print(\"📦 Arguments:\", args_dict)\n",
    "        except Exception as e:\n",
    "            print(f\"❌ Error converting arguments: {e}\")\n",
    "            args_dict = {}\n",
    "\n",
    "        # Call the corresponding Python function\n",
    "        if result.name == \"find_motels\":\n",
    "            output = find_motels(**args_dict)\n",
    "        elif result.name == \"find_restaurants\":\n",
    "            output = find_restaurants(**args_dict)\n",
    "        elif result.name == \"find_attractions\":\n",
    "            output = find_attractions(**args_dict)\n",
    "        else:\n",
    "            output = []\n",
    "\n",
    "        # Display results\n",
    "        if output:\n",
    "            print(\"🔎 Gemini's Results:\")\n",
    "            for i, entry in enumerate(output, 1):\n",
    "                print(f\"\\nResult #{i}\")\n",
    "                for k, v in entry.items():\n",
    "                    print(f\"- {k.capitalize()}: {v}\")\n",
    "        else:\n",
    "            print(\"🤷 No matching results found.\")\n",
    "    else:\n",
    "        print(\"❌ Gemini didn’t suggest a function to call.\")"
   ]
  },
  {
   "cell_type": "markdown",
   "id": "8aae31c8",
   "metadata": {
    "papermill": {
     "duration": 0.006663,
     "end_time": "2025-04-19T03:24:02.913739",
     "exception": false,
     "start_time": "2025-04-19T03:24:02.907076",
     "status": "completed"
    },
    "tags": []
   },
   "source": [
    "## 📄 Step 9: Ask Your Custom Travel Query!\n",
    "***\n",
    "📂 Upload PDFs like rome_guide.pdf, paris_brochure.pdf to your Kaggle notebook directory\n",
    "Replace the filenames list with your uploaded file names below 👇🏼"
   ]
  },
  {
   "cell_type": "code",
   "execution_count": 13,
   "id": "6a56e17c",
   "metadata": {
    "execution": {
     "iopub.execute_input": "2025-04-19T03:24:02.928766Z",
     "iopub.status.busy": "2025-04-19T03:24:02.928168Z",
     "iopub.status.idle": "2025-04-19T03:24:03.487502Z",
     "shell.execute_reply": "2025-04-19T03:24:03.486533Z"
    },
    "papermill": {
     "duration": 0.568445,
     "end_time": "2025-04-19T03:24:03.488915",
     "exception": false,
     "start_time": "2025-04-19T03:24:02.920470",
     "status": "completed"
    },
    "tags": []
   },
   "outputs": [
    {
     "name": "stdout",
     "output_type": "stream",
     "text": [
      "✅ Extracted 75 chunks from 3 files.\n"
     ]
    }
   ],
   "source": [
    "# List your travel brochure PDF files here\n",
    "filenames = [\"/kaggle/input/travel-brochures/Japan.pdf\", \"/kaggle/input/travel-brochures/Malaysia.pdf\", \"/kaggle/input/travel-brochures/Thailand.pdf\"]  # Replace with your own uploaded PDFs\n",
    "\n",
    "# Helper function to extract all text from PDFs using PyMuPDF\n",
    "def extract_text_from_pdfs(pdf_files):\n",
    "    text_chunks = []\n",
    "    for file in pdf_files:\n",
    "        with fitz.open(file) as doc:\n",
    "            for page in doc:\n",
    "                text = page.get_text()\n",
    "                # Chunking: Split into small parts (~500 words)\n",
    "                words = text.split()\n",
    "                for i in range(0, len(words), 500):\n",
    "                    chunk = \" \".join(words[i:i+500])\n",
    "                    text_chunks.append(chunk)\n",
    "    return text_chunks\n",
    "\n",
    "# Extract text from the uploaded PDFs\n",
    "pdf_chunks = extract_text_from_pdfs(filenames)\n",
    "\n",
    "print(f\"✅ Extracted {len(pdf_chunks)} chunks from {len(filenames)} files.\")"
   ]
  },
  {
   "cell_type": "markdown",
   "id": "97b80c5b",
   "metadata": {
    "papermill": {
     "duration": 0.00668,
     "end_time": "2025-04-19T03:24:03.502576",
     "exception": false,
     "start_time": "2025-04-19T03:24:03.495896",
     "status": "completed"
    },
    "tags": []
   },
   "source": [
    "## 🧬 Step 10: Generate Embeddings + Build FAISS Index\n",
    "***\n",
    "We’ll embed all chunks using Gemini’s embedding API, then build a FAISS index to enable similarity search."
   ]
  },
  {
   "cell_type": "code",
   "execution_count": 14,
   "id": "8897b6a3",
   "metadata": {
    "execution": {
     "iopub.execute_input": "2025-04-19T03:24:03.517873Z",
     "iopub.status.busy": "2025-04-19T03:24:03.517012Z",
     "iopub.status.idle": "2025-04-19T03:24:23.209957Z",
     "shell.execute_reply": "2025-04-19T03:24:23.208951Z"
    },
    "papermill": {
     "duration": 19.702173,
     "end_time": "2025-04-19T03:24:23.211438",
     "exception": false,
     "start_time": "2025-04-19T03:24:03.509265",
     "status": "completed"
    },
    "tags": []
   },
   "outputs": [
    {
     "name": "stdout",
     "output_type": "stream",
     "text": [
      "✅ FAISS index built with 75 chunks.\n"
     ]
    }
   ],
   "source": [
    "# Load the embedding model\n",
    "embedding_model = \"models/embedding-001\"\n",
    "\n",
    "# Embed all PDF text chunks\n",
    "pdf_embeddings = []\n",
    "for chunk in pdf_chunks:\n",
    "    response = genai.embed_content(model=embedding_model, content=chunk)\n",
    "    pdf_embeddings.append(response[\"embedding\"])\n",
    "\n",
    "# Convert to numpy array for FAISS\n",
    "embedding_matrix = np.array(pdf_embeddings).astype(\"float32\")\n",
    "\n",
    "# Build the FAISS index\n",
    "index = faiss.IndexFlatL2(embedding_matrix.shape[1])\n",
    "index.add(embedding_matrix)\n",
    "\n",
    "print(\"✅ FAISS index built with\", index.ntotal, \"chunks.\")"
   ]
  },
  {
   "cell_type": "markdown",
   "id": "4822082c",
   "metadata": {
    "papermill": {
     "duration": 0.008562,
     "end_time": "2025-04-19T03:24:23.227256",
     "exception": false,
     "start_time": "2025-04-19T03:24:23.218694",
     "status": "completed"
    },
    "tags": []
   },
   "source": [
    "## ❓ Step 11: Ask Questions Based on Brochure PDFs (RAG)\n",
    "***\n",
    "You can now ask Gemini any question related to the brochure PDFs you uploaded.\n",
    "We’ll search the most relevant chunks using FAISS, then pass them to Gemini to answer.\n",
    "\n",
    "You can change the question below to test custom ones 👇🏼"
   ]
  },
  {
   "cell_type": "code",
   "execution_count": 15,
   "id": "28e514ce",
   "metadata": {
    "execution": {
     "iopub.execute_input": "2025-04-19T03:24:23.243696Z",
     "iopub.status.busy": "2025-04-19T03:24:23.243007Z",
     "iopub.status.idle": "2025-04-19T03:24:24.664736Z",
     "shell.execute_reply": "2025-04-19T03:24:24.663693Z"
    },
    "papermill": {
     "duration": 1.431588,
     "end_time": "2025-04-19T03:24:24.666263",
     "exception": false,
     "start_time": "2025-04-19T03:24:23.234675",
     "status": "completed"
    },
    "tags": []
   },
   "outputs": [
    {
     "name": "stdout",
     "output_type": "stream",
     "text": [
      "💬 Gemini's Answer:\n",
      "\n",
      "Based on the brochure, here are some historical places to visit in Japan:\n",
      "\n",
      "*   **Matsumoto:** Famed for its Matsumoto Castle, one of Japan’s oldest fortresses.\n",
      "*   **Takayama:** Home to the historic village of Shirakawa-go, a UNESCO World Heritage Site with ancient architectures and customs.\n",
      "*   **Nara:** Home to many age-old cultural values and Nara Park. It was the first permanent capital until 784.\n",
      "*   **Kyoto:** The former capital until 1867 and regarded as the soul of Japan with innumerable sacred temples and shrines (17 UNESCO World Heritage Sites).\n",
      "*   **Kanazawa:** Offers an abundance of intact historic treasures.\n",
      "\n"
     ]
    }
   ],
   "source": [
    "# ✅ Change this to ask your own brochure-related question\n",
    "question = \"What are some historical places to visit in Japan?\"\n",
    "\n",
    "# 🔍 Step 1: Embed your question\n",
    "query_embedding = genai.embed_content(model=embedding_model, content=question)[\"embedding\"]\n",
    "query_vector = np.array(query_embedding).astype(\"float32\").reshape(1, -1)\n",
    "\n",
    "# 🔍 Step 2: Perform similarity search\n",
    "k = 3  # Retrieve top 3 similar chunks\n",
    "_, indices = index.search(query_vector, k)\n",
    "\n",
    "# 🔍 Step 3: Retrieve top chunks\n",
    "retrieved_chunks = [pdf_chunks[i] for i in indices[0]]\n",
    "\n",
    "# 🔍 Step 4: Construct prompt with relevant chunks\n",
    "rag_prompt = f\"\"\"\n",
    "You are a helpful travel assistant. Based on the travel brochure content below, answer the user's question.\n",
    "\n",
    "Brochure Extracts:\n",
    "---\\n{retrieved_chunks[0]}\\n---\\n{retrieved_chunks[1]}\\n---\\n{retrieved_chunks[2]}\\n---\n",
    "\n",
    "Question: {question}\n",
    "\n",
    "Answer:\"\"\"\n",
    "\n",
    "# 🔍 Step 5: Ask Gemini using RAG context\n",
    "rag_response = model.generate_content(rag_prompt)\n",
    "print(\"💬 Gemini's Answer:\\n\")\n",
    "print(rag_response.text)"
   ]
  }
 ],
 "metadata": {
  "kaggle": {
   "accelerator": "none",
   "dataSources": [
    {
     "sourceId": 97258,
     "sourceType": "competition"
    },
    {
     "datasetId": 7186668,
     "sourceId": 11468140,
     "sourceType": "datasetVersion"
    }
   ],
   "dockerImageVersionId": 31012,
   "isGpuEnabled": false,
   "isInternetEnabled": true,
   "language": "python",
   "sourceType": "notebook"
  },
  "kernelspec": {
   "display_name": "Python 3",
   "language": "python",
   "name": "python3"
  },
  "language_info": {
   "codemirror_mode": {
    "name": "ipython",
    "version": 3
   },
   "file_extension": ".py",
   "mimetype": "text/x-python",
   "name": "python",
   "nbconvert_exporter": "python",
   "pygments_lexer": "ipython3",
   "version": "3.11.11"
  },
  "papermill": {
   "default_parameters": {},
   "duration": 59.097757,
   "end_time": "2025-04-19T03:24:27.690174",
   "environment_variables": {},
   "exception": null,
   "input_path": "__notebook__.ipynb",
   "output_path": "__notebook__.ipynb",
   "parameters": {},
   "start_time": "2025-04-19T03:23:28.592417",
   "version": "2.6.0"
  }
 },
 "nbformat": 4,
 "nbformat_minor": 5
}

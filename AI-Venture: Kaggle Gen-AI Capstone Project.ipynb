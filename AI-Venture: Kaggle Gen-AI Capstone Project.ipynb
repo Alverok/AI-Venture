{
 "cells": [
  {
   "cell_type": "markdown",
   "id": "5e1e9254",
   "metadata": {
    "papermill": {
     "duration": 0.006578,
     "end_time": "2025-04-19T17:53:49.587335",
     "exception": false,
     "start_time": "2025-04-19T17:53:49.580757",
     "status": "completed"
    },
    "tags": []
   },
   "source": [
    "# 🗺️ **AI-Venture: GenAI-Powered Travel Companion**\n",
    "---\n",
    "\n",
    "An intelligent trip planner that generates **personalized itineraries**, recommends accommodations and experiences, and answers user queries — enhanced with **Google Gemini**.\n",
    "\n",
    "---\n",
    "\n",
    "## ✅ _Problem Statement_\n",
    "\n",
    "Planning a trip should be exciting—not exhausting. But without a travel guide or broker, organizing a vacation becomes time-consuming and frustrating. Hiring a guide can be costly, and endless searching online doesn’t always match your preferences.\n",
    "\n",
    "**AI-Venture** is here to simplify it all with a smart, AI-driven solution.\n",
    "\n",
    "---\n",
    "\n",
    "## 💡 _Solution Overview_\n",
    "\n",
    "**AI-Venture** is an intelligent assistant that helps you:\n",
    "\n",
    "- Create tailored itineraries  \n",
    "- Stay within budget  \n",
    "- Discover local food, culture, and attractions  \n",
    "- Answer travel-related questions from uploaded brochures/guides  \n",
    "\n",
    "Built using **Google Gemini API**, it combines conversational AI, semantic search, and function-calling.\n",
    "\n",
    "---\n",
    "\n",
    "## 🔮 _Gen AI Capabilities Demonstrated_\n",
    "\n",
    "- 🧠 **Few-Shot Prompting**: Fine-tuned prompts to shape Gemini’s behavior.  \n",
    "- 📄 **Structured Output (JSON)**: Clean and readable parsed responses.  \n",
    "- 🧭 **Function Calling**: Generate personalized itineraries based on time, location, and budget.  \n",
    "- 📚 **Retrieval-Augmented Generation (RAG)**: Answer from uploaded PDFs and brochures.  \n",
    "- 🔍 **Embeddings + Vector Search (FAISS)**: Semantic search for relevant document chunks.\n",
    "\n",
    "---"
   ]
  },
  {
   "cell_type": "markdown",
   "id": "259d6c23",
   "metadata": {
    "papermill": {
     "duration": 0.00513,
     "end_time": "2025-04-19T17:53:49.597703",
     "exception": false,
     "start_time": "2025-04-19T17:53:49.592573",
     "status": "completed"
    },
    "tags": []
   },
   "source": [
    "### 📦 Environment Setup:\n",
    "Let's install all the necessary libraries for our project.\n",
    "\n",
    "---"
   ]
  },
  {
   "cell_type": "code",
   "execution_count": 1,
   "id": "318ad515",
   "metadata": {
    "execution": {
     "iopub.execute_input": "2025-04-19T17:53:49.609506Z",
     "iopub.status.busy": "2025-04-19T17:53:49.609103Z",
     "iopub.status.idle": "2025-04-19T17:54:17.926991Z",
     "shell.execute_reply": "2025-04-19T17:54:17.925828Z"
    },
    "papermill": {
     "duration": 28.326036,
     "end_time": "2025-04-19T17:54:17.928875",
     "exception": false,
     "start_time": "2025-04-19T17:53:49.602839",
     "status": "completed"
    },
    "tags": []
   },
   "outputs": [
    {
     "name": "stdout",
     "output_type": "stream",
     "text": [
      "\u001b[2K   \u001b[90m━━━━━━━━━━━━━━━━━━━━━━━━━━━━━━━━━━━━━━━━\u001b[0m \u001b[32m155.4/155.4 kB\u001b[0m \u001b[31m7.4 MB/s\u001b[0m eta \u001b[36m0:00:00\u001b[0m\r\n",
      "\u001b[2K   \u001b[90m━━━━━━━━━━━━━━━━━━━━━━━━━━━━━━━━━━━━━━━━\u001b[0m \u001b[32m20.0/20.0 MB\u001b[0m \u001b[31m71.5 MB/s\u001b[0m eta \u001b[36m0:00:00\u001b[0m\r\n",
      "\u001b[2K   \u001b[90m━━━━━━━━━━━━━━━━━━━━━━━━━━━━━━━━━━━━━━━━\u001b[0m \u001b[32m30.7/30.7 MB\u001b[0m \u001b[31m51.0 MB/s\u001b[0m eta \u001b[36m0:00:00\u001b[0m\r\n",
      "\u001b[2K   \u001b[90m━━━━━━━━━━━━━━━━━━━━━━━━━━━━━━━━━━━━━━━━\u001b[0m \u001b[32m46.9/46.9 MB\u001b[0m \u001b[31m32.2 MB/s\u001b[0m eta \u001b[36m0:00:00\u001b[0m\r\n",
      "\u001b[2K   \u001b[90m━━━━━━━━━━━━━━━━━━━━━━━━━━━━━━━━━━━━━━━━\u001b[0m \u001b[32m322.2/322.2 kB\u001b[0m \u001b[31m17.2 MB/s\u001b[0m eta \u001b[36m0:00:00\u001b[0m\r\n",
      "\u001b[2K   \u001b[90m━━━━━━━━━━━━━━━━━━━━━━━━━━━━━━━━━━━━━━━━\u001b[0m \u001b[32m95.2/95.2 kB\u001b[0m \u001b[31m5.2 MB/s\u001b[0m eta \u001b[36m0:00:00\u001b[0m\r\n",
      "\u001b[2K   \u001b[90m━━━━━━━━━━━━━━━━━━━━━━━━━━━━━━━━━━━━━━━━\u001b[0m \u001b[32m11.5/11.5 MB\u001b[0m \u001b[31m85.8 MB/s\u001b[0m eta \u001b[36m0:00:00\u001b[0m\r\n",
      "\u001b[2K   \u001b[90m━━━━━━━━━━━━━━━━━━━━━━━━━━━━━━━━━━━━━━━━\u001b[0m \u001b[32m72.0/72.0 kB\u001b[0m \u001b[31m4.6 MB/s\u001b[0m eta \u001b[36m0:00:00\u001b[0m\r\n",
      "\u001b[2K   \u001b[90m━━━━━━━━━━━━━━━━━━━━━━━━━━━━━━━━━━━━━━━━\u001b[0m \u001b[32m62.5/62.5 kB\u001b[0m \u001b[31m4.0 MB/s\u001b[0m eta \u001b[36m0:00:00\u001b[0m\r\n",
      "\u001b[?25h"
     ]
    }
   ],
   "source": [
    "!pip install -q -U google-generativeai PyMuPDF faiss-cpu gradio"
   ]
  },
  {
   "cell_type": "markdown",
   "id": "447906d9",
   "metadata": {
    "papermill": {
     "duration": 0.006452,
     "end_time": "2025-04-19T17:54:17.942689",
     "exception": false,
     "start_time": "2025-04-19T17:54:17.936237",
     "status": "completed"
    },
    "tags": []
   },
   "source": [
    "### 📚 Import Libraries:\n",
    "\n",
    "---"
   ]
  },
  {
   "cell_type": "code",
   "execution_count": 2,
   "id": "9344b693",
   "metadata": {
    "execution": {
     "iopub.execute_input": "2025-04-19T17:54:17.957360Z",
     "iopub.status.busy": "2025-04-19T17:54:17.957062Z",
     "iopub.status.idle": "2025-04-19T17:54:21.900082Z",
     "shell.execute_reply": "2025-04-19T17:54:21.899345Z"
    },
    "papermill": {
     "duration": 3.952257,
     "end_time": "2025-04-19T17:54:21.901565",
     "exception": false,
     "start_time": "2025-04-19T17:54:17.949308",
     "status": "completed"
    },
    "tags": []
   },
   "outputs": [],
   "source": [
    "import google.generativeai as genai\n",
    "import os\n",
    "import pandas as pd\n",
    "import fitz  \n",
    "import faiss\n",
    "import json\n",
    "import numpy as np\n",
    "import re\n",
    "from IPython.display import Markdown, display"
   ]
  },
  {
   "cell_type": "markdown",
   "id": "48d4d74b",
   "metadata": {
    "papermill": {
     "duration": 0.006443,
     "end_time": "2025-04-19T17:54:21.914832",
     "exception": false,
     "start_time": "2025-04-19T17:54:21.908389",
     "status": "completed"
    },
    "tags": []
   },
   "source": [
    "### 🔐 API Key Setup:\n",
    "\n",
    "---\n",
    "Authenticate with your API key using:\n",
    "\n",
    "`import google.generativeai as genai\n",
    "genai.configure(api_key=\"your-key\")`\n",
    "\n",
    "Replace with your `GOOGLE_API_KEY` stored as an environment variable or secret."
   ]
  },
  {
   "cell_type": "code",
   "execution_count": 3,
   "id": "8cb7ddd4",
   "metadata": {
    "execution": {
     "iopub.execute_input": "2025-04-19T17:54:21.929475Z",
     "iopub.status.busy": "2025-04-19T17:54:21.928951Z",
     "iopub.status.idle": "2025-04-19T17:54:22.091880Z",
     "shell.execute_reply": "2025-04-19T17:54:22.091215Z"
    },
    "papermill": {
     "duration": 0.171941,
     "end_time": "2025-04-19T17:54:22.093360",
     "exception": false,
     "start_time": "2025-04-19T17:54:21.921419",
     "status": "completed"
    },
    "tags": []
   },
   "outputs": [],
   "source": [
    "from kaggle_secrets import UserSecretsClient\n",
    "GOOGLE_API_KEY = UserSecretsClient().get_secret(\"GOOGLE_API_KEY\")\n",
    "\n",
    "# Set your Gemini API key\n",
    "genai.configure(api_key=GOOGLE_API_KEY)\n",
    "\n",
    "# Create a model instance\n",
    "model = genai.GenerativeModel(\"gemini-2.0-flash\")"
   ]
  },
  {
   "cell_type": "markdown",
   "id": "bfd79d2e",
   "metadata": {
    "papermill": {
     "duration": 0.006859,
     "end_time": "2025-04-19T17:54:22.107724",
     "exception": false,
     "start_time": "2025-04-19T17:54:22.100865",
     "status": "completed"
    },
    "tags": []
   },
   "source": [
    "### 🗃️ Defining Dataframes:\n",
    "---\n",
    "We’ll manually define motels, restaurants & attractions dataframes for AI to work with."
   ]
  },
  {
   "cell_type": "code",
   "execution_count": 4,
   "id": "876f1afa",
   "metadata": {
    "execution": {
     "iopub.execute_input": "2025-04-19T17:54:22.122741Z",
     "iopub.status.busy": "2025-04-19T17:54:22.122390Z",
     "iopub.status.idle": "2025-04-19T17:54:22.265601Z",
     "shell.execute_reply": "2025-04-19T17:54:22.264841Z"
    },
    "papermill": {
     "duration": 0.152307,
     "end_time": "2025-04-19T17:54:22.266880",
     "exception": false,
     "start_time": "2025-04-19T17:54:22.114573",
     "status": "completed"
    },
    "tags": []
   },
   "outputs": [],
   "source": [
    "# Sample motels, restaurants, attractions\n",
    "motels = pd.DataFrame([\n",
    "    # Paris\n",
    "    {\"name\": \"Cozy Inn\", \"location\": \"Paris\", \"price_per_night\": 45, \"rating\": 4.2},\n",
    "    {\"name\": \"Budget Stay\", \"location\": \"Paris\", \"price_per_night\": 30, \"rating\": 3.8},\n",
    "    {\"name\": \"Chic Rooms\", \"location\": \"Paris\", \"price_per_night\": 65, \"rating\": 4.5},\n",
    "\n",
    "    # Rome\n",
    "    {\"name\": \"Rome Comfort Hotel\", \"location\": \"Rome\", \"price_per_night\": 50, \"rating\": 4.0},\n",
    "    {\"name\": \"Trastevere Budget Inn\", \"location\": \"Rome\", \"price_per_night\": 35, \"rating\": 3.7},\n",
    "    {\"name\": \"Hotel Bella Roma\", \"location\": \"Rome\", \"price_per_night\": 60, \"rating\": 4.3},\n",
    "\n",
    "    # Berlin\n",
    "    {\"name\": \"Berlin Central Stay\", \"location\": \"Berlin\", \"price_per_night\": 48, \"rating\": 4.1},\n",
    "    {\"name\": \"Budget Lodge Berlin\", \"location\": \"Berlin\", \"price_per_night\": 32, \"rating\": 3.9},\n",
    "    {\"name\": \"Checkpoint Hostel\", \"location\": \"Berlin\", \"price_per_night\": 27, \"rating\": 3.6},\n",
    "\n",
    "    # Barcelona\n",
    "    {\"name\": \"Barcelona Breeze\", \"location\": \"Barcelona\", \"price_per_night\": 55, \"rating\": 4.4},\n",
    "    {\"name\": \"La Rambla Inn\", \"location\": \"Barcelona\", \"price_per_night\": 40, \"rating\": 4.0},\n",
    "    {\"name\": \"El Centro Lodge\", \"location\": \"Barcelona\", \"price_per_night\": 33, \"rating\": 3.8}\n",
    "])\n",
    "\n",
    "restaurants = pd.DataFrame([\n",
    "    # Paris\n",
    "    {\"name\": \"Veggie Delight\", \"location\": \"Paris\", \"type\": \"Vegetarian\", \"price_range\": \"Low\"},\n",
    "    {\"name\": \"Cafe Royale\", \"location\": \"Paris\", \"type\": \"Cafe\", \"price_range\": \"Medium\"},\n",
    "    {\"name\": \"Seafood Heaven\", \"location\": \"Paris\", \"type\": \"Seafood\", \"price_range\": \"High\"},\n",
    "\n",
    "    # Rome\n",
    "    {\"name\": \"Pasta Fresca\", \"location\": \"Rome\", \"type\": \"Italian\", \"price_range\": \"Medium\"},\n",
    "    {\"name\": \"Vegan Vibe\", \"location\": \"Rome\", \"type\": \"Vegetarian\", \"price_range\": \"Low\"},\n",
    "    {\"name\": \"Trattoria Romano\", \"location\": \"Rome\", \"type\": \"Traditional\", \"price_range\": \"High\"},\n",
    "\n",
    "    # Berlin\n",
    "    {\"name\": \"Berlin Bites\", \"location\": \"Berlin\", \"type\": \"Fast Food\", \"price_range\": \"Low\"},\n",
    "    {\"name\": \"Wurst Haus\", \"location\": \"Berlin\", \"type\": \"German\", \"price_range\": \"Medium\"},\n",
    "    {\"name\": \"Green Eats\", \"location\": \"Berlin\", \"type\": \"Vegan\", \"price_range\": \"Low\"},\n",
    "\n",
    "    # Barcelona\n",
    "    {\"name\": \"Tapas Town\", \"location\": \"Barcelona\", \"type\": \"Tapas\", \"price_range\": \"Medium\"},\n",
    "    {\"name\": \"La Veggiera\", \"location\": \"Barcelona\", \"type\": \"Vegetarian\", \"price_range\": \"Low\"},\n",
    "    {\"name\": \"Mar y Sol\", \"location\": \"Barcelona\", \"type\": \"Seafood\", \"price_range\": \"High\"}\n",
    "])\n",
    "\n",
    "attractions = pd.DataFrame([\n",
    "    # Paris\n",
    "    {\"name\": \"Eiffel Tower\", \"location\": \"Paris\", \"type\": \"Landmark\", \"duration\": \"2 hours\"},\n",
    "    {\"name\": \"Louvre Museum\", \"location\": \"Paris\", \"type\": \"Museum\", \"duration\": \"3 hours\"},\n",
    "    {\"name\": \"Seine River Cruise\", \"location\": \"Paris\", \"type\": \"Experience\", \"duration\": \"1.5 hours\"},\n",
    "\n",
    "    # Rome\n",
    "    {\"name\": \"Colosseum\", \"location\": \"Rome\", \"type\": \"Landmark\", \"duration\": \"2 hours\"},\n",
    "    {\"name\": \"Vatican Museums\", \"location\": \"Rome\", \"type\": \"Museum\", \"duration\": \"3 hours\"},\n",
    "    {\"name\": \"Trevi Fountain\", \"location\": \"Rome\", \"type\": \"Landmark\", \"duration\": \"1 hour\"},\n",
    "\n",
    "    # Berlin\n",
    "    {\"name\": \"Brandenburg Gate\", \"location\": \"Berlin\", \"type\": \"Landmark\", \"duration\": \"1 hour\"},\n",
    "    {\"name\": \"Pergamon Museum\", \"location\": \"Berlin\", \"type\": \"Museum\", \"duration\": \"2.5 hours\"},\n",
    "    {\"name\": \"Berlin Wall Memorial\", \"location\": \"Berlin\", \"type\": \"Historical\", \"duration\": \"1.5 hours\"},\n",
    "\n",
    "    # Barcelona\n",
    "    {\"name\": \"Sagrada Familia\", \"location\": \"Barcelona\", \"type\": \"Landmark\", \"duration\": \"2 hours\"},\n",
    "    {\"name\": \"Park Güell\", \"location\": \"Barcelona\", \"type\": \"Experience\", \"duration\": \"1.5 hours\"},\n",
    "    {\"name\": \"Picasso Museum\", \"location\": \"Barcelona\", \"type\": \"Museum\", \"duration\": \"2 hours\"}\n",
    "])"
   ]
  },
  {
   "cell_type": "markdown",
   "id": "02a5db34",
   "metadata": {
    "papermill": {
     "duration": 0.006325,
     "end_time": "2025-04-19T17:54:22.279961",
     "exception": false,
     "start_time": "2025-04-19T17:54:22.273636",
     "status": "completed"
    },
    "tags": []
   },
   "source": [
    "## 1. 🧠 Teaching the AI with Examples (Few-Shot Prompting)\n",
    "---\n",
    "We’re going to provide a few example inputs and desired outputs.  \n",
    "This helps Gemini understand what a “good itinerary” looks like.\n",
    "\n",
    "We use:\n",
    "- Example input/output\n",
    "- User's input at the end\n",
    "- Ask Gemini to respond **only in JSON**"
   ]
  },
  {
   "cell_type": "code",
   "execution_count": 5,
   "id": "682d324c",
   "metadata": {
    "execution": {
     "iopub.execute_input": "2025-04-19T17:54:22.295275Z",
     "iopub.status.busy": "2025-04-19T17:54:22.294940Z",
     "iopub.status.idle": "2025-04-19T17:54:22.300759Z",
     "shell.execute_reply": "2025-04-19T17:54:22.299858Z"
    },
    "papermill": {
     "duration": 0.015167,
     "end_time": "2025-04-19T17:54:22.302262",
     "exception": false,
     "start_time": "2025-04-19T17:54:22.287095",
     "status": "completed"
    },
    "tags": []
   },
   "outputs": [],
   "source": [
    "# Function to build the few-shot prompt for the model\n",
    "def build_few_shot_prompt(user):\n",
    "    return f\"\"\"\n",
    "You are a travel planner assistant. Based on the user's input, generate a {user[\"days\"]}-day travel itinerary in JSON format.\n",
    "\n",
    "Instructions:\n",
    "- Recommend motels, attractions, and restaurants that match the user's preferences.\n",
    "- Stay strictly within the total budget (in USD).\n",
    "- Keep each day's total cost proportional to the total budget.\n",
    "- Include estimated cost breakdowns (in USD) for:\n",
    "  - Motel\n",
    "  - Food\n",
    "  - Attraction entrance fees (if applicable)\n",
    "- Mention attraction durations where useful.\n",
    "- **Do not use tildes (~) anywhere.**\n",
    "- Respond in clean, readable JSON only (no explanations).\n",
    "- Follow this structure exactly.\n",
    "\n",
    "Example:\n",
    "\n",
    "User: {{\n",
    "  \"name\": \"Aarav\",\n",
    "  \"destination\": \"Tokyo\",\n",
    "  \"days\": 2,\n",
    "  \"budget\": 150,\n",
    "  \"preferences\": {{\n",
    "    \"food\": \"Vegetarian\",\n",
    "    \"interests\": [\"Museum\", \"Cultural\"]\n",
    "  }}\n",
    "}}\n",
    "\n",
    "Response:\n",
    "{{\n",
    "  \"day_1\": {{\n",
    "    \"attractions\": [\n",
    "      \"Tokyo National Museum (Entry approx. $7, Duration: 2 hrs)\",\n",
    "      \"Asakusa Shrine (Free, Duration: 1 hr)\"\n",
    "    ],\n",
    "    \"restaurant\": \"Veggie Sora (Estimated around $14)\",\n",
    "    \"motel\": \"Tokyo Budget Inn (Estimated around $28/night)\",\n",
    "    \"total_cost\": 70\n",
    "  }},\n",
    "  \"day_2\": {{\n",
    "    \"attractions\": [\n",
    "      \"Meiji Shrine (Free, Duration: 1.5 hrs)\",\n",
    "      \"Ueno Park (Free, Duration: 1 hr)\"\n",
    "    ],\n",
    "    \"restaurant\": \"Green Table Tokyo (Estimated around $14)\",\n",
    "    \"motel\": \"Tokyo Budget Inn (Estimated around $28/night)\",\n",
    "    \"total_cost\": 70\n",
    "  }},\n",
    "  \"notes\": \"Remaining $10 can be used for transport or snacks.\"\n",
    "}}\n",
    "\n",
    "Now generate for this user:\n",
    "\n",
    "User: {json.dumps(user, indent=2)}\n",
    "Response:\n",
    "\"\"\""
   ]
  },
  {
   "cell_type": "markdown",
   "id": "3c8fe4a7",
   "metadata": {
    "papermill": {
     "duration": 0.00757,
     "end_time": "2025-04-19T17:54:22.316910",
     "exception": false,
     "start_time": "2025-04-19T17:54:22.309340",
     "status": "completed"
    },
    "tags": []
   },
   "source": [
    "## 2. 👩🏼‍💻 Enter Your Travel Preferences (Structured JSON Output)\n",
    "---\n",
    "You can change this JSON script below 👇🏼 to create your own trip. Modify:\n",
    "- `destination`\n",
    "- `days`\n",
    "- `budget`\n",
    "- `food` type\n",
    "- `interests`\n",
    "\n",
    "Then run the cells below to generate your own travel plan!"
   ]
  },
  {
   "cell_type": "code",
   "execution_count": 6,
   "id": "4f34a755",
   "metadata": {
    "execution": {
     "iopub.execute_input": "2025-04-19T17:54:22.332283Z",
     "iopub.status.busy": "2025-04-19T17:54:22.331980Z",
     "iopub.status.idle": "2025-04-19T17:54:22.336375Z",
     "shell.execute_reply": "2025-04-19T17:54:22.335562Z"
    },
    "papermill": {
     "duration": 0.013604,
     "end_time": "2025-04-19T17:54:22.337960",
     "exception": false,
     "start_time": "2025-04-19T17:54:22.324356",
     "status": "completed"
    },
    "tags": []
   },
   "outputs": [],
   "source": [
    "# Example user travel preferences\n",
    "user_input = {\n",
    "    \"name\": \"John\",\n",
    "    \"destination\": \"Paris\",\n",
    "    \"days\": 2,\n",
    "    \"budget\": 200,\n",
    "    \"preferences\": {\n",
    "        \"food\": \"Vegetarian\",\n",
    "        \"interests\": [\"Landmark\", \"Museum\"]\n",
    "    }\n",
    "}"
   ]
  },
  {
   "cell_type": "code",
   "execution_count": 7,
   "id": "05409cd9",
   "metadata": {
    "execution": {
     "iopub.execute_input": "2025-04-19T17:54:22.352572Z",
     "iopub.status.busy": "2025-04-19T17:54:22.352236Z",
     "iopub.status.idle": "2025-04-19T17:54:24.245518Z",
     "shell.execute_reply": "2025-04-19T17:54:24.244289Z"
    },
    "papermill": {
     "duration": 1.902471,
     "end_time": "2025-04-19T17:54:24.247244",
     "exception": false,
     "start_time": "2025-04-19T17:54:22.344773",
     "status": "completed"
    },
    "tags": []
   },
   "outputs": [
    {
     "name": "stdout",
     "output_type": "stream",
     "text": [
      "```json\n",
      "{\n",
      "  \"day_1\": {\n",
      "    \"attractions\": [\n",
      "      \"Eiffel Tower (Entry approx. $30, Duration: 2 hrs)\",\n",
      "      \"Louvre Museum (Entry approx. $20, Duration: 3 hrs)\"\n",
      "    ],\n",
      "    \"restaurant\": \"Le Potager du Marais (Estimated around $25)\",\n",
      "    \"motel\": \"Hotel FIAP Paris (Estimated around $40/night)\",\n",
      "    \"total_cost\": 115\n",
      "  },\n",
      "  \"day_2\": {\n",
      "    \"attractions\": [\n",
      "      \"Arc de Triomphe (Entry approx. $16, Duration: 1.5 hrs)\",\n",
      "      \"Sainte-Chapelle (Entry approx. $13, Duration: 1 hr)\"\n",
      "    ],\n",
      "    \"restaurant\": \"VG Pâtisserie (Estimated around $15)\",\n",
      "    \"motel\": \"Hotel FIAP Paris (Estimated around $40/night)\",\n",
      "    \"total_cost\": 84\n",
      "  },\n",
      "  \"notes\": \"Remaining $1 can be used for small snack.\"\n",
      "}\n",
      "```\n"
     ]
    }
   ],
   "source": [
    "prompt = build_few_shot_prompt(user_input)\n",
    "\n",
    "response = model.generate_content(prompt)\n",
    "\n",
    "# Print raw response\n",
    "print(response.text)"
   ]
  },
  {
   "cell_type": "markdown",
   "id": "9cd3db56",
   "metadata": {
    "papermill": {
     "duration": 0.00679,
     "end_time": "2025-04-19T17:54:24.260887",
     "exception": false,
     "start_time": "2025-04-19T17:54:24.254097",
     "status": "completed"
    },
    "tags": []
   },
   "source": [
    "---\n",
    "### 🔎 View Your Personalized Itinerary\n",
    "---\n",
    "Gemini replies in JSON format. We’ll parse it and display:\n",
    "- Attractions\n",
    "- Motels\n",
    "- Restaurants\n",
    "- Estimated cost\n",
    "- Notes / Tips"
   ]
  },
  {
   "cell_type": "code",
   "execution_count": 8,
   "id": "2d499172",
   "metadata": {
    "execution": {
     "iopub.execute_input": "2025-04-19T17:54:24.276174Z",
     "iopub.status.busy": "2025-04-19T17:54:24.275324Z",
     "iopub.status.idle": "2025-04-19T17:54:24.305121Z",
     "shell.execute_reply": "2025-04-19T17:54:24.304366Z"
    },
    "papermill": {
     "duration": 0.038902,
     "end_time": "2025-04-19T17:54:24.306524",
     "exception": false,
     "start_time": "2025-04-19T17:54:24.267622",
     "status": "completed"
    },
    "tags": []
   },
   "outputs": [
    {
     "data": {
      "text/markdown": [
       "## ✈️ Travel Itinerary"
      ],
      "text/plain": [
       "<IPython.core.display.Markdown object>"
      ]
     },
     "metadata": {},
     "output_type": "display_data"
    },
    {
     "data": {
      "text/markdown": [
       "### 🗓️ Day 1"
      ],
      "text/plain": [
       "<IPython.core.display.Markdown object>"
      ]
     },
     "metadata": {},
     "output_type": "display_data"
    },
    {
     "data": {
      "text/markdown": [
       "- 🗽 **Attractions:** Eiffel Tower (Entry approx. \\$30, Duration: 2 hrs); Louvre Museum (Entry approx. \\$20, Duration: 3 hrs)"
      ],
      "text/plain": [
       "<IPython.core.display.Markdown object>"
      ]
     },
     "metadata": {},
     "output_type": "display_data"
    },
    {
     "data": {
      "text/markdown": [
       "- 🍽️ **Restaurant:** Le Potager du Marais (Estimated around \\$25)"
      ],
      "text/plain": [
       "<IPython.core.display.Markdown object>"
      ]
     },
     "metadata": {},
     "output_type": "display_data"
    },
    {
     "data": {
      "text/markdown": [
       "- 🛏️ **Motel:** Hotel FIAP Paris (Estimated around \\$40/night)"
      ],
      "text/plain": [
       "<IPython.core.display.Markdown object>"
      ]
     },
     "metadata": {},
     "output_type": "display_data"
    },
    {
     "data": {
      "text/markdown": [
       "- 💰 **Estimated Cost:** $115"
      ],
      "text/plain": [
       "<IPython.core.display.Markdown object>"
      ]
     },
     "metadata": {},
     "output_type": "display_data"
    },
    {
     "data": {
      "text/markdown": [
       "### 🗓️ Day 2"
      ],
      "text/plain": [
       "<IPython.core.display.Markdown object>"
      ]
     },
     "metadata": {},
     "output_type": "display_data"
    },
    {
     "data": {
      "text/markdown": [
       "- 🗽 **Attractions:** Arc de Triomphe (Entry approx. \\$16, Duration: 1.5 hrs); Sainte-Chapelle (Entry approx. \\$13, Duration: 1 hr)"
      ],
      "text/plain": [
       "<IPython.core.display.Markdown object>"
      ]
     },
     "metadata": {},
     "output_type": "display_data"
    },
    {
     "data": {
      "text/markdown": [
       "- 🍽️ **Restaurant:** VG Pâtisserie (Estimated around \\$15)"
      ],
      "text/plain": [
       "<IPython.core.display.Markdown object>"
      ]
     },
     "metadata": {},
     "output_type": "display_data"
    },
    {
     "data": {
      "text/markdown": [
       "- 🛏️ **Motel:** Hotel FIAP Paris (Estimated around \\$40/night)"
      ],
      "text/plain": [
       "<IPython.core.display.Markdown object>"
      ]
     },
     "metadata": {},
     "output_type": "display_data"
    },
    {
     "data": {
      "text/markdown": [
       "- 💰 **Estimated Cost:** $84"
      ],
      "text/plain": [
       "<IPython.core.display.Markdown object>"
      ]
     },
     "metadata": {},
     "output_type": "display_data"
    },
    {
     "data": {
      "text/markdown": [
       "**📝 Notes:** Remaining \\$1 can be used for small snack."
      ],
      "text/plain": [
       "<IPython.core.display.Markdown object>"
      ]
     },
     "metadata": {},
     "output_type": "display_data"
    },
    {
     "data": {
      "text/markdown": [
       "### 💸 **Total Estimated Trip Cost:** $199"
      ],
      "text/plain": [
       "<IPython.core.display.Markdown object>"
      ]
     },
     "metadata": {},
     "output_type": "display_data"
    },
    {
     "data": {
      "text/markdown": [
       "✅ **Remaining Budget:** $1"
      ],
      "text/plain": [
       "<IPython.core.display.Markdown object>"
      ]
     },
     "metadata": {},
     "output_type": "display_data"
    }
   ],
   "source": [
    "# Function to escape markdown-sensitive characters (still useful for other fields)\n",
    "def clean_for_markdown(text):\n",
    "    text = text.replace(\"$\", \"\\\\$\")\n",
    "    text = text.replace(\"_\", \"\\\\_\")\n",
    "    text = text.replace(\"~\", \"\\\\~\")\n",
    "    text = text.replace(\"*\", \"\\\\*\")\n",
    "    text = text.replace(\"`\", \"\\\\`\")\n",
    "    text = re.sub(r\"([a-z])([A-Z])\", r\"\\1 \\2\", text)\n",
    "    return text\n",
    "\n",
    "try:\n",
    "    # Remove ```json or ``` if present\n",
    "    cleaned_text = re.sub(r\"^```(?:json)?|```$\", \"\", response.text.strip(), flags=re.MULTILINE).strip()\n",
    "    cleaned_text = cleaned_text.replace(\"“\", \"\\\"\").replace(\"”\", \"\\\"\").replace(\"’\", \"'\")\n",
    "\n",
    "    itinerary = json.loads(cleaned_text)\n",
    "\n",
    "    display(Markdown(\"## ✈️ Travel Itinerary\"))\n",
    "\n",
    "    total_cost = 0\n",
    "\n",
    "    for day, plan in itinerary.items():\n",
    "        if day.startswith(\"day\"):\n",
    "            # Replace underscores with spaces and title-case the label\n",
    "            day_label = day.replace(\"_\", \" \").title()  # \"day_1\" → \"Day 1\"\n",
    "            display(Markdown(f\"### 🗓️ {day_label}\"))\n",
    "\n",
    "            # Clean each element to escape markdown characters\n",
    "            parsed_attractions = [clean_for_markdown(attraction) for attraction in plan[\"attractions\"]]\n",
    "            parsed_restaurant = clean_for_markdown(plan[\"restaurant\"])\n",
    "            parsed_motel = clean_for_markdown(plan[\"motel\"])\n",
    "\n",
    "            # Display\n",
    "            display(Markdown(f\"- 🗽 **Attractions:** {'; '.join(parsed_attractions)}\"))\n",
    "            display(Markdown(f\"- 🍽️ **Restaurant:** {parsed_restaurant}\"))\n",
    "            display(Markdown(f\"- 🛏️ **Motel:** {parsed_motel}\"))\n",
    "            display(Markdown(f\"- 💰 **Estimated Cost:** ${plan['total_cost']}\"))\n",
    "            total_cost += plan[\"total_cost\"]\n",
    "\n",
    "        elif day == \"notes\":\n",
    "            display(Markdown(f\"**📝 Notes:** {clean_for_markdown(plan)}\"))\n",
    "\n",
    "    # Final budget summary\n",
    "    display(Markdown(f\"### 💸 **Total Estimated Trip Cost:** ${total_cost}\"))\n",
    "    remaining = user_input[\"budget\"] - total_cost\n",
    "\n",
    "    if remaining > 0:\n",
    "        display(Markdown(f\"✅ **Remaining Budget:** ${remaining}\"))\n",
    "    elif remaining < 0:\n",
    "        display(Markdown(f\"⚠️ **Over Budget by:** ${-remaining}\"))\n",
    "    else:\n",
    "        display(Markdown(\"📎 **Used the entire budget perfectly!**\"))\n",
    "\n",
    "except Exception as e:\n",
    "    print(\"❌ Could not parse response as JSON:\", e)\n",
    "    print(\"Raw response:\\n\", response.text)"
   ]
  },
  {
   "cell_type": "markdown",
   "id": "e51f3df7",
   "metadata": {
    "papermill": {
     "duration": 0.008187,
     "end_time": "2025-04-19T17:54:24.322958",
     "exception": false,
     "start_time": "2025-04-19T17:54:24.314771",
     "status": "completed"
    },
    "tags": []
   },
   "source": [
    "---\n",
    "## 3. 🔊 Function Calling with Gemini\n",
    "---\n",
    "Gemini can now *intelligently decide* which Python function to call, based on user queries.\n",
    "\n",
    "We’ll define:\n",
    "- 🔍 A `find_motels` function for matching budget, location\n",
    "- 🍽️ A `find_restaurants` function based on food type\n",
    "- 🎢 A `find_attractions` function based on interests\n",
    "\n",
    "Let’s empower Gemini to become a truly interactive travel assistant!"
   ]
  },
  {
   "cell_type": "code",
   "execution_count": 9,
   "id": "e10cb1d6",
   "metadata": {
    "execution": {
     "iopub.execute_input": "2025-04-19T17:54:24.341689Z",
     "iopub.status.busy": "2025-04-19T17:54:24.340735Z",
     "iopub.status.idle": "2025-04-19T17:54:24.349472Z",
     "shell.execute_reply": "2025-04-19T17:54:24.348522Z"
    },
    "papermill": {
     "duration": 0.019013,
     "end_time": "2025-04-19T17:54:24.350904",
     "exception": false,
     "start_time": "2025-04-19T17:54:24.331891",
     "status": "completed"
    },
    "tags": []
   },
   "outputs": [],
   "source": [
    "# Functions Gemini can call\n",
    "\n",
    "def find_motels(location: str, max_price: float):\n",
    "    return motels[(motels[\"location\"] == location) & (motels[\"price_per_night\"] <= max_price)].to_dict(orient=\"records\")\n",
    "\n",
    "def find_restaurants(location: str, food_type: str):\n",
    "    return restaurants[(restaurants[\"location\"] == location) & (restaurants[\"type\"].str.contains(food_type, case=False))].to_dict(orient=\"records\")\n",
    "\n",
    "def find_attractions(location: str, interest_type: str):\n",
    "    return attractions[(attractions[\"location\"] == location) & (attractions[\"type\"].str.contains(interest_type, case=False))].to_dict(orient=\"records\")\n",
    "\n",
    "def find_budget_restaurants(location: str, max_price_range: str):\n",
    "    price_order = {\"Low\": 1, \"Medium\": 2, \"High\": 3}\n",
    "    max_rank = price_order.get(max_price_range, 3)\n",
    "    return restaurants[\n",
    "        (restaurants[\"location\"] == location) &\n",
    "        (restaurants[\"price_range\"].map(price_order) <= max_rank)\n",
    "    ].to_dict(orient=\"records\")\n",
    "\n",
    "def find_family_friendly_attractions(location: str):\n",
    "    return attractions[\n",
    "        (attractions[\"location\"] == location) &\n",
    "        (attractions[\"type\"].isin([\"Museum\", \"Landmark\"]))\n",
    "    ].to_dict(orient=\"records\")\n",
    "\n",
    "def find_highly_rated_motels(location: str, min_rating: float):\n",
    "    return motels[\n",
    "        (motels[\"location\"] == location) &\n",
    "        (motels[\"rating\"] >= min_rating)\n",
    "    ].to_dict(orient=\"records\")"
   ]
  },
  {
   "cell_type": "markdown",
   "id": "0feec55e",
   "metadata": {
    "papermill": {
     "duration": 0.007702,
     "end_time": "2025-04-19T17:54:24.366726",
     "exception": false,
     "start_time": "2025-04-19T17:54:24.359024",
     "status": "completed"
    },
    "tags": []
   },
   "source": [
    "### ✒️ Define the Function Schema for Gemini\n",
    "---\n",
    "Here we define the function names, descriptions, and parameters Gemini can use to choose what to call. These are sent to Gemini as metadata."
   ]
  },
  {
   "cell_type": "code",
   "execution_count": 10,
   "id": "64124043",
   "metadata": {
    "execution": {
     "iopub.execute_input": "2025-04-19T17:54:24.384098Z",
     "iopub.status.busy": "2025-04-19T17:54:24.383785Z",
     "iopub.status.idle": "2025-04-19T17:54:24.391347Z",
     "shell.execute_reply": "2025-04-19T17:54:24.390414Z"
    },
    "papermill": {
     "duration": 0.0182,
     "end_time": "2025-04-19T17:54:24.392845",
     "exception": false,
     "start_time": "2025-04-19T17:54:24.374645",
     "status": "completed"
    },
    "tags": []
   },
   "outputs": [],
   "source": [
    "functions = [\n",
    "    {\n",
    "        \"name\": \"find_motels\",\n",
    "        \"description\": \"Find budget motels in a specific location.\",\n",
    "        \"parameters\": {\n",
    "            \"type\": \"object\",\n",
    "            \"properties\": {\n",
    "                \"location\": {\"type\": \"string\"},\n",
    "                \"max_price\": {\"type\": \"number\"}\n",
    "            },\n",
    "            \"required\": [\"location\", \"max_price\"]\n",
    "        }\n",
    "    },\n",
    "    {\n",
    "        \"name\": \"find_restaurants\",\n",
    "        \"description\": \"Find restaurants by location and food type.\",\n",
    "        \"parameters\": {\n",
    "            \"type\": \"object\",\n",
    "            \"properties\": {\n",
    "                \"location\": {\"type\": \"string\"},\n",
    "                \"food_type\": {\"type\": \"string\"}\n",
    "            },\n",
    "            \"required\": [\"location\", \"food_type\"]\n",
    "        }\n",
    "    },\n",
    "    {\n",
    "        \"name\": \"find_attractions\",\n",
    "        \"description\": \"Find attractions by location and interest type.\",\n",
    "        \"parameters\": {\n",
    "            \"type\": \"object\",\n",
    "            \"properties\": {\n",
    "                \"location\": {\"type\": \"string\"},\n",
    "                \"interest_type\": {\"type\": \"string\"}\n",
    "            },\n",
    "            \"required\": [\"location\", \"interest_type\"]\n",
    "        }\n",
    "    },\n",
    "    {\n",
    "        \"name\": \"find_budget_restaurants\",\n",
    "        \"description\": \"Find budget restaurants within a maximum price range category (Low, Medium, High).\",\n",
    "        \"parameters\": {\n",
    "            \"type\": \"object\",\n",
    "            \"properties\": {\n",
    "                \"location\": {\"type\": \"string\"},\n",
    "                \"max_price_range\": {\"type\": \"string\", \"enum\": [\"Low\", \"Medium\", \"High\"]}\n",
    "            },\n",
    "            \"required\": [\"location\", \"max_price_range\"]\n",
    "        }\n",
    "    },\n",
    "    {\n",
    "        \"name\": \"find_family_friendly_attractions\",\n",
    "        \"description\": \"Find attractions that are family-friendly, like museums or landmarks.\",\n",
    "        \"parameters\": {\n",
    "            \"type\": \"object\",\n",
    "            \"properties\": {\n",
    "                \"location\": {\"type\": \"string\"}\n",
    "            },\n",
    "            \"required\": [\"location\"]\n",
    "        }\n",
    "    },\n",
    "    {\n",
    "        \"name\": \"find_highly_rated_motels\",\n",
    "        \"description\": \"Find motels above a certain rating.\",\n",
    "        \"parameters\": {\n",
    "            \"type\": \"object\",\n",
    "            \"properties\": {\n",
    "                \"location\": {\"type\": \"string\"},\n",
    "                \"min_rating\": {\"type\": \"number\"}\n",
    "            },\n",
    "            \"required\": [\"location\", \"min_rating\"]\n",
    "        }\n",
    "    }\n",
    "]"
   ]
  },
  {
   "cell_type": "markdown",
   "id": "0b8bf991",
   "metadata": {
    "papermill": {
     "duration": 0.008301,
     "end_time": "2025-04-19T17:54:24.409311",
     "exception": false,
     "start_time": "2025-04-19T17:54:24.401010",
     "status": "completed"
    },
    "tags": []
   },
   "source": [
    "### ⚙️ Loading Gemini with Function Calling Enabled\n",
    "---"
   ]
  },
  {
   "cell_type": "code",
   "execution_count": 11,
   "id": "84a36ba9",
   "metadata": {
    "execution": {
     "iopub.execute_input": "2025-04-19T17:54:24.426902Z",
     "iopub.status.busy": "2025-04-19T17:54:24.426569Z",
     "iopub.status.idle": "2025-04-19T17:54:24.432320Z",
     "shell.execute_reply": "2025-04-19T17:54:24.431575Z"
    },
    "papermill": {
     "duration": 0.015932,
     "end_time": "2025-04-19T17:54:24.433723",
     "exception": false,
     "start_time": "2025-04-19T17:54:24.417791",
     "status": "completed"
    },
    "tags": []
   },
   "outputs": [],
   "source": [
    "model_fc = genai.GenerativeModel(\n",
    "    model_name=\"gemini-1.5-flash\",\n",
    "    tools=[{\"function_declarations\": functions}]\n",
    ")"
   ]
  },
  {
   "cell_type": "markdown",
   "id": "a7df8730",
   "metadata": {
    "papermill": {
     "duration": 0.007854,
     "end_time": "2025-04-19T17:54:24.449716",
     "exception": false,
     "start_time": "2025-04-19T17:54:24.441862",
     "status": "completed"
    },
    "tags": []
   },
   "source": [
    "### 💬 Ask Your Custom Travel Query!\n",
    "---\n",
    "Try asking things like:\n",
    "- “Show me motels in Paris under $50”\n",
    "- “Find vegetarian restaurants in Paris”\n",
    "- “What museums can I visit in Paris?”\n",
    "\n",
    "Gemini will choose the right function automatically!\n",
    "\n",
    "---\n",
    "<h4>🔧| How to Make the Code Interactive</h4>\n",
    "\n",
    "To make the query interactive, uncomment the line containing `input()` below. This will prompt you to enter your own travel query when you run the cell.\n",
    "\n",
    "By default, it’s set to a sample query. If you want to test it with your own query, simply uncomment the line and run the cell again.\n",
    "\n",
    "Example: `# user_query = input(\"💬 Enter your travel query: \")` - remove '#' to run and test the chatbot.\n",
    "\n",
    "---\n",
    "⚠️ **Note for Kaggle Users: Save Without Crashes**\n",
    "\n",
    "This cell block below uses `input()` and Gemini chat, which will throw an error if you click **\"Save & Run All\"** in Kaggle.\n",
    "\n",
    "To avoid this, do the following:\n",
    "\n",
    "- Comment this line: `user_query = \"What museums can I visit in Paris?\"  # Default query` if you want to enter your query manually.\n",
    "- Uncomment this line: `# user_query = input(\"💬 Enter your travel query: \")  # Uncomment for interactive input` to run and test the chatbot.\n",
    "\n",
    "Only run the chatbot **manually**, not during \"Save & Run All\"."
   ]
  },
  {
   "cell_type": "code",
   "execution_count": 12,
   "id": "f9835523",
   "metadata": {
    "execution": {
     "iopub.execute_input": "2025-04-19T17:54:24.467232Z",
     "iopub.status.busy": "2025-04-19T17:54:24.466698Z",
     "iopub.status.idle": "2025-04-19T17:54:25.068137Z",
     "shell.execute_reply": "2025-04-19T17:54:25.067054Z"
    },
    "papermill": {
     "duration": 0.611894,
     "end_time": "2025-04-19T17:54:25.069779",
     "exception": false,
     "start_time": "2025-04-19T17:54:24.457885",
     "status": "completed"
    },
    "tags": []
   },
   "outputs": [
    {
     "name": "stdout",
     "output_type": "stream",
     "text": [
      "🧠 Function to Call: find_attractions\n",
      "📦 Arguments: {'location': 'Paris', 'interest_type': 'museum'}\n",
      "🔎 Gemini's Results:\n",
      "\n",
      "Result #1\n",
      "- Name: Louvre Museum\n",
      "- Location: Paris\n",
      "- Type: Museum\n",
      "- Duration: 3 hours\n"
     ]
    }
   ],
   "source": [
    "# 🔄 Gemini Chat Start\n",
    "chat = model_fc.start_chat()\n",
    "\n",
    "# 🔄 Interactive Query\n",
    "user_query = \"What museums can I visit in Paris?\"  # Default query\n",
    "# user_query = input(\"💬 Enter your travel query: \")  # Uncomment for interactive input\n",
    "\n",
    "# Send it to Gemini\n",
    "response = chat.send_message(user_query)\n",
    "\n",
    "if response.candidates[0].content.parts:\n",
    "    result = response.candidates[0].content.parts[0].function_call\n",
    "    print(\"🧠 Function to Call:\", result.name)\n",
    "\n",
    "    # Convert args to dict (Safe fix for notebook)\n",
    "    try:\n",
    "        args_dict = {k: v for k, v in result.args.items()}\n",
    "        print(\"📦 Arguments:\", args_dict)\n",
    "    except Exception as e:\n",
    "        print(f\"❌ Error converting arguments: {e}\")\n",
    "        args_dict = {}\n",
    "\n",
    "    # Call the corresponding Python function\n",
    "    if result.name == \"find_motels\":\n",
    "        output = find_motels(**args_dict)\n",
    "    elif result.name == \"find_restaurants\":\n",
    "        output = find_restaurants(**args_dict)\n",
    "    elif result.name == \"find_attractions\":\n",
    "        output = find_attractions(**args_dict)\n",
    "    else:\n",
    "        output = []\n",
    "\n",
    "    # Display results\n",
    "    if output:\n",
    "        print(\"🔎 Gemini's Results:\")\n",
    "        for i, entry in enumerate(output, 1):\n",
    "            print(f\"\\nResult #{i}\")\n",
    "            for k, v in entry.items():\n",
    "                print(f\"- {k.capitalize()}: {v}\")\n",
    "    else:\n",
    "        print(\"🤷 No matching results found.\")\n",
    "else:\n",
    "    print(\"❌ Gemini didn’t suggest a function to call.\")"
   ]
  },
  {
   "cell_type": "markdown",
   "id": "6d5caa54",
   "metadata": {
    "papermill": {
     "duration": 0.007625,
     "end_time": "2025-04-19T17:54:25.085633",
     "exception": false,
     "start_time": "2025-04-19T17:54:25.078008",
     "status": "completed"
    },
    "tags": []
   },
   "source": [
    "---\n",
    "### 📄 Upload Travel Brochures & Guides\n",
    "---\n",
    "📂 Upload PDFs like rome_guide.pdf, paris_brochure.pdf to your Kaggle notebook directory.\n",
    "\n",
    "✏️ Replace the filenames list with your uploaded file names below 👇🏼"
   ]
  },
  {
   "cell_type": "code",
   "execution_count": 13,
   "id": "43ca23c8",
   "metadata": {
    "execution": {
     "iopub.execute_input": "2025-04-19T17:54:25.102307Z",
     "iopub.status.busy": "2025-04-19T17:54:25.101989Z",
     "iopub.status.idle": "2025-04-19T17:54:25.632869Z",
     "shell.execute_reply": "2025-04-19T17:54:25.631863Z"
    },
    "papermill": {
     "duration": 0.541043,
     "end_time": "2025-04-19T17:54:25.634306",
     "exception": false,
     "start_time": "2025-04-19T17:54:25.093263",
     "status": "completed"
    },
    "tags": []
   },
   "outputs": [
    {
     "name": "stdout",
     "output_type": "stream",
     "text": [
      "✅ Extracted 75 chunks from 3 files.\n"
     ]
    }
   ],
   "source": [
    "# List your travel brochure PDF files here\n",
    "filenames = [\"/kaggle/input/travel-brochures/Japan.pdf\", \"/kaggle/input/travel-brochures/Malaysia.pdf\", \"/kaggle/input/travel-brochures/Thailand.pdf\"]  # Replace with your own uploaded PDFs\n",
    "\n",
    "# Helper function to extract all text from PDFs using PyMuPDF\n",
    "def extract_text_from_pdfs(pdf_files):\n",
    "    text_chunks = []\n",
    "    for file in pdf_files:\n",
    "        with fitz.open(file) as doc:\n",
    "            for page in doc:\n",
    "                text = page.get_text()\n",
    "                # Chunking: Split into small parts (~500 words)\n",
    "                words = text.split()\n",
    "                for i in range(0, len(words), 500):\n",
    "                    chunk = \" \".join(words[i:i+500])\n",
    "                    text_chunks.append(chunk)\n",
    "    return text_chunks\n",
    "\n",
    "# Extract text from the uploaded PDFs\n",
    "pdf_chunks = extract_text_from_pdfs(filenames)\n",
    "\n",
    "print(f\"✅ Extracted {len(pdf_chunks)} chunks from {len(filenames)} files.\")"
   ]
  },
  {
   "cell_type": "markdown",
   "id": "66635be7",
   "metadata": {
    "papermill": {
     "duration": 0.008047,
     "end_time": "2025-04-19T17:54:25.650981",
     "exception": false,
     "start_time": "2025-04-19T17:54:25.642934",
     "status": "completed"
    },
    "tags": []
   },
   "source": [
    "## 4. 📊 Generate Embeddings + Build FAISS Index\n",
    "---\n",
    "We’ll embed all chunks using Gemini’s embedding API, then build a FAISS index to enable similarity search."
   ]
  },
  {
   "cell_type": "code",
   "execution_count": 14,
   "id": "a6d6133a",
   "metadata": {
    "execution": {
     "iopub.execute_input": "2025-04-19T17:54:25.668252Z",
     "iopub.status.busy": "2025-04-19T17:54:25.667941Z",
     "iopub.status.idle": "2025-04-19T17:54:47.619823Z",
     "shell.execute_reply": "2025-04-19T17:54:47.618889Z"
    },
    "papermill": {
     "duration": 21.962225,
     "end_time": "2025-04-19T17:54:47.621187",
     "exception": false,
     "start_time": "2025-04-19T17:54:25.658962",
     "status": "completed"
    },
    "tags": []
   },
   "outputs": [
    {
     "name": "stdout",
     "output_type": "stream",
     "text": [
      "✅ FAISS index built with 75 chunks.\n"
     ]
    }
   ],
   "source": [
    "# Load the embedding model\n",
    "embedding_model = \"models/embedding-001\"\n",
    "\n",
    "# Embed all PDF text chunks\n",
    "pdf_embeddings = []\n",
    "for chunk in pdf_chunks:\n",
    "    response = genai.embed_content(model=embedding_model, content=chunk)\n",
    "    pdf_embeddings.append(response[\"embedding\"])\n",
    "\n",
    "# Convert to numpy array for FAISS\n",
    "embedding_matrix = np.array(pdf_embeddings).astype(\"float32\")\n",
    "\n",
    "# Build the FAISS index\n",
    "index = faiss.IndexFlatL2(embedding_matrix.shape[1])\n",
    "index.add(embedding_matrix)\n",
    "\n",
    "print(\"✅ FAISS index built with\", index.ntotal, \"chunks.\")"
   ]
  },
  {
   "cell_type": "markdown",
   "id": "4c28857f",
   "metadata": {
    "papermill": {
     "duration": 0.007566,
     "end_time": "2025-04-19T17:54:47.636940",
     "exception": false,
     "start_time": "2025-04-19T17:54:47.629374",
     "status": "completed"
    },
    "tags": []
   },
   "source": [
    "## 5. 🗣️ Ask Questions Based on Brochure PDFs (RAG)\n",
    "---\n",
    "You can now ask Gemini any question related to the brochure PDFs you uploaded.\n",
    "We’ll search the most relevant chunks using FAISS, then pass them to Gemini to answer.\n",
    "\n",
    "You can change the question below to test custom ones 👇🏼\n",
    "\n",
    "---\n",
    "<h4>🔧| How to Make the Code Interactive</h4>\n",
    "\n",
    "To make the query interactive, uncomment the line containing `input()` below. This will prompt you to enter your own travel query when you run the cell.\n",
    "\n",
    "By default, it’s set to a sample query. If you want to test it with your own query, simply uncomment the line and run the cell again.\n",
    "\n",
    "Example: `# question = input(\"💬 Enter your travel query: \")` - remove '#' to run and test the chatbot.\n",
    "\n",
    "---\n",
    "⚠️ **Note for Kaggle Users: Save Without Crashes**\n",
    "\n",
    "This cell block below uses `input()` and Gemini chat, which will throw an error if you click **\"Save & Run All\"** in Kaggle.\n",
    "\n",
    "To avoid this, do the following:\n",
    "\n",
    "- Comment this line: `question = \"What are some historical places to visit in Japan?\" # Default Query` if you want to enter your query manually.\n",
    "- Uncomment this line: `# question = input(\"💬 Enter your travel query: \")  # Uncomment for interactive input` to run and test the chatbot.\n",
    "\n",
    "Only run the chatbot **manually**, not during \"Save & Run All\"."
   ]
  },
  {
   "cell_type": "code",
   "execution_count": 15,
   "id": "7972974f",
   "metadata": {
    "execution": {
     "iopub.execute_input": "2025-04-19T17:54:47.653865Z",
     "iopub.status.busy": "2025-04-19T17:54:47.653308Z",
     "iopub.status.idle": "2025-04-19T17:54:49.007105Z",
     "shell.execute_reply": "2025-04-19T17:54:49.005927Z"
    },
    "papermill": {
     "duration": 1.364083,
     "end_time": "2025-04-19T17:54:49.008753",
     "exception": false,
     "start_time": "2025-04-19T17:54:47.644670",
     "status": "completed"
    },
    "tags": []
   },
   "outputs": [
    {
     "name": "stdout",
     "output_type": "stream",
     "text": [
      "💬 Gemini's Answer:\n",
      "\n",
      "Based on the brochure, here are some historical places to visit in Japan:\n",
      "\n",
      "*   **Matsumoto:** Famed for its Matsumoto Castle, one of Japan’s oldest fortresses.\n",
      "*   **Takayama:** Home to the historic village of Shirakawa-go, a UNESCO World Heritage Site that showcases ancient architectures and customs.\n",
      "*   **Nara:** Home to many age-old cultural values and Nara Park.\n",
      "*   **Kyoto:** The former capital until 1867, it is regarded as the soul of Japan with innumerable sacred temples and shrines and owns 17 UNESCO World Heritage Sites.\n",
      "*   **Kanazawa:** Offers an abundance of intact historic treasures.\n",
      "\n"
     ]
    }
   ],
   "source": [
    "# ✅ Change this to ask your own brochure-related question\n",
    "\n",
    "question = \"What are some historical places to visit in Japan?\" # Default Query\n",
    "# question = input(\"💬 Enter your travel query: \")  # Uncomment for interactive input\n",
    "\n",
    "# 🔍 Step 1: Embed your question\n",
    "query_embedding = genai.embed_content(model=embedding_model, content=question)[\"embedding\"]\n",
    "query_vector = np.array(query_embedding).astype(\"float32\").reshape(1, -1)\n",
    "\n",
    "# 🔍 Step 2: Perform similarity search\n",
    "k = 3  # Retrieve top 3 similar chunks\n",
    "_, indices = index.search(query_vector, k)\n",
    "\n",
    "# 🔍 Step 3: Retrieve top chunks\n",
    "retrieved_chunks = [pdf_chunks[i] for i in indices[0]]\n",
    "\n",
    "# 🔍 Step 4: Construct prompt with relevant chunks\n",
    "rag_prompt = f\"\"\"\n",
    "You are a helpful travel assistant. Based on the travel brochure content below, answer the user's question.\n",
    "\n",
    "Brochure Extracts:\n",
    "---\\n{retrieved_chunks[0]}\\n---\\n{retrieved_chunks[1]}\\n---\\n{retrieved_chunks[2]}\\n---\n",
    "\n",
    "Question: {question}\n",
    "\n",
    "Answer:\"\"\"\n",
    "\n",
    "# 🔍 Step 5: Ask Gemini using RAG context\n",
    "rag_response = model.generate_content(rag_prompt)\n",
    "print(\"💬 Gemini's Answer:\\n\")\n",
    "print(rag_response.text)"
   ]
  },
  {
   "cell_type": "markdown",
   "id": "ff950c99",
   "metadata": {
    "papermill": {
     "duration": 0.008016,
     "end_time": "2025-04-19T17:54:49.025480",
     "exception": false,
     "start_time": "2025-04-19T17:54:49.017464",
     "status": "completed"
    },
    "tags": []
   },
   "source": [
    "---\n",
    "## 🪶 Conclusion\n",
    "\n",
    "**AI-Venture** reimagines how we plan travel using the power of **Generative AI**—combining prompt engineering, Retrieval-Augmented Generation (RAG), and structured function-calling to craft smart, budget-friendly, and highly personalized travel experiences.\n",
    "\n",
    "---\n",
    "\n",
    "### 🔑 Key Achievements\n",
    "\n",
    "🧭 **Personalized Travel Companion**  \n",
    "A dynamic tool that adapts to user preferences like location, budget, and duration to create bespoke itineraries.\n",
    "\n",
    "⚙️ **Advanced Gen AI Stack**  \n",
    "Leverages Gemini’s function calling, embedding models, and FAISS to power intelligent retrieval and response.\n",
    "\n",
    "🧾 **Clean UX & Transparent Logic**  \n",
    "Well-structured code, consistent markdown styling, and clear logic flow for enhanced readability and accessibility.\n",
    "\n",
    "🌍 **Real-World Application**  \n",
    "Reduces reliance on expensive travel agencies or scattered research by offering AI-powered travel insights.\n",
    "\n",
    "---\n",
    "\n",
    "### 🚀 Future Improvements\n",
    "\n",
    "📈 **Smarter Cost Breakdown**  \n",
    "Add daily cost splits, transportation options, and estimated timings to make plans more actionable.\n",
    "\n",
    "🎒 **Dynamic Itinerary Adjustments**  \n",
    "Allow users to refine itineraries based on changes in budget, weather, or preferences in real time.\n",
    "\n",
    "📌 **Geo-tagged Attraction Mapping**  \n",
    "Visualize suggested places on interactive maps to assist with better planning and logistics.\n",
    "\n",
    "🗣 **Voice + Multilingual Support**  \n",
    "Introduce voice input/output and multi-language support for broader accessibility and inclusivity.\n",
    "\n",
    "---\n",
    "\n",
    "✨ Whether you're planning a quick weekend getaway or a cross-country backpacking trip, **AI-Venture** is designed to be your go-to AI-powered travel companion.\n",
    "\n",
    "---"
   ]
  }
 ],
 "metadata": {
  "kaggle": {
   "accelerator": "none",
   "dataSources": [
    {
     "sourceId": 97258,
     "sourceType": "competition"
    },
    {
     "datasetId": 7186668,
     "sourceId": 11468140,
     "sourceType": "datasetVersion"
    }
   ],
   "dockerImageVersionId": 31012,
   "isGpuEnabled": false,
   "isInternetEnabled": true,
   "language": "python",
   "sourceType": "notebook"
  },
  "kernelspec": {
   "display_name": "Python 3",
   "language": "python",
   "name": "python3"
  },
  "language_info": {
   "codemirror_mode": {
    "name": "ipython",
    "version": 3
   },
   "file_extension": ".py",
   "mimetype": "text/x-python",
   "name": "python",
   "nbconvert_exporter": "python",
   "pygments_lexer": "ipython3",
   "version": "3.11.11"
  },
  "papermill": {
   "default_parameters": {},
   "duration": 67.124643,
   "end_time": "2025-04-19T17:54:52.137771",
   "environment_variables": {},
   "exception": null,
   "input_path": "__notebook__.ipynb",
   "output_path": "__notebook__.ipynb",
   "parameters": {},
   "start_time": "2025-04-19T17:53:45.013128",
   "version": "2.6.0"
  }
 },
 "nbformat": 4,
 "nbformat_minor": 5
}
